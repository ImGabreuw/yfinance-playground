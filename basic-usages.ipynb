{
 "cells": [
  {
   "cell_type": "code",
   "execution_count": 67,
   "id": "initial_id",
   "metadata": {
    "ExecuteTime": {
     "end_time": "2023-08-03T01:45:40.347946223Z",
     "start_time": "2023-08-03T01:45:34.930748030Z"
    },
    "collapsed": true
   },
   "outputs": [],
   "source": [
    "!pip install --upgrade pip -q\n",
    "!pip install yfinance -q\n",
    "!pip install pandas -q\n",
    "!pip install plotly -q"
   ]
  },
  {
   "cell_type": "code",
   "execution_count": 68,
   "id": "427af9825919c995",
   "metadata": {
    "ExecuteTime": {
     "end_time": "2023-08-03T01:45:40.360214913Z",
     "start_time": "2023-08-03T01:45:40.348168277Z"
    },
    "collapsed": false
   },
   "outputs": [],
   "source": [
    "import yfinance as yf\n",
    "import plotly.express as px\n",
    "import plotly.graph_objects as go\n",
    "import pandas as pd"
   ]
  },
  {
   "cell_type": "markdown",
   "id": "7196d4e4b2ae1343",
   "metadata": {
    "collapsed": false
   },
   "source": [
    "# Brazilian Stocks"
   ]
  },
  {
   "cell_type": "markdown",
   "id": "6808fd39fe610d3b",
   "metadata": {
    "collapsed": false
   },
   "source": [
    "### Historical market data"
   ]
  },
  {
   "cell_type": "code",
   "execution_count": 3,
   "id": "3a468ed1dadb1d2f",
   "metadata": {
    "ExecuteTime": {
     "end_time": "2023-08-03T01:41:45.647661999Z",
     "start_time": "2023-08-03T01:41:45.642008485Z"
    },
    "collapsed": false
   },
   "outputs": [],
   "source": [
    "bbas3 = yf.Ticker(\"BBAS3.SA\")"
   ]
  },
  {
   "cell_type": "code",
   "execution_count": 4,
   "id": "40b0aaf7927a6583",
   "metadata": {
    "ExecuteTime": {
     "end_time": "2023-08-03T01:41:46.071322744Z",
     "start_time": "2023-08-03T01:41:45.644677512Z"
    },
    "collapsed": false
   },
   "outputs": [
    {
     "data": {
      "text/html": [
       "<div>\n",
       "<style scoped>\n",
       "    .dataframe tbody tr th:only-of-type {\n",
       "        vertical-align: middle;\n",
       "    }\n",
       "\n",
       "    .dataframe tbody tr th {\n",
       "        vertical-align: top;\n",
       "    }\n",
       "\n",
       "    .dataframe thead th {\n",
       "        text-align: right;\n",
       "    }\n",
       "</style>\n",
       "<table border=\"1\" class=\"dataframe\">\n",
       "  <thead>\n",
       "    <tr style=\"text-align: right;\">\n",
       "      <th></th>\n",
       "      <th>Open</th>\n",
       "      <th>High</th>\n",
       "      <th>Low</th>\n",
       "      <th>Close</th>\n",
       "      <th>Volume</th>\n",
       "      <th>Dividends</th>\n",
       "      <th>Stock Splits</th>\n",
       "    </tr>\n",
       "    <tr>\n",
       "      <th>Date</th>\n",
       "      <th></th>\n",
       "      <th></th>\n",
       "      <th></th>\n",
       "      <th></th>\n",
       "      <th></th>\n",
       "      <th></th>\n",
       "      <th></th>\n",
       "    </tr>\n",
       "  </thead>\n",
       "  <tbody>\n",
       "    <tr>\n",
       "      <th>2022-08-04 00:00:00-03:00</th>\n",
       "      <td>33.955545</td>\n",
       "      <td>34.353497</td>\n",
       "      <td>33.779706</td>\n",
       "      <td>34.334988</td>\n",
       "      <td>11649100</td>\n",
       "      <td>0.0</td>\n",
       "      <td>0.0</td>\n",
       "    </tr>\n",
       "    <tr>\n",
       "      <th>2022-08-05 00:00:00-03:00</th>\n",
       "      <td>34.334987</td>\n",
       "      <td>35.010584</td>\n",
       "      <td>34.196168</td>\n",
       "      <td>34.973564</td>\n",
       "      <td>10877000</td>\n",
       "      <td>0.0</td>\n",
       "      <td>0.0</td>\n",
       "    </tr>\n",
       "    <tr>\n",
       "      <th>2022-08-08 00:00:00-03:00</th>\n",
       "      <td>35.121640</td>\n",
       "      <td>36.185930</td>\n",
       "      <td>34.945799</td>\n",
       "      <td>36.074875</td>\n",
       "      <td>19478800</td>\n",
       "      <td>0.0</td>\n",
       "      <td>0.0</td>\n",
       "    </tr>\n",
       "    <tr>\n",
       "      <th>2022-08-09 00:00:00-03:00</th>\n",
       "      <td>36.185931</td>\n",
       "      <td>36.963327</td>\n",
       "      <td>35.936057</td>\n",
       "      <td>36.676434</td>\n",
       "      <td>17336300</td>\n",
       "      <td>0.0</td>\n",
       "      <td>0.0</td>\n",
       "    </tr>\n",
       "    <tr>\n",
       "      <th>2022-08-10 00:00:00-03:00</th>\n",
       "      <td>36.944816</td>\n",
       "      <td>37.166931</td>\n",
       "      <td>36.694942</td>\n",
       "      <td>36.991093</td>\n",
       "      <td>14157900</td>\n",
       "      <td>0.0</td>\n",
       "      <td>0.0</td>\n",
       "    </tr>\n",
       "    <tr>\n",
       "      <th>...</th>\n",
       "      <td>...</td>\n",
       "      <td>...</td>\n",
       "      <td>...</td>\n",
       "      <td>...</td>\n",
       "      <td>...</td>\n",
       "      <td>...</td>\n",
       "      <td>...</td>\n",
       "    </tr>\n",
       "    <tr>\n",
       "      <th>2023-07-28 00:00:00-03:00</th>\n",
       "      <td>47.130001</td>\n",
       "      <td>47.570000</td>\n",
       "      <td>46.860001</td>\n",
       "      <td>47.279999</td>\n",
       "      <td>7276100</td>\n",
       "      <td>0.0</td>\n",
       "      <td>0.0</td>\n",
       "    </tr>\n",
       "    <tr>\n",
       "      <th>2023-07-31 00:00:00-03:00</th>\n",
       "      <td>47.599998</td>\n",
       "      <td>48.320000</td>\n",
       "      <td>47.480000</td>\n",
       "      <td>48.189999</td>\n",
       "      <td>10389900</td>\n",
       "      <td>0.0</td>\n",
       "      <td>0.0</td>\n",
       "    </tr>\n",
       "    <tr>\n",
       "      <th>2023-08-01 00:00:00-03:00</th>\n",
       "      <td>47.919998</td>\n",
       "      <td>48.029999</td>\n",
       "      <td>46.939999</td>\n",
       "      <td>47.360001</td>\n",
       "      <td>12680100</td>\n",
       "      <td>0.0</td>\n",
       "      <td>0.0</td>\n",
       "    </tr>\n",
       "    <tr>\n",
       "      <th>2023-08-02 00:00:00-03:00</th>\n",
       "      <td>47.259998</td>\n",
       "      <td>47.759998</td>\n",
       "      <td>47.099998</td>\n",
       "      <td>47.570000</td>\n",
       "      <td>5602000</td>\n",
       "      <td>0.0</td>\n",
       "      <td>0.0</td>\n",
       "    </tr>\n",
       "    <tr>\n",
       "      <th>2023-08-04 00:00:00-03:00</th>\n",
       "      <td>47.500000</td>\n",
       "      <td>47.959999</td>\n",
       "      <td>47.049999</td>\n",
       "      <td>47.400002</td>\n",
       "      <td>11457000</td>\n",
       "      <td>0.0</td>\n",
       "      <td>0.0</td>\n",
       "    </tr>\n",
       "  </tbody>\n",
       "</table>\n",
       "<p>250 rows × 7 columns</p>\n",
       "</div>"
      ],
      "text/plain": [
       "                                Open       High        Low      Close  \\\n",
       "Date                                                                    \n",
       "2022-08-04 00:00:00-03:00  33.955545  34.353497  33.779706  34.334988   \n",
       "2022-08-05 00:00:00-03:00  34.334987  35.010584  34.196168  34.973564   \n",
       "2022-08-08 00:00:00-03:00  35.121640  36.185930  34.945799  36.074875   \n",
       "2022-08-09 00:00:00-03:00  36.185931  36.963327  35.936057  36.676434   \n",
       "2022-08-10 00:00:00-03:00  36.944816  37.166931  36.694942  36.991093   \n",
       "...                              ...        ...        ...        ...   \n",
       "2023-07-28 00:00:00-03:00  47.130001  47.570000  46.860001  47.279999   \n",
       "2023-07-31 00:00:00-03:00  47.599998  48.320000  47.480000  48.189999   \n",
       "2023-08-01 00:00:00-03:00  47.919998  48.029999  46.939999  47.360001   \n",
       "2023-08-02 00:00:00-03:00  47.259998  47.759998  47.099998  47.570000   \n",
       "2023-08-04 00:00:00-03:00  47.500000  47.959999  47.049999  47.400002   \n",
       "\n",
       "                             Volume  Dividends  Stock Splits  \n",
       "Date                                                          \n",
       "2022-08-04 00:00:00-03:00  11649100        0.0           0.0  \n",
       "2022-08-05 00:00:00-03:00  10877000        0.0           0.0  \n",
       "2022-08-08 00:00:00-03:00  19478800        0.0           0.0  \n",
       "2022-08-09 00:00:00-03:00  17336300        0.0           0.0  \n",
       "2022-08-10 00:00:00-03:00  14157900        0.0           0.0  \n",
       "...                             ...        ...           ...  \n",
       "2023-07-28 00:00:00-03:00   7276100        0.0           0.0  \n",
       "2023-07-31 00:00:00-03:00  10389900        0.0           0.0  \n",
       "2023-08-01 00:00:00-03:00  12680100        0.0           0.0  \n",
       "2023-08-02 00:00:00-03:00   5602000        0.0           0.0  \n",
       "2023-08-04 00:00:00-03:00  11457000        0.0           0.0  \n",
       "\n",
       "[250 rows x 7 columns]"
      ]
     },
     "execution_count": 4,
     "metadata": {},
     "output_type": "execute_result"
    }
   ],
   "source": [
    "bbas3.history(period=\"1y\")"
   ]
  },
  {
   "cell_type": "markdown",
   "id": "5dff5665f19de597",
   "metadata": {
    "collapsed": false
   },
   "source": [
    "### Get real time quotation"
   ]
  },
  {
   "cell_type": "code",
   "execution_count": 5,
   "id": "d1f889d7be3213a5",
   "metadata": {
    "ExecuteTime": {
     "end_time": "2023-08-03T01:41:46.564820164Z",
     "start_time": "2023-08-03T01:41:46.074046794Z"
    },
    "collapsed": false
   },
   "outputs": [
    {
     "data": {
      "text/plain": [
       "47.4"
      ]
     },
     "execution_count": 5,
     "metadata": {},
     "output_type": "execute_result"
    }
   ],
   "source": [
    "bbas3 = yf.Ticker(\"BBAS3.SA\")\n",
    "bbas3.info[\"currentPrice\"]"
   ]
  },
  {
   "cell_type": "markdown",
   "id": "2fb8e149de12f804",
   "metadata": {
    "collapsed": false
   },
   "source": [
    "### Get financials data"
   ]
  },
  {
   "cell_type": "code",
   "execution_count": 6,
   "id": "c7022ff9119ec20f",
   "metadata": {
    "ExecuteTime": {
     "end_time": "2023-08-03T01:41:46.941724822Z",
     "start_time": "2023-08-03T01:41:46.565054101Z"
    },
    "collapsed": false
   },
   "outputs": [
    {
     "data": {
      "text/html": [
       "<div>\n",
       "<style scoped>\n",
       "    .dataframe tbody tr th:only-of-type {\n",
       "        vertical-align: middle;\n",
       "    }\n",
       "\n",
       "    .dataframe tbody tr th {\n",
       "        vertical-align: top;\n",
       "    }\n",
       "\n",
       "    .dataframe thead th {\n",
       "        text-align: right;\n",
       "    }\n",
       "</style>\n",
       "<table border=\"1\" class=\"dataframe\">\n",
       "  <thead>\n",
       "    <tr style=\"text-align: right;\">\n",
       "      <th></th>\n",
       "      <th>2022-12-31</th>\n",
       "      <th>2021-12-31</th>\n",
       "      <th>2020-12-31</th>\n",
       "      <th>2019-12-31</th>\n",
       "    </tr>\n",
       "  </thead>\n",
       "  <tbody>\n",
       "    <tr>\n",
       "      <th>Tax Effect Of Unusual Items</th>\n",
       "      <td>-10182.354953</td>\n",
       "      <td>-150575245.208646</td>\n",
       "      <td>0.0</td>\n",
       "      <td>896387560.0</td>\n",
       "    </tr>\n",
       "    <tr>\n",
       "      <th>Tax Rate For Calcs</th>\n",
       "      <td>0.199654</td>\n",
       "      <td>0.156975</td>\n",
       "      <td>0.100966</td>\n",
       "      <td>0.34</td>\n",
       "    </tr>\n",
       "    <tr>\n",
       "      <th>Total Unusual Items</th>\n",
       "      <td>-51000.0</td>\n",
       "      <td>-959231000.0</td>\n",
       "      <td>0.0</td>\n",
       "      <td>2636434000.0</td>\n",
       "    </tr>\n",
       "    <tr>\n",
       "      <th>Total Unusual Items Excluding Goodwill</th>\n",
       "      <td>-51000.0</td>\n",
       "      <td>-959231000.0</td>\n",
       "      <td>0.0</td>\n",
       "      <td>2636434000.0</td>\n",
       "    </tr>\n",
       "    <tr>\n",
       "      <th>Net Income From Continuing Operation Net Minority Interest</th>\n",
       "      <td>34980015000.0</td>\n",
       "      <td>22246235000.0</td>\n",
       "      <td>14265956000.0</td>\n",
       "      <td>20499810000.0</td>\n",
       "    </tr>\n",
       "    <tr>\n",
       "      <th>Reconciled Depreciation</th>\n",
       "      <td>2833098000.0</td>\n",
       "      <td>2828694000.0</td>\n",
       "      <td>3155206000.0</td>\n",
       "      <td>3039597000.0</td>\n",
       "    </tr>\n",
       "    <tr>\n",
       "      <th>Net Interest Income</th>\n",
       "      <td>82269433000.0</td>\n",
       "      <td>61059752000.0</td>\n",
       "      <td>47067310000.0</td>\n",
       "      <td>53124090000.0</td>\n",
       "    </tr>\n",
       "    <tr>\n",
       "      <th>Interest Expense</th>\n",
       "      <td>158439298000.0</td>\n",
       "      <td>70609855000.0</td>\n",
       "      <td>71862593000.0</td>\n",
       "      <td>71652572000.0</td>\n",
       "    </tr>\n",
       "    <tr>\n",
       "      <th>Interest Income</th>\n",
       "      <td>240708731000.0</td>\n",
       "      <td>131669607000.0</td>\n",
       "      <td>118929903000.0</td>\n",
       "      <td>124776662000.0</td>\n",
       "    </tr>\n",
       "    <tr>\n",
       "      <th>Normalized Income</th>\n",
       "      <td>34980055817.64505</td>\n",
       "      <td>23054890754.791355</td>\n",
       "      <td>14265956000.0</td>\n",
       "      <td>18759763560.0</td>\n",
       "    </tr>\n",
       "    <tr>\n",
       "      <th>Net Income From Continuing And Discontinued Operation</th>\n",
       "      <td>34980015000.0</td>\n",
       "      <td>22246235000.0</td>\n",
       "      <td>14265956000.0</td>\n",
       "      <td>20499810000.0</td>\n",
       "    </tr>\n",
       "    <tr>\n",
       "      <th>Diluted Average Shares</th>\n",
       "      <td>2853771411.0</td>\n",
       "      <td>2853577258.0</td>\n",
       "      <td>2852522381.0</td>\n",
       "      <td>2799325330.0</td>\n",
       "    </tr>\n",
       "    <tr>\n",
       "      <th>Basic Average Shares</th>\n",
       "      <td>2853771411.0</td>\n",
       "      <td>2853577258.0</td>\n",
       "      <td>2852522381.0</td>\n",
       "      <td>2799325330.0</td>\n",
       "    </tr>\n",
       "    <tr>\n",
       "      <th>Diluted EPS</th>\n",
       "      <td>10.79</td>\n",
       "      <td>6.86</td>\n",
       "      <td>4.39</td>\n",
       "      <td>6.39</td>\n",
       "    </tr>\n",
       "    <tr>\n",
       "      <th>Basic EPS</th>\n",
       "      <td>10.79</td>\n",
       "      <td>6.86</td>\n",
       "      <td>4.39</td>\n",
       "      <td>6.39</td>\n",
       "    </tr>\n",
       "    <tr>\n",
       "      <th>Diluted NI Availto Com Stockholders</th>\n",
       "      <td>30796870000.0</td>\n",
       "      <td>19574419000.0</td>\n",
       "      <td>12512155000.0</td>\n",
       "      <td>17899349000.0</td>\n",
       "    </tr>\n",
       "    <tr>\n",
       "      <th>Net Income Common Stockholders</th>\n",
       "      <td>30796870000.0</td>\n",
       "      <td>19574419000.0</td>\n",
       "      <td>12512155000.0</td>\n",
       "      <td>17899349000.0</td>\n",
       "    </tr>\n",
       "    <tr>\n",
       "      <th>Otherunder Preferred Stock Dividend</th>\n",
       "      <td>214617000.0</td>\n",
       "      <td>135983000.0</td>\n",
       "      <td>185230000.0</td>\n",
       "      <td>262718000.0</td>\n",
       "    </tr>\n",
       "    <tr>\n",
       "      <th>Net Income</th>\n",
       "      <td>31011487000.0</td>\n",
       "      <td>19710402000.0</td>\n",
       "      <td>12697385000.0</td>\n",
       "      <td>18162067000.0</td>\n",
       "    </tr>\n",
       "    <tr>\n",
       "      <th>Minority Interests</th>\n",
       "      <td>-2631801000.0</td>\n",
       "      <td>-1605513000.0</td>\n",
       "      <td>1576522000.0</td>\n",
       "      <td>-2481867000.0</td>\n",
       "    </tr>\n",
       "    <tr>\n",
       "      <th>Net Income Including Noncontrolling Interests</th>\n",
       "      <td>33643288000.0</td>\n",
       "      <td>21315915000.0</td>\n",
       "      <td>11368177000.0</td>\n",
       "      <td>20643934000.0</td>\n",
       "    </tr>\n",
       "    <tr>\n",
       "      <th>Net Income Extraordinary</th>\n",
       "      <td>-3968528000.0</td>\n",
       "      <td>-2535833000.0</td>\n",
       "      <td>-1568571000.0</td>\n",
       "      <td>-2337743000.0</td>\n",
       "    </tr>\n",
       "    <tr>\n",
       "      <th>Net Income Continuous Operations</th>\n",
       "      <td>37611816000.0</td>\n",
       "      <td>23851748000.0</td>\n",
       "      <td>12936748000.0</td>\n",
       "      <td>22981677000.0</td>\n",
       "    </tr>\n",
       "    <tr>\n",
       "      <th>Tax Provision</th>\n",
       "      <td>9382630000.0</td>\n",
       "      <td>4441300000.0</td>\n",
       "      <td>1452865000.0</td>\n",
       "      <td>-6860500000.0</td>\n",
       "    </tr>\n",
       "    <tr>\n",
       "      <th>Pretax Income</th>\n",
       "      <td>46994446000.0</td>\n",
       "      <td>28293048000.0</td>\n",
       "      <td>14389613000.0</td>\n",
       "      <td>16121177000.0</td>\n",
       "    </tr>\n",
       "    <tr>\n",
       "      <th>Other Non Operating Income Expenses</th>\n",
       "      <td>719202000.0</td>\n",
       "      <td>246057000.0</td>\n",
       "      <td>154901000.0</td>\n",
       "      <td>13952000.0</td>\n",
       "    </tr>\n",
       "    <tr>\n",
       "      <th>Special Income Charges</th>\n",
       "      <td>-51000.0</td>\n",
       "      <td>-959231000.0</td>\n",
       "      <td>0.0</td>\n",
       "      <td>2636434000.0</td>\n",
       "    </tr>\n",
       "    <tr>\n",
       "      <th>Other Special Charges</th>\n",
       "      <td>NaN</td>\n",
       "      <td>NaN</td>\n",
       "      <td>NaN</td>\n",
       "      <td>-3621087000.0</td>\n",
       "    </tr>\n",
       "    <tr>\n",
       "      <th>Write Off</th>\n",
       "      <td>51000.0</td>\n",
       "      <td>959231000.0</td>\n",
       "      <td>0.0</td>\n",
       "      <td>984653000.0</td>\n",
       "    </tr>\n",
       "    <tr>\n",
       "      <th>Gain On Sale Of Security</th>\n",
       "      <td>NaN</td>\n",
       "      <td>NaN</td>\n",
       "      <td>NaN</td>\n",
       "      <td>153671000.0</td>\n",
       "    </tr>\n",
       "    <tr>\n",
       "      <th>Operating Expense</th>\n",
       "      <td>58549545000.0</td>\n",
       "      <td>53349513000.0</td>\n",
       "      <td>50190207000.0</td>\n",
       "      <td>56855650000.0</td>\n",
       "    </tr>\n",
       "    <tr>\n",
       "      <th>Other Operating Expenses</th>\n",
       "      <td>21771488000.0</td>\n",
       "      <td>17753692000.0</td>\n",
       "      <td>14830383000.0</td>\n",
       "      <td>19015662000.0</td>\n",
       "    </tr>\n",
       "    <tr>\n",
       "      <th>Depreciation And Amortization In Income Statement</th>\n",
       "      <td>2833098000.0</td>\n",
       "      <td>2828694000.0</td>\n",
       "      <td>3155206000.0</td>\n",
       "      <td>3036181000.0</td>\n",
       "    </tr>\n",
       "    <tr>\n",
       "      <th>Amortization</th>\n",
       "      <td>1361750000.0</td>\n",
       "      <td>1441449000.0</td>\n",
       "      <td>1835500000.0</td>\n",
       "      <td>1792751000.0</td>\n",
       "    </tr>\n",
       "    <tr>\n",
       "      <th>Depreciation Income Statement</th>\n",
       "      <td>1471348000.0</td>\n",
       "      <td>1387245000.0</td>\n",
       "      <td>1319706000.0</td>\n",
       "      <td>1243430000.0</td>\n",
       "    </tr>\n",
       "    <tr>\n",
       "      <th>Selling General And Administration</th>\n",
       "      <td>8392860000.0</td>\n",
       "      <td>8631388000.0</td>\n",
       "      <td>8542268000.0</td>\n",
       "      <td>8415181000.0</td>\n",
       "    </tr>\n",
       "    <tr>\n",
       "      <th>Selling And Marketing Expense</th>\n",
       "      <td>660810000.0</td>\n",
       "      <td>647526000.0</td>\n",
       "      <td>599697000.0</td>\n",
       "      <td>651562000.0</td>\n",
       "    </tr>\n",
       "    <tr>\n",
       "      <th>General And Administrative Expense</th>\n",
       "      <td>7732050000.0</td>\n",
       "      <td>7983862000.0</td>\n",
       "      <td>7942571000.0</td>\n",
       "      <td>7763619000.0</td>\n",
       "    </tr>\n",
       "    <tr>\n",
       "      <th>Insurance And Claims</th>\n",
       "      <td>294194000.0</td>\n",
       "      <td>222062000.0</td>\n",
       "      <td>189176000.0</td>\n",
       "      <td>150242000.0</td>\n",
       "    </tr>\n",
       "    <tr>\n",
       "      <th>Rent And Landing Fees</th>\n",
       "      <td>1429655000.0</td>\n",
       "      <td>1420381000.0</td>\n",
       "      <td>1355714000.0</td>\n",
       "      <td>1341667000.0</td>\n",
       "    </tr>\n",
       "    <tr>\n",
       "      <th>Total Revenue</th>\n",
       "      <td>123382876000.0</td>\n",
       "      <td>97529221000.0</td>\n",
       "      <td>87334965000.0</td>\n",
       "      <td>89046908000.0</td>\n",
       "    </tr>\n",
       "    <tr>\n",
       "      <th>Operating Revenue</th>\n",
       "      <td>123382876000.0</td>\n",
       "      <td>97529221000.0</td>\n",
       "      <td>87334965000.0</td>\n",
       "      <td>89046908000.0</td>\n",
       "    </tr>\n",
       "  </tbody>\n",
       "</table>\n",
       "</div>"
      ],
      "text/plain": [
       "                                                           2022-12-31  \\\n",
       "Tax Effect Of Unusual Items                             -10182.354953   \n",
       "Tax Rate For Calcs                                           0.199654   \n",
       "Total Unusual Items                                          -51000.0   \n",
       "Total Unusual Items Excluding Goodwill                       -51000.0   \n",
       "Net Income From Continuing Operation Net Minori...      34980015000.0   \n",
       "Reconciled Depreciation                                  2833098000.0   \n",
       "Net Interest Income                                     82269433000.0   \n",
       "Interest Expense                                       158439298000.0   \n",
       "Interest Income                                        240708731000.0   \n",
       "Normalized Income                                   34980055817.64505   \n",
       "Net Income From Continuing And Discontinued Ope...      34980015000.0   \n",
       "Diluted Average Shares                                   2853771411.0   \n",
       "Basic Average Shares                                     2853771411.0   \n",
       "Diluted EPS                                                     10.79   \n",
       "Basic EPS                                                       10.79   \n",
       "Diluted NI Availto Com Stockholders                     30796870000.0   \n",
       "Net Income Common Stockholders                          30796870000.0   \n",
       "Otherunder Preferred Stock Dividend                       214617000.0   \n",
       "Net Income                                              31011487000.0   \n",
       "Minority Interests                                      -2631801000.0   \n",
       "Net Income Including Noncontrolling Interests           33643288000.0   \n",
       "Net Income Extraordinary                                -3968528000.0   \n",
       "Net Income Continuous Operations                        37611816000.0   \n",
       "Tax Provision                                            9382630000.0   \n",
       "Pretax Income                                           46994446000.0   \n",
       "Other Non Operating Income Expenses                       719202000.0   \n",
       "Special Income Charges                                       -51000.0   \n",
       "Other Special Charges                                             NaN   \n",
       "Write Off                                                     51000.0   \n",
       "Gain On Sale Of Security                                          NaN   \n",
       "Operating Expense                                       58549545000.0   \n",
       "Other Operating Expenses                                21771488000.0   \n",
       "Depreciation And Amortization In Income Statement        2833098000.0   \n",
       "Amortization                                             1361750000.0   \n",
       "Depreciation Income Statement                            1471348000.0   \n",
       "Selling General And Administration                       8392860000.0   \n",
       "Selling And Marketing Expense                             660810000.0   \n",
       "General And Administrative Expense                       7732050000.0   \n",
       "Insurance And Claims                                      294194000.0   \n",
       "Rent And Landing Fees                                    1429655000.0   \n",
       "Total Revenue                                          123382876000.0   \n",
       "Operating Revenue                                      123382876000.0   \n",
       "\n",
       "                                                            2021-12-31  \\\n",
       "Tax Effect Of Unusual Items                          -150575245.208646   \n",
       "Tax Rate For Calcs                                            0.156975   \n",
       "Total Unusual Items                                       -959231000.0   \n",
       "Total Unusual Items Excluding Goodwill                    -959231000.0   \n",
       "Net Income From Continuing Operation Net Minori...       22246235000.0   \n",
       "Reconciled Depreciation                                   2828694000.0   \n",
       "Net Interest Income                                      61059752000.0   \n",
       "Interest Expense                                         70609855000.0   \n",
       "Interest Income                                         131669607000.0   \n",
       "Normalized Income                                   23054890754.791355   \n",
       "Net Income From Continuing And Discontinued Ope...       22246235000.0   \n",
       "Diluted Average Shares                                    2853577258.0   \n",
       "Basic Average Shares                                      2853577258.0   \n",
       "Diluted EPS                                                       6.86   \n",
       "Basic EPS                                                         6.86   \n",
       "Diluted NI Availto Com Stockholders                      19574419000.0   \n",
       "Net Income Common Stockholders                           19574419000.0   \n",
       "Otherunder Preferred Stock Dividend                        135983000.0   \n",
       "Net Income                                               19710402000.0   \n",
       "Minority Interests                                       -1605513000.0   \n",
       "Net Income Including Noncontrolling Interests            21315915000.0   \n",
       "Net Income Extraordinary                                 -2535833000.0   \n",
       "Net Income Continuous Operations                         23851748000.0   \n",
       "Tax Provision                                             4441300000.0   \n",
       "Pretax Income                                            28293048000.0   \n",
       "Other Non Operating Income Expenses                        246057000.0   \n",
       "Special Income Charges                                    -959231000.0   \n",
       "Other Special Charges                                              NaN   \n",
       "Write Off                                                  959231000.0   \n",
       "Gain On Sale Of Security                                           NaN   \n",
       "Operating Expense                                        53349513000.0   \n",
       "Other Operating Expenses                                 17753692000.0   \n",
       "Depreciation And Amortization In Income Statement         2828694000.0   \n",
       "Amortization                                              1441449000.0   \n",
       "Depreciation Income Statement                             1387245000.0   \n",
       "Selling General And Administration                        8631388000.0   \n",
       "Selling And Marketing Expense                              647526000.0   \n",
       "General And Administrative Expense                        7983862000.0   \n",
       "Insurance And Claims                                       222062000.0   \n",
       "Rent And Landing Fees                                     1420381000.0   \n",
       "Total Revenue                                            97529221000.0   \n",
       "Operating Revenue                                        97529221000.0   \n",
       "\n",
       "                                                        2020-12-31  \\\n",
       "Tax Effect Of Unusual Items                                    0.0   \n",
       "Tax Rate For Calcs                                        0.100966   \n",
       "Total Unusual Items                                            0.0   \n",
       "Total Unusual Items Excluding Goodwill                         0.0   \n",
       "Net Income From Continuing Operation Net Minori...   14265956000.0   \n",
       "Reconciled Depreciation                               3155206000.0   \n",
       "Net Interest Income                                  47067310000.0   \n",
       "Interest Expense                                     71862593000.0   \n",
       "Interest Income                                     118929903000.0   \n",
       "Normalized Income                                    14265956000.0   \n",
       "Net Income From Continuing And Discontinued Ope...   14265956000.0   \n",
       "Diluted Average Shares                                2852522381.0   \n",
       "Basic Average Shares                                  2852522381.0   \n",
       "Diluted EPS                                                   4.39   \n",
       "Basic EPS                                                     4.39   \n",
       "Diluted NI Availto Com Stockholders                  12512155000.0   \n",
       "Net Income Common Stockholders                       12512155000.0   \n",
       "Otherunder Preferred Stock Dividend                    185230000.0   \n",
       "Net Income                                           12697385000.0   \n",
       "Minority Interests                                    1576522000.0   \n",
       "Net Income Including Noncontrolling Interests        11368177000.0   \n",
       "Net Income Extraordinary                             -1568571000.0   \n",
       "Net Income Continuous Operations                     12936748000.0   \n",
       "Tax Provision                                         1452865000.0   \n",
       "Pretax Income                                        14389613000.0   \n",
       "Other Non Operating Income Expenses                    154901000.0   \n",
       "Special Income Charges                                         0.0   \n",
       "Other Special Charges                                          NaN   \n",
       "Write Off                                                      0.0   \n",
       "Gain On Sale Of Security                                       NaN   \n",
       "Operating Expense                                    50190207000.0   \n",
       "Other Operating Expenses                             14830383000.0   \n",
       "Depreciation And Amortization In Income Statement     3155206000.0   \n",
       "Amortization                                          1835500000.0   \n",
       "Depreciation Income Statement                         1319706000.0   \n",
       "Selling General And Administration                    8542268000.0   \n",
       "Selling And Marketing Expense                          599697000.0   \n",
       "General And Administrative Expense                    7942571000.0   \n",
       "Insurance And Claims                                   189176000.0   \n",
       "Rent And Landing Fees                                 1355714000.0   \n",
       "Total Revenue                                        87334965000.0   \n",
       "Operating Revenue                                    87334965000.0   \n",
       "\n",
       "                                                        2019-12-31  \n",
       "Tax Effect Of Unusual Items                            896387560.0  \n",
       "Tax Rate For Calcs                                            0.34  \n",
       "Total Unusual Items                                   2636434000.0  \n",
       "Total Unusual Items Excluding Goodwill                2636434000.0  \n",
       "Net Income From Continuing Operation Net Minori...   20499810000.0  \n",
       "Reconciled Depreciation                               3039597000.0  \n",
       "Net Interest Income                                  53124090000.0  \n",
       "Interest Expense                                     71652572000.0  \n",
       "Interest Income                                     124776662000.0  \n",
       "Normalized Income                                    18759763560.0  \n",
       "Net Income From Continuing And Discontinued Ope...   20499810000.0  \n",
       "Diluted Average Shares                                2799325330.0  \n",
       "Basic Average Shares                                  2799325330.0  \n",
       "Diluted EPS                                                   6.39  \n",
       "Basic EPS                                                     6.39  \n",
       "Diluted NI Availto Com Stockholders                  17899349000.0  \n",
       "Net Income Common Stockholders                       17899349000.0  \n",
       "Otherunder Preferred Stock Dividend                    262718000.0  \n",
       "Net Income                                           18162067000.0  \n",
       "Minority Interests                                   -2481867000.0  \n",
       "Net Income Including Noncontrolling Interests        20643934000.0  \n",
       "Net Income Extraordinary                             -2337743000.0  \n",
       "Net Income Continuous Operations                     22981677000.0  \n",
       "Tax Provision                                        -6860500000.0  \n",
       "Pretax Income                                        16121177000.0  \n",
       "Other Non Operating Income Expenses                     13952000.0  \n",
       "Special Income Charges                                2636434000.0  \n",
       "Other Special Charges                                -3621087000.0  \n",
       "Write Off                                              984653000.0  \n",
       "Gain On Sale Of Security                               153671000.0  \n",
       "Operating Expense                                    56855650000.0  \n",
       "Other Operating Expenses                             19015662000.0  \n",
       "Depreciation And Amortization In Income Statement     3036181000.0  \n",
       "Amortization                                          1792751000.0  \n",
       "Depreciation Income Statement                         1243430000.0  \n",
       "Selling General And Administration                    8415181000.0  \n",
       "Selling And Marketing Expense                          651562000.0  \n",
       "General And Administrative Expense                    7763619000.0  \n",
       "Insurance And Claims                                   150242000.0  \n",
       "Rent And Landing Fees                                 1341667000.0  \n",
       "Total Revenue                                        89046908000.0  \n",
       "Operating Revenue                                    89046908000.0  "
      ]
     },
     "execution_count": 6,
     "metadata": {},
     "output_type": "execute_result"
    }
   ],
   "source": [
    "bbas3 = yf.Ticker(\"BBAS3.SA\")\n",
    "bbas3.financials"
   ]
  },
  {
   "cell_type": "markdown",
   "id": "cc70432838ce259b",
   "metadata": {
    "collapsed": false
   },
   "source": [
    "# Brazilian REATs"
   ]
  },
  {
   "cell_type": "code",
   "execution_count": 7,
   "id": "bfdc7a8f80b37ceb",
   "metadata": {
    "ExecuteTime": {
     "end_time": "2023-08-03T01:41:46.942187887Z",
     "start_time": "2023-08-03T01:41:46.899909639Z"
    },
    "collapsed": false
   },
   "outputs": [],
   "source": [
    "mxrf11 = yf.Ticker(\"MXRF11.SA\")"
   ]
  },
  {
   "cell_type": "code",
   "execution_count": 8,
   "id": "e55871b7bbf06516",
   "metadata": {
    "ExecuteTime": {
     "end_time": "2023-08-03T01:41:47.284941892Z",
     "start_time": "2023-08-03T01:41:46.903285547Z"
    },
    "collapsed": false
   },
   "outputs": [],
   "source": [
    "history_df = mxrf11.history(period=\"6mo\", interval=\"1d\")"
   ]
  },
  {
   "cell_type": "code",
   "execution_count": 9,
   "id": "98c7d915f7c80efd",
   "metadata": {
    "ExecuteTime": {
     "end_time": "2023-08-03T01:41:47.335948080Z",
     "start_time": "2023-08-03T01:41:47.293862481Z"
    },
    "collapsed": false
   },
   "outputs": [
    {
     "data": {
      "text/html": [
       "<div>\n",
       "<style scoped>\n",
       "    .dataframe tbody tr th:only-of-type {\n",
       "        vertical-align: middle;\n",
       "    }\n",
       "\n",
       "    .dataframe tbody tr th {\n",
       "        vertical-align: top;\n",
       "    }\n",
       "\n",
       "    .dataframe thead th {\n",
       "        text-align: right;\n",
       "    }\n",
       "</style>\n",
       "<table border=\"1\" class=\"dataframe\">\n",
       "  <thead>\n",
       "    <tr style=\"text-align: right;\">\n",
       "      <th></th>\n",
       "      <th>Open</th>\n",
       "      <th>High</th>\n",
       "      <th>Low</th>\n",
       "      <th>Close</th>\n",
       "      <th>Volume</th>\n",
       "      <th>Dividends</th>\n",
       "      <th>Stock Splits</th>\n",
       "    </tr>\n",
       "    <tr>\n",
       "      <th>Date</th>\n",
       "      <th></th>\n",
       "      <th></th>\n",
       "      <th></th>\n",
       "      <th></th>\n",
       "      <th></th>\n",
       "      <th></th>\n",
       "      <th></th>\n",
       "    </tr>\n",
       "  </thead>\n",
       "  <tbody>\n",
       "    <tr>\n",
       "      <th>2023-02-06 00:00:00-03:00</th>\n",
       "      <td>9.404538</td>\n",
       "      <td>9.423217</td>\n",
       "      <td>9.385860</td>\n",
       "      <td>9.413877</td>\n",
       "      <td>669975</td>\n",
       "      <td>0.00</td>\n",
       "      <td>0.0</td>\n",
       "    </tr>\n",
       "    <tr>\n",
       "      <th>2023-02-07 00:00:00-03:00</th>\n",
       "      <td>9.413878</td>\n",
       "      <td>9.432557</td>\n",
       "      <td>9.404539</td>\n",
       "      <td>9.404539</td>\n",
       "      <td>547180</td>\n",
       "      <td>0.00</td>\n",
       "      <td>0.0</td>\n",
       "    </tr>\n",
       "    <tr>\n",
       "      <th>2023-02-08 00:00:00-03:00</th>\n",
       "      <td>9.404539</td>\n",
       "      <td>9.441896</td>\n",
       "      <td>9.404539</td>\n",
       "      <td>9.423218</td>\n",
       "      <td>462250</td>\n",
       "      <td>0.00</td>\n",
       "      <td>0.0</td>\n",
       "    </tr>\n",
       "    <tr>\n",
       "      <th>2023-02-09 00:00:00-03:00</th>\n",
       "      <td>9.423217</td>\n",
       "      <td>9.441895</td>\n",
       "      <td>9.413877</td>\n",
       "      <td>9.413877</td>\n",
       "      <td>394813</td>\n",
       "      <td>0.00</td>\n",
       "      <td>0.0</td>\n",
       "    </tr>\n",
       "    <tr>\n",
       "      <th>2023-02-10 00:00:00-03:00</th>\n",
       "      <td>9.413878</td>\n",
       "      <td>9.432557</td>\n",
       "      <td>9.413878</td>\n",
       "      <td>9.423218</td>\n",
       "      <td>438915</td>\n",
       "      <td>0.00</td>\n",
       "      <td>0.0</td>\n",
       "    </tr>\n",
       "    <tr>\n",
       "      <th>...</th>\n",
       "      <td>...</td>\n",
       "      <td>...</td>\n",
       "      <td>...</td>\n",
       "      <td>...</td>\n",
       "      <td>...</td>\n",
       "      <td>...</td>\n",
       "      <td>...</td>\n",
       "    </tr>\n",
       "    <tr>\n",
       "      <th>2023-07-28 00:00:00-03:00</th>\n",
       "      <td>10.471455</td>\n",
       "      <td>10.520896</td>\n",
       "      <td>10.461567</td>\n",
       "      <td>10.491231</td>\n",
       "      <td>688091</td>\n",
       "      <td>0.00</td>\n",
       "      <td>0.0</td>\n",
       "    </tr>\n",
       "    <tr>\n",
       "      <th>2023-07-31 00:00:00-03:00</th>\n",
       "      <td>10.501119</td>\n",
       "      <td>10.600000</td>\n",
       "      <td>10.501119</td>\n",
       "      <td>10.600000</td>\n",
       "      <td>960535</td>\n",
       "      <td>0.00</td>\n",
       "      <td>0.0</td>\n",
       "    </tr>\n",
       "    <tr>\n",
       "      <th>2023-08-01 00:00:00-03:00</th>\n",
       "      <td>10.600000</td>\n",
       "      <td>10.650000</td>\n",
       "      <td>10.530000</td>\n",
       "      <td>10.630000</td>\n",
       "      <td>723070</td>\n",
       "      <td>0.12</td>\n",
       "      <td>0.0</td>\n",
       "    </tr>\n",
       "    <tr>\n",
       "      <th>2023-08-02 00:00:00-03:00</th>\n",
       "      <td>10.630000</td>\n",
       "      <td>10.680000</td>\n",
       "      <td>10.620000</td>\n",
       "      <td>10.640000</td>\n",
       "      <td>816696</td>\n",
       "      <td>0.00</td>\n",
       "      <td>0.0</td>\n",
       "    </tr>\n",
       "    <tr>\n",
       "      <th>2023-08-04 00:00:00-03:00</th>\n",
       "      <td>10.660000</td>\n",
       "      <td>10.700000</td>\n",
       "      <td>10.650000</td>\n",
       "      <td>10.700000</td>\n",
       "      <td>646315</td>\n",
       "      <td>0.00</td>\n",
       "      <td>0.0</td>\n",
       "    </tr>\n",
       "  </tbody>\n",
       "</table>\n",
       "<p>123 rows × 7 columns</p>\n",
       "</div>"
      ],
      "text/plain": [
       "                                Open       High        Low      Close  Volume  \\\n",
       "Date                                                                            \n",
       "2023-02-06 00:00:00-03:00   9.404538   9.423217   9.385860   9.413877  669975   \n",
       "2023-02-07 00:00:00-03:00   9.413878   9.432557   9.404539   9.404539  547180   \n",
       "2023-02-08 00:00:00-03:00   9.404539   9.441896   9.404539   9.423218  462250   \n",
       "2023-02-09 00:00:00-03:00   9.423217   9.441895   9.413877   9.413877  394813   \n",
       "2023-02-10 00:00:00-03:00   9.413878   9.432557   9.413878   9.423218  438915   \n",
       "...                              ...        ...        ...        ...     ...   \n",
       "2023-07-28 00:00:00-03:00  10.471455  10.520896  10.461567  10.491231  688091   \n",
       "2023-07-31 00:00:00-03:00  10.501119  10.600000  10.501119  10.600000  960535   \n",
       "2023-08-01 00:00:00-03:00  10.600000  10.650000  10.530000  10.630000  723070   \n",
       "2023-08-02 00:00:00-03:00  10.630000  10.680000  10.620000  10.640000  816696   \n",
       "2023-08-04 00:00:00-03:00  10.660000  10.700000  10.650000  10.700000  646315   \n",
       "\n",
       "                           Dividends  Stock Splits  \n",
       "Date                                                \n",
       "2023-02-06 00:00:00-03:00       0.00           0.0  \n",
       "2023-02-07 00:00:00-03:00       0.00           0.0  \n",
       "2023-02-08 00:00:00-03:00       0.00           0.0  \n",
       "2023-02-09 00:00:00-03:00       0.00           0.0  \n",
       "2023-02-10 00:00:00-03:00       0.00           0.0  \n",
       "...                              ...           ...  \n",
       "2023-07-28 00:00:00-03:00       0.00           0.0  \n",
       "2023-07-31 00:00:00-03:00       0.00           0.0  \n",
       "2023-08-01 00:00:00-03:00       0.12           0.0  \n",
       "2023-08-02 00:00:00-03:00       0.00           0.0  \n",
       "2023-08-04 00:00:00-03:00       0.00           0.0  \n",
       "\n",
       "[123 rows x 7 columns]"
      ]
     },
     "execution_count": 9,
     "metadata": {},
     "output_type": "execute_result"
    }
   ],
   "source": [
    "history_df"
   ]
  },
  {
   "cell_type": "code",
   "execution_count": 10,
   "id": "23486cd75b09d728",
   "metadata": {
    "ExecuteTime": {
     "end_time": "2023-08-03T01:41:47.827359751Z",
     "start_time": "2023-08-03T01:41:47.334743890Z"
    },
    "collapsed": false
   },
   "outputs": [
    {
     "data": {
      "application/vnd.plotly.v1+json": {
       "config": {
        "plotlyServerURL": "https://plot.ly"
       },
       "data": [
        {
         "hovertemplate": "Date=%{x}<br>Close=%{y}<extra></extra>",
         "legendgroup": "",
         "line": {
          "color": "#636efa",
          "dash": "solid"
         },
         "marker": {
          "symbol": "circle"
         },
         "mode": "lines",
         "name": "",
         "orientation": "v",
         "showlegend": false,
         "type": "scatter",
         "x": [
          "2023-02-06T00:00:00-03:00",
          "2023-02-07T00:00:00-03:00",
          "2023-02-08T00:00:00-03:00",
          "2023-02-09T00:00:00-03:00",
          "2023-02-10T00:00:00-03:00",
          "2023-02-13T00:00:00-03:00",
          "2023-02-14T00:00:00-03:00",
          "2023-02-15T00:00:00-03:00",
          "2023-02-16T00:00:00-03:00",
          "2023-02-17T00:00:00-03:00",
          "2023-02-22T00:00:00-03:00",
          "2023-02-23T00:00:00-03:00",
          "2023-02-24T00:00:00-03:00",
          "2023-02-27T00:00:00-03:00",
          "2023-02-28T00:00:00-03:00",
          "2023-03-01T00:00:00-03:00",
          "2023-03-02T00:00:00-03:00",
          "2023-03-03T00:00:00-03:00",
          "2023-03-06T00:00:00-03:00",
          "2023-03-07T00:00:00-03:00",
          "2023-03-08T00:00:00-03:00",
          "2023-03-09T00:00:00-03:00",
          "2023-03-10T00:00:00-03:00",
          "2023-03-13T00:00:00-03:00",
          "2023-03-14T00:00:00-03:00",
          "2023-03-15T00:00:00-03:00",
          "2023-03-16T00:00:00-03:00",
          "2023-03-17T00:00:00-03:00",
          "2023-03-20T00:00:00-03:00",
          "2023-03-21T00:00:00-03:00",
          "2023-03-22T00:00:00-03:00",
          "2023-03-23T00:00:00-03:00",
          "2023-03-24T00:00:00-03:00",
          "2023-03-27T00:00:00-03:00",
          "2023-03-28T00:00:00-03:00",
          "2023-03-29T00:00:00-03:00",
          "2023-03-30T00:00:00-03:00",
          "2023-03-31T00:00:00-03:00",
          "2023-04-03T00:00:00-03:00",
          "2023-04-04T00:00:00-03:00",
          "2023-04-05T00:00:00-03:00",
          "2023-04-06T00:00:00-03:00",
          "2023-04-10T00:00:00-03:00",
          "2023-04-11T00:00:00-03:00",
          "2023-04-12T00:00:00-03:00",
          "2023-04-13T00:00:00-03:00",
          "2023-04-14T00:00:00-03:00",
          "2023-04-17T00:00:00-03:00",
          "2023-04-18T00:00:00-03:00",
          "2023-04-19T00:00:00-03:00",
          "2023-04-20T00:00:00-03:00",
          "2023-04-24T00:00:00-03:00",
          "2023-04-25T00:00:00-03:00",
          "2023-04-26T00:00:00-03:00",
          "2023-04-27T00:00:00-03:00",
          "2023-04-28T00:00:00-03:00",
          "2023-05-02T00:00:00-03:00",
          "2023-05-03T00:00:00-03:00",
          "2023-05-04T00:00:00-03:00",
          "2023-05-05T00:00:00-03:00",
          "2023-05-08T00:00:00-03:00",
          "2023-05-09T00:00:00-03:00",
          "2023-05-10T00:00:00-03:00",
          "2023-05-11T00:00:00-03:00",
          "2023-05-12T00:00:00-03:00",
          "2023-05-15T00:00:00-03:00",
          "2023-05-16T00:00:00-03:00",
          "2023-05-17T00:00:00-03:00",
          "2023-05-18T00:00:00-03:00",
          "2023-05-19T00:00:00-03:00",
          "2023-05-22T00:00:00-03:00",
          "2023-05-23T00:00:00-03:00",
          "2023-05-24T00:00:00-03:00",
          "2023-05-25T00:00:00-03:00",
          "2023-05-26T00:00:00-03:00",
          "2023-05-29T00:00:00-03:00",
          "2023-05-30T00:00:00-03:00",
          "2023-05-31T00:00:00-03:00",
          "2023-06-01T00:00:00-03:00",
          "2023-06-02T00:00:00-03:00",
          "2023-06-05T00:00:00-03:00",
          "2023-06-06T00:00:00-03:00",
          "2023-06-07T00:00:00-03:00",
          "2023-06-09T00:00:00-03:00",
          "2023-06-12T00:00:00-03:00",
          "2023-06-13T00:00:00-03:00",
          "2023-06-14T00:00:00-03:00",
          "2023-06-15T00:00:00-03:00",
          "2023-06-16T00:00:00-03:00",
          "2023-06-19T00:00:00-03:00",
          "2023-06-20T00:00:00-03:00",
          "2023-06-21T00:00:00-03:00",
          "2023-06-22T00:00:00-03:00",
          "2023-06-23T00:00:00-03:00",
          "2023-06-26T00:00:00-03:00",
          "2023-06-27T00:00:00-03:00",
          "2023-06-28T00:00:00-03:00",
          "2023-06-29T00:00:00-03:00",
          "2023-06-30T00:00:00-03:00",
          "2023-07-03T00:00:00-03:00",
          "2023-07-04T00:00:00-03:00",
          "2023-07-05T00:00:00-03:00",
          "2023-07-06T00:00:00-03:00",
          "2023-07-07T00:00:00-03:00",
          "2023-07-10T00:00:00-03:00",
          "2023-07-11T00:00:00-03:00",
          "2023-07-12T00:00:00-03:00",
          "2023-07-13T00:00:00-03:00",
          "2023-07-14T00:00:00-03:00",
          "2023-07-17T00:00:00-03:00",
          "2023-07-18T00:00:00-03:00",
          "2023-07-19T00:00:00-03:00",
          "2023-07-20T00:00:00-03:00",
          "2023-07-21T00:00:00-03:00",
          "2023-07-24T00:00:00-03:00",
          "2023-07-25T00:00:00-03:00",
          "2023-07-26T00:00:00-03:00",
          "2023-07-27T00:00:00-03:00",
          "2023-07-28T00:00:00-03:00",
          "2023-07-31T00:00:00-03:00",
          "2023-08-01T00:00:00-03:00",
          "2023-08-02T00:00:00-03:00",
          "2023-08-04T00:00:00-03:00"
         ],
         "xaxis": "x",
         "y": [
          9.413877487182617,
          9.404539108276367,
          9.4232177734375,
          9.413877487182617,
          9.4232177734375,
          9.43255615234375,
          9.451233863830566,
          9.451233863830566,
          9.451233863830566,
          9.479252815246582,
          9.469913482666016,
          9.497931480407715,
          9.516609191894531,
          9.516609191894531,
          9.553964614868164,
          9.629565238952637,
          9.620115280151367,
          9.676815032958984,
          9.657915115356445,
          9.68626594543457,
          9.676815032958984,
          9.676815032958984,
          9.70516586303711,
          9.68626594543457,
          9.714614868164062,
          9.714614868164062,
          9.714614868164062,
          9.68626594543457,
          9.724065780639648,
          9.714614868164062,
          9.752415657043457,
          9.742966651916504,
          9.771316528320312,
          9.790215492248535,
          9.695714950561523,
          9.752415657043457,
          9.752415657043457,
          9.80911636352539,
          9.828235626220703,
          9.856919288635254,
          9.895160675048828,
          9.895160675048828,
          9.847357749938965,
          9.885600090026855,
          9.8760404586792,
          9.885600090026855,
          9.895160675048828,
          9.885600090026855,
          9.914281845092773,
          9.923843383789062,
          9.933403968811035,
          9.933403968811035,
          9.952524185180664,
          9.990764617919922,
          10.009886741638184,
          10.10549259185791,
          10.134503364562988,
          10.153843879699707,
          10.134503364562988,
          10.173185348510742,
          10.192524909973145,
          10.231206893920898,
          10.240878105163574,
          10.279558181762695,
          10.279558181762695,
          10.35692024230957,
          10.366592407226562,
          10.385931968688965,
          10.366592407226562,
          10.376261711120605,
          10.35692024230957,
          10.35692024230957,
          10.144173622131348,
          10.250547409057617,
          10.173185348510742,
          10.298898696899414,
          10.250547409057617,
          10.35692024230957,
          10.356173515319824,
          10.365952491760254,
          10.424627304077148,
          10.453965187072754,
          10.473523139953613,
          10.473523139953613,
          10.463744163513184,
          10.473523139953613,
          10.473523139953613,
          10.581094741821289,
          10.64954948425293,
          10.727783203125,
          10.513612747192383,
          10.494179725646973,
          10.4164457321167,
          10.474745750427246,
          10.455312728881836,
          10.43587875366211,
          10.48330307006836,
          10.502861022949219,
          10.65932846069336,
          10.530782699584961,
          10.550559997558594,
          10.560447692871094,
          10.560447692871094,
          10.59011173248291,
          10.550559997558594,
          10.560447692871094,
          10.570335388183594,
          10.491230964660645,
          10.530782699584961,
          10.530782699584961,
          10.511007308959961,
          10.520895957946777,
          10.471455574035645,
          10.441791534423828,
          10.352798461914062,
          10.32313346862793,
          10.402238845825195,
          10.471455574035645,
          10.491230964660645,
          10.600000381469727,
          10.630000114440918,
          10.640000343322754,
          10.699999809265137
         ],
         "yaxis": "y"
        }
       ],
       "layout": {
        "legend": {
         "tracegroupgap": 0
        },
        "margin": {
         "t": 60
        },
        "template": {
         "data": {
          "bar": [
           {
            "error_x": {
             "color": "#2a3f5f"
            },
            "error_y": {
             "color": "#2a3f5f"
            },
            "marker": {
             "line": {
              "color": "#E5ECF6",
              "width": 0.5
             },
             "pattern": {
              "fillmode": "overlay",
              "size": 10,
              "solidity": 0.2
             }
            },
            "type": "bar"
           }
          ],
          "barpolar": [
           {
            "marker": {
             "line": {
              "color": "#E5ECF6",
              "width": 0.5
             },
             "pattern": {
              "fillmode": "overlay",
              "size": 10,
              "solidity": 0.2
             }
            },
            "type": "barpolar"
           }
          ],
          "carpet": [
           {
            "aaxis": {
             "endlinecolor": "#2a3f5f",
             "gridcolor": "white",
             "linecolor": "white",
             "minorgridcolor": "white",
             "startlinecolor": "#2a3f5f"
            },
            "baxis": {
             "endlinecolor": "#2a3f5f",
             "gridcolor": "white",
             "linecolor": "white",
             "minorgridcolor": "white",
             "startlinecolor": "#2a3f5f"
            },
            "type": "carpet"
           }
          ],
          "choropleth": [
           {
            "colorbar": {
             "outlinewidth": 0,
             "ticks": ""
            },
            "type": "choropleth"
           }
          ],
          "contour": [
           {
            "colorbar": {
             "outlinewidth": 0,
             "ticks": ""
            },
            "colorscale": [
             [
              0,
              "#0d0887"
             ],
             [
              0.1111111111111111,
              "#46039f"
             ],
             [
              0.2222222222222222,
              "#7201a8"
             ],
             [
              0.3333333333333333,
              "#9c179e"
             ],
             [
              0.4444444444444444,
              "#bd3786"
             ],
             [
              0.5555555555555556,
              "#d8576b"
             ],
             [
              0.6666666666666666,
              "#ed7953"
             ],
             [
              0.7777777777777778,
              "#fb9f3a"
             ],
             [
              0.8888888888888888,
              "#fdca26"
             ],
             [
              1,
              "#f0f921"
             ]
            ],
            "type": "contour"
           }
          ],
          "contourcarpet": [
           {
            "colorbar": {
             "outlinewidth": 0,
             "ticks": ""
            },
            "type": "contourcarpet"
           }
          ],
          "heatmap": [
           {
            "colorbar": {
             "outlinewidth": 0,
             "ticks": ""
            },
            "colorscale": [
             [
              0,
              "#0d0887"
             ],
             [
              0.1111111111111111,
              "#46039f"
             ],
             [
              0.2222222222222222,
              "#7201a8"
             ],
             [
              0.3333333333333333,
              "#9c179e"
             ],
             [
              0.4444444444444444,
              "#bd3786"
             ],
             [
              0.5555555555555556,
              "#d8576b"
             ],
             [
              0.6666666666666666,
              "#ed7953"
             ],
             [
              0.7777777777777778,
              "#fb9f3a"
             ],
             [
              0.8888888888888888,
              "#fdca26"
             ],
             [
              1,
              "#f0f921"
             ]
            ],
            "type": "heatmap"
           }
          ],
          "heatmapgl": [
           {
            "colorbar": {
             "outlinewidth": 0,
             "ticks": ""
            },
            "colorscale": [
             [
              0,
              "#0d0887"
             ],
             [
              0.1111111111111111,
              "#46039f"
             ],
             [
              0.2222222222222222,
              "#7201a8"
             ],
             [
              0.3333333333333333,
              "#9c179e"
             ],
             [
              0.4444444444444444,
              "#bd3786"
             ],
             [
              0.5555555555555556,
              "#d8576b"
             ],
             [
              0.6666666666666666,
              "#ed7953"
             ],
             [
              0.7777777777777778,
              "#fb9f3a"
             ],
             [
              0.8888888888888888,
              "#fdca26"
             ],
             [
              1,
              "#f0f921"
             ]
            ],
            "type": "heatmapgl"
           }
          ],
          "histogram": [
           {
            "marker": {
             "pattern": {
              "fillmode": "overlay",
              "size": 10,
              "solidity": 0.2
             }
            },
            "type": "histogram"
           }
          ],
          "histogram2d": [
           {
            "colorbar": {
             "outlinewidth": 0,
             "ticks": ""
            },
            "colorscale": [
             [
              0,
              "#0d0887"
             ],
             [
              0.1111111111111111,
              "#46039f"
             ],
             [
              0.2222222222222222,
              "#7201a8"
             ],
             [
              0.3333333333333333,
              "#9c179e"
             ],
             [
              0.4444444444444444,
              "#bd3786"
             ],
             [
              0.5555555555555556,
              "#d8576b"
             ],
             [
              0.6666666666666666,
              "#ed7953"
             ],
             [
              0.7777777777777778,
              "#fb9f3a"
             ],
             [
              0.8888888888888888,
              "#fdca26"
             ],
             [
              1,
              "#f0f921"
             ]
            ],
            "type": "histogram2d"
           }
          ],
          "histogram2dcontour": [
           {
            "colorbar": {
             "outlinewidth": 0,
             "ticks": ""
            },
            "colorscale": [
             [
              0,
              "#0d0887"
             ],
             [
              0.1111111111111111,
              "#46039f"
             ],
             [
              0.2222222222222222,
              "#7201a8"
             ],
             [
              0.3333333333333333,
              "#9c179e"
             ],
             [
              0.4444444444444444,
              "#bd3786"
             ],
             [
              0.5555555555555556,
              "#d8576b"
             ],
             [
              0.6666666666666666,
              "#ed7953"
             ],
             [
              0.7777777777777778,
              "#fb9f3a"
             ],
             [
              0.8888888888888888,
              "#fdca26"
             ],
             [
              1,
              "#f0f921"
             ]
            ],
            "type": "histogram2dcontour"
           }
          ],
          "mesh3d": [
           {
            "colorbar": {
             "outlinewidth": 0,
             "ticks": ""
            },
            "type": "mesh3d"
           }
          ],
          "parcoords": [
           {
            "line": {
             "colorbar": {
              "outlinewidth": 0,
              "ticks": ""
             }
            },
            "type": "parcoords"
           }
          ],
          "pie": [
           {
            "automargin": true,
            "type": "pie"
           }
          ],
          "scatter": [
           {
            "fillpattern": {
             "fillmode": "overlay",
             "size": 10,
             "solidity": 0.2
            },
            "type": "scatter"
           }
          ],
          "scatter3d": [
           {
            "line": {
             "colorbar": {
              "outlinewidth": 0,
              "ticks": ""
             }
            },
            "marker": {
             "colorbar": {
              "outlinewidth": 0,
              "ticks": ""
             }
            },
            "type": "scatter3d"
           }
          ],
          "scattercarpet": [
           {
            "marker": {
             "colorbar": {
              "outlinewidth": 0,
              "ticks": ""
             }
            },
            "type": "scattercarpet"
           }
          ],
          "scattergeo": [
           {
            "marker": {
             "colorbar": {
              "outlinewidth": 0,
              "ticks": ""
             }
            },
            "type": "scattergeo"
           }
          ],
          "scattergl": [
           {
            "marker": {
             "colorbar": {
              "outlinewidth": 0,
              "ticks": ""
             }
            },
            "type": "scattergl"
           }
          ],
          "scattermapbox": [
           {
            "marker": {
             "colorbar": {
              "outlinewidth": 0,
              "ticks": ""
             }
            },
            "type": "scattermapbox"
           }
          ],
          "scatterpolar": [
           {
            "marker": {
             "colorbar": {
              "outlinewidth": 0,
              "ticks": ""
             }
            },
            "type": "scatterpolar"
           }
          ],
          "scatterpolargl": [
           {
            "marker": {
             "colorbar": {
              "outlinewidth": 0,
              "ticks": ""
             }
            },
            "type": "scatterpolargl"
           }
          ],
          "scatterternary": [
           {
            "marker": {
             "colorbar": {
              "outlinewidth": 0,
              "ticks": ""
             }
            },
            "type": "scatterternary"
           }
          ],
          "surface": [
           {
            "colorbar": {
             "outlinewidth": 0,
             "ticks": ""
            },
            "colorscale": [
             [
              0,
              "#0d0887"
             ],
             [
              0.1111111111111111,
              "#46039f"
             ],
             [
              0.2222222222222222,
              "#7201a8"
             ],
             [
              0.3333333333333333,
              "#9c179e"
             ],
             [
              0.4444444444444444,
              "#bd3786"
             ],
             [
              0.5555555555555556,
              "#d8576b"
             ],
             [
              0.6666666666666666,
              "#ed7953"
             ],
             [
              0.7777777777777778,
              "#fb9f3a"
             ],
             [
              0.8888888888888888,
              "#fdca26"
             ],
             [
              1,
              "#f0f921"
             ]
            ],
            "type": "surface"
           }
          ],
          "table": [
           {
            "cells": {
             "fill": {
              "color": "#EBF0F8"
             },
             "line": {
              "color": "white"
             }
            },
            "header": {
             "fill": {
              "color": "#C8D4E3"
             },
             "line": {
              "color": "white"
             }
            },
            "type": "table"
           }
          ]
         },
         "layout": {
          "annotationdefaults": {
           "arrowcolor": "#2a3f5f",
           "arrowhead": 0,
           "arrowwidth": 1
          },
          "autotypenumbers": "strict",
          "coloraxis": {
           "colorbar": {
            "outlinewidth": 0,
            "ticks": ""
           }
          },
          "colorscale": {
           "diverging": [
            [
             0,
             "#8e0152"
            ],
            [
             0.1,
             "#c51b7d"
            ],
            [
             0.2,
             "#de77ae"
            ],
            [
             0.3,
             "#f1b6da"
            ],
            [
             0.4,
             "#fde0ef"
            ],
            [
             0.5,
             "#f7f7f7"
            ],
            [
             0.6,
             "#e6f5d0"
            ],
            [
             0.7,
             "#b8e186"
            ],
            [
             0.8,
             "#7fbc41"
            ],
            [
             0.9,
             "#4d9221"
            ],
            [
             1,
             "#276419"
            ]
           ],
           "sequential": [
            [
             0,
             "#0d0887"
            ],
            [
             0.1111111111111111,
             "#46039f"
            ],
            [
             0.2222222222222222,
             "#7201a8"
            ],
            [
             0.3333333333333333,
             "#9c179e"
            ],
            [
             0.4444444444444444,
             "#bd3786"
            ],
            [
             0.5555555555555556,
             "#d8576b"
            ],
            [
             0.6666666666666666,
             "#ed7953"
            ],
            [
             0.7777777777777778,
             "#fb9f3a"
            ],
            [
             0.8888888888888888,
             "#fdca26"
            ],
            [
             1,
             "#f0f921"
            ]
           ],
           "sequentialminus": [
            [
             0,
             "#0d0887"
            ],
            [
             0.1111111111111111,
             "#46039f"
            ],
            [
             0.2222222222222222,
             "#7201a8"
            ],
            [
             0.3333333333333333,
             "#9c179e"
            ],
            [
             0.4444444444444444,
             "#bd3786"
            ],
            [
             0.5555555555555556,
             "#d8576b"
            ],
            [
             0.6666666666666666,
             "#ed7953"
            ],
            [
             0.7777777777777778,
             "#fb9f3a"
            ],
            [
             0.8888888888888888,
             "#fdca26"
            ],
            [
             1,
             "#f0f921"
            ]
           ]
          },
          "colorway": [
           "#636efa",
           "#EF553B",
           "#00cc96",
           "#ab63fa",
           "#FFA15A",
           "#19d3f3",
           "#FF6692",
           "#B6E880",
           "#FF97FF",
           "#FECB52"
          ],
          "font": {
           "color": "#2a3f5f"
          },
          "geo": {
           "bgcolor": "white",
           "lakecolor": "white",
           "landcolor": "#E5ECF6",
           "showlakes": true,
           "showland": true,
           "subunitcolor": "white"
          },
          "hoverlabel": {
           "align": "left"
          },
          "hovermode": "closest",
          "mapbox": {
           "style": "light"
          },
          "paper_bgcolor": "white",
          "plot_bgcolor": "#E5ECF6",
          "polar": {
           "angularaxis": {
            "gridcolor": "white",
            "linecolor": "white",
            "ticks": ""
           },
           "bgcolor": "#E5ECF6",
           "radialaxis": {
            "gridcolor": "white",
            "linecolor": "white",
            "ticks": ""
           }
          },
          "scene": {
           "xaxis": {
            "backgroundcolor": "#E5ECF6",
            "gridcolor": "white",
            "gridwidth": 2,
            "linecolor": "white",
            "showbackground": true,
            "ticks": "",
            "zerolinecolor": "white"
           },
           "yaxis": {
            "backgroundcolor": "#E5ECF6",
            "gridcolor": "white",
            "gridwidth": 2,
            "linecolor": "white",
            "showbackground": true,
            "ticks": "",
            "zerolinecolor": "white"
           },
           "zaxis": {
            "backgroundcolor": "#E5ECF6",
            "gridcolor": "white",
            "gridwidth": 2,
            "linecolor": "white",
            "showbackground": true,
            "ticks": "",
            "zerolinecolor": "white"
           }
          },
          "shapedefaults": {
           "line": {
            "color": "#2a3f5f"
           }
          },
          "ternary": {
           "aaxis": {
            "gridcolor": "white",
            "linecolor": "white",
            "ticks": ""
           },
           "baxis": {
            "gridcolor": "white",
            "linecolor": "white",
            "ticks": ""
           },
           "bgcolor": "#E5ECF6",
           "caxis": {
            "gridcolor": "white",
            "linecolor": "white",
            "ticks": ""
           }
          },
          "title": {
           "x": 0.05
          },
          "xaxis": {
           "automargin": true,
           "gridcolor": "white",
           "linecolor": "white",
           "ticks": "",
           "title": {
            "standoff": 15
           },
           "zerolinecolor": "white",
           "zerolinewidth": 2
          },
          "yaxis": {
           "automargin": true,
           "gridcolor": "white",
           "linecolor": "white",
           "ticks": "",
           "title": {
            "standoff": 15
           },
           "zerolinecolor": "white",
           "zerolinewidth": 2
          }
         }
        },
        "xaxis": {
         "anchor": "y",
         "domain": [
          0,
          1
         ],
         "title": {
          "text": "Date"
         }
        },
        "yaxis": {
         "anchor": "x",
         "domain": [
          0,
          1
         ],
         "title": {
          "text": "Close"
         }
        }
       }
      }
     },
     "metadata": {},
     "output_type": "display_data"
    }
   ],
   "source": [
    "px.line(history_df, x=history_df.index, y=history_df.Close)"
   ]
  },
  {
   "cell_type": "code",
   "execution_count": 11,
   "id": "88190d00df2596ad",
   "metadata": {
    "ExecuteTime": {
     "end_time": "2023-08-03T01:41:47.955766466Z",
     "start_time": "2023-08-03T01:41:47.627087781Z"
    },
    "collapsed": false
   },
   "outputs": [
    {
     "data": {
      "application/vnd.plotly.v1+json": {
       "config": {
        "plotlyServerURL": "https://plot.ly"
       },
       "data": [
        {
         "alignmentgroup": "True",
         "hovertemplate": "x=%{x}<br>y=%{y}<extra></extra>",
         "legendgroup": "",
         "marker": {
          "color": "#636efa",
          "pattern": {
           "shape": ""
          }
         },
         "name": "",
         "offsetgroup": "",
         "orientation": "v",
         "showlegend": false,
         "textposition": "auto",
         "type": "bar",
         "x": [
          "2023-03-01T00:00:00-03:00",
          "2023-04-03T00:00:00-03:00",
          "2023-05-02T00:00:00-03:00",
          "2023-06-01T00:00:00-03:00",
          "2023-07-03T00:00:00-03:00",
          "2023-08-01T00:00:00-03:00"
         ],
         "xaxis": "x",
         "y": [
          9.629565238952637,
          9.828235626220703,
          10.134503364562988,
          10.356173515319824,
          10.530782699584961,
          10.630000114440918
         ],
         "yaxis": "y"
        }
       ],
       "layout": {
        "barmode": "relative",
        "legend": {
         "tracegroupgap": 0
        },
        "margin": {
         "t": 60
        },
        "template": {
         "data": {
          "bar": [
           {
            "error_x": {
             "color": "#2a3f5f"
            },
            "error_y": {
             "color": "#2a3f5f"
            },
            "marker": {
             "line": {
              "color": "#E5ECF6",
              "width": 0.5
             },
             "pattern": {
              "fillmode": "overlay",
              "size": 10,
              "solidity": 0.2
             }
            },
            "type": "bar"
           }
          ],
          "barpolar": [
           {
            "marker": {
             "line": {
              "color": "#E5ECF6",
              "width": 0.5
             },
             "pattern": {
              "fillmode": "overlay",
              "size": 10,
              "solidity": 0.2
             }
            },
            "type": "barpolar"
           }
          ],
          "carpet": [
           {
            "aaxis": {
             "endlinecolor": "#2a3f5f",
             "gridcolor": "white",
             "linecolor": "white",
             "minorgridcolor": "white",
             "startlinecolor": "#2a3f5f"
            },
            "baxis": {
             "endlinecolor": "#2a3f5f",
             "gridcolor": "white",
             "linecolor": "white",
             "minorgridcolor": "white",
             "startlinecolor": "#2a3f5f"
            },
            "type": "carpet"
           }
          ],
          "choropleth": [
           {
            "colorbar": {
             "outlinewidth": 0,
             "ticks": ""
            },
            "type": "choropleth"
           }
          ],
          "contour": [
           {
            "colorbar": {
             "outlinewidth": 0,
             "ticks": ""
            },
            "colorscale": [
             [
              0,
              "#0d0887"
             ],
             [
              0.1111111111111111,
              "#46039f"
             ],
             [
              0.2222222222222222,
              "#7201a8"
             ],
             [
              0.3333333333333333,
              "#9c179e"
             ],
             [
              0.4444444444444444,
              "#bd3786"
             ],
             [
              0.5555555555555556,
              "#d8576b"
             ],
             [
              0.6666666666666666,
              "#ed7953"
             ],
             [
              0.7777777777777778,
              "#fb9f3a"
             ],
             [
              0.8888888888888888,
              "#fdca26"
             ],
             [
              1,
              "#f0f921"
             ]
            ],
            "type": "contour"
           }
          ],
          "contourcarpet": [
           {
            "colorbar": {
             "outlinewidth": 0,
             "ticks": ""
            },
            "type": "contourcarpet"
           }
          ],
          "heatmap": [
           {
            "colorbar": {
             "outlinewidth": 0,
             "ticks": ""
            },
            "colorscale": [
             [
              0,
              "#0d0887"
             ],
             [
              0.1111111111111111,
              "#46039f"
             ],
             [
              0.2222222222222222,
              "#7201a8"
             ],
             [
              0.3333333333333333,
              "#9c179e"
             ],
             [
              0.4444444444444444,
              "#bd3786"
             ],
             [
              0.5555555555555556,
              "#d8576b"
             ],
             [
              0.6666666666666666,
              "#ed7953"
             ],
             [
              0.7777777777777778,
              "#fb9f3a"
             ],
             [
              0.8888888888888888,
              "#fdca26"
             ],
             [
              1,
              "#f0f921"
             ]
            ],
            "type": "heatmap"
           }
          ],
          "heatmapgl": [
           {
            "colorbar": {
             "outlinewidth": 0,
             "ticks": ""
            },
            "colorscale": [
             [
              0,
              "#0d0887"
             ],
             [
              0.1111111111111111,
              "#46039f"
             ],
             [
              0.2222222222222222,
              "#7201a8"
             ],
             [
              0.3333333333333333,
              "#9c179e"
             ],
             [
              0.4444444444444444,
              "#bd3786"
             ],
             [
              0.5555555555555556,
              "#d8576b"
             ],
             [
              0.6666666666666666,
              "#ed7953"
             ],
             [
              0.7777777777777778,
              "#fb9f3a"
             ],
             [
              0.8888888888888888,
              "#fdca26"
             ],
             [
              1,
              "#f0f921"
             ]
            ],
            "type": "heatmapgl"
           }
          ],
          "histogram": [
           {
            "marker": {
             "pattern": {
              "fillmode": "overlay",
              "size": 10,
              "solidity": 0.2
             }
            },
            "type": "histogram"
           }
          ],
          "histogram2d": [
           {
            "colorbar": {
             "outlinewidth": 0,
             "ticks": ""
            },
            "colorscale": [
             [
              0,
              "#0d0887"
             ],
             [
              0.1111111111111111,
              "#46039f"
             ],
             [
              0.2222222222222222,
              "#7201a8"
             ],
             [
              0.3333333333333333,
              "#9c179e"
             ],
             [
              0.4444444444444444,
              "#bd3786"
             ],
             [
              0.5555555555555556,
              "#d8576b"
             ],
             [
              0.6666666666666666,
              "#ed7953"
             ],
             [
              0.7777777777777778,
              "#fb9f3a"
             ],
             [
              0.8888888888888888,
              "#fdca26"
             ],
             [
              1,
              "#f0f921"
             ]
            ],
            "type": "histogram2d"
           }
          ],
          "histogram2dcontour": [
           {
            "colorbar": {
             "outlinewidth": 0,
             "ticks": ""
            },
            "colorscale": [
             [
              0,
              "#0d0887"
             ],
             [
              0.1111111111111111,
              "#46039f"
             ],
             [
              0.2222222222222222,
              "#7201a8"
             ],
             [
              0.3333333333333333,
              "#9c179e"
             ],
             [
              0.4444444444444444,
              "#bd3786"
             ],
             [
              0.5555555555555556,
              "#d8576b"
             ],
             [
              0.6666666666666666,
              "#ed7953"
             ],
             [
              0.7777777777777778,
              "#fb9f3a"
             ],
             [
              0.8888888888888888,
              "#fdca26"
             ],
             [
              1,
              "#f0f921"
             ]
            ],
            "type": "histogram2dcontour"
           }
          ],
          "mesh3d": [
           {
            "colorbar": {
             "outlinewidth": 0,
             "ticks": ""
            },
            "type": "mesh3d"
           }
          ],
          "parcoords": [
           {
            "line": {
             "colorbar": {
              "outlinewidth": 0,
              "ticks": ""
             }
            },
            "type": "parcoords"
           }
          ],
          "pie": [
           {
            "automargin": true,
            "type": "pie"
           }
          ],
          "scatter": [
           {
            "fillpattern": {
             "fillmode": "overlay",
             "size": 10,
             "solidity": 0.2
            },
            "type": "scatter"
           }
          ],
          "scatter3d": [
           {
            "line": {
             "colorbar": {
              "outlinewidth": 0,
              "ticks": ""
             }
            },
            "marker": {
             "colorbar": {
              "outlinewidth": 0,
              "ticks": ""
             }
            },
            "type": "scatter3d"
           }
          ],
          "scattercarpet": [
           {
            "marker": {
             "colorbar": {
              "outlinewidth": 0,
              "ticks": ""
             }
            },
            "type": "scattercarpet"
           }
          ],
          "scattergeo": [
           {
            "marker": {
             "colorbar": {
              "outlinewidth": 0,
              "ticks": ""
             }
            },
            "type": "scattergeo"
           }
          ],
          "scattergl": [
           {
            "marker": {
             "colorbar": {
              "outlinewidth": 0,
              "ticks": ""
             }
            },
            "type": "scattergl"
           }
          ],
          "scattermapbox": [
           {
            "marker": {
             "colorbar": {
              "outlinewidth": 0,
              "ticks": ""
             }
            },
            "type": "scattermapbox"
           }
          ],
          "scatterpolar": [
           {
            "marker": {
             "colorbar": {
              "outlinewidth": 0,
              "ticks": ""
             }
            },
            "type": "scatterpolar"
           }
          ],
          "scatterpolargl": [
           {
            "marker": {
             "colorbar": {
              "outlinewidth": 0,
              "ticks": ""
             }
            },
            "type": "scatterpolargl"
           }
          ],
          "scatterternary": [
           {
            "marker": {
             "colorbar": {
              "outlinewidth": 0,
              "ticks": ""
             }
            },
            "type": "scatterternary"
           }
          ],
          "surface": [
           {
            "colorbar": {
             "outlinewidth": 0,
             "ticks": ""
            },
            "colorscale": [
             [
              0,
              "#0d0887"
             ],
             [
              0.1111111111111111,
              "#46039f"
             ],
             [
              0.2222222222222222,
              "#7201a8"
             ],
             [
              0.3333333333333333,
              "#9c179e"
             ],
             [
              0.4444444444444444,
              "#bd3786"
             ],
             [
              0.5555555555555556,
              "#d8576b"
             ],
             [
              0.6666666666666666,
              "#ed7953"
             ],
             [
              0.7777777777777778,
              "#fb9f3a"
             ],
             [
              0.8888888888888888,
              "#fdca26"
             ],
             [
              1,
              "#f0f921"
             ]
            ],
            "type": "surface"
           }
          ],
          "table": [
           {
            "cells": {
             "fill": {
              "color": "#EBF0F8"
             },
             "line": {
              "color": "white"
             }
            },
            "header": {
             "fill": {
              "color": "#C8D4E3"
             },
             "line": {
              "color": "white"
             }
            },
            "type": "table"
           }
          ]
         },
         "layout": {
          "annotationdefaults": {
           "arrowcolor": "#2a3f5f",
           "arrowhead": 0,
           "arrowwidth": 1
          },
          "autotypenumbers": "strict",
          "coloraxis": {
           "colorbar": {
            "outlinewidth": 0,
            "ticks": ""
           }
          },
          "colorscale": {
           "diverging": [
            [
             0,
             "#8e0152"
            ],
            [
             0.1,
             "#c51b7d"
            ],
            [
             0.2,
             "#de77ae"
            ],
            [
             0.3,
             "#f1b6da"
            ],
            [
             0.4,
             "#fde0ef"
            ],
            [
             0.5,
             "#f7f7f7"
            ],
            [
             0.6,
             "#e6f5d0"
            ],
            [
             0.7,
             "#b8e186"
            ],
            [
             0.8,
             "#7fbc41"
            ],
            [
             0.9,
             "#4d9221"
            ],
            [
             1,
             "#276419"
            ]
           ],
           "sequential": [
            [
             0,
             "#0d0887"
            ],
            [
             0.1111111111111111,
             "#46039f"
            ],
            [
             0.2222222222222222,
             "#7201a8"
            ],
            [
             0.3333333333333333,
             "#9c179e"
            ],
            [
             0.4444444444444444,
             "#bd3786"
            ],
            [
             0.5555555555555556,
             "#d8576b"
            ],
            [
             0.6666666666666666,
             "#ed7953"
            ],
            [
             0.7777777777777778,
             "#fb9f3a"
            ],
            [
             0.8888888888888888,
             "#fdca26"
            ],
            [
             1,
             "#f0f921"
            ]
           ],
           "sequentialminus": [
            [
             0,
             "#0d0887"
            ],
            [
             0.1111111111111111,
             "#46039f"
            ],
            [
             0.2222222222222222,
             "#7201a8"
            ],
            [
             0.3333333333333333,
             "#9c179e"
            ],
            [
             0.4444444444444444,
             "#bd3786"
            ],
            [
             0.5555555555555556,
             "#d8576b"
            ],
            [
             0.6666666666666666,
             "#ed7953"
            ],
            [
             0.7777777777777778,
             "#fb9f3a"
            ],
            [
             0.8888888888888888,
             "#fdca26"
            ],
            [
             1,
             "#f0f921"
            ]
           ]
          },
          "colorway": [
           "#636efa",
           "#EF553B",
           "#00cc96",
           "#ab63fa",
           "#FFA15A",
           "#19d3f3",
           "#FF6692",
           "#B6E880",
           "#FF97FF",
           "#FECB52"
          ],
          "font": {
           "color": "#2a3f5f"
          },
          "geo": {
           "bgcolor": "white",
           "lakecolor": "white",
           "landcolor": "#E5ECF6",
           "showlakes": true,
           "showland": true,
           "subunitcolor": "white"
          },
          "hoverlabel": {
           "align": "left"
          },
          "hovermode": "closest",
          "mapbox": {
           "style": "light"
          },
          "paper_bgcolor": "white",
          "plot_bgcolor": "#E5ECF6",
          "polar": {
           "angularaxis": {
            "gridcolor": "white",
            "linecolor": "white",
            "ticks": ""
           },
           "bgcolor": "#E5ECF6",
           "radialaxis": {
            "gridcolor": "white",
            "linecolor": "white",
            "ticks": ""
           }
          },
          "scene": {
           "xaxis": {
            "backgroundcolor": "#E5ECF6",
            "gridcolor": "white",
            "gridwidth": 2,
            "linecolor": "white",
            "showbackground": true,
            "ticks": "",
            "zerolinecolor": "white"
           },
           "yaxis": {
            "backgroundcolor": "#E5ECF6",
            "gridcolor": "white",
            "gridwidth": 2,
            "linecolor": "white",
            "showbackground": true,
            "ticks": "",
            "zerolinecolor": "white"
           },
           "zaxis": {
            "backgroundcolor": "#E5ECF6",
            "gridcolor": "white",
            "gridwidth": 2,
            "linecolor": "white",
            "showbackground": true,
            "ticks": "",
            "zerolinecolor": "white"
           }
          },
          "shapedefaults": {
           "line": {
            "color": "#2a3f5f"
           }
          },
          "ternary": {
           "aaxis": {
            "gridcolor": "white",
            "linecolor": "white",
            "ticks": ""
           },
           "baxis": {
            "gridcolor": "white",
            "linecolor": "white",
            "ticks": ""
           },
           "bgcolor": "#E5ECF6",
           "caxis": {
            "gridcolor": "white",
            "linecolor": "white",
            "ticks": ""
           }
          },
          "title": {
           "x": 0.05
          },
          "xaxis": {
           "automargin": true,
           "gridcolor": "white",
           "linecolor": "white",
           "ticks": "",
           "title": {
            "standoff": 15
           },
           "zerolinecolor": "white",
           "zerolinewidth": 2
          },
          "yaxis": {
           "automargin": true,
           "gridcolor": "white",
           "linecolor": "white",
           "ticks": "",
           "title": {
            "standoff": 15
           },
           "zerolinecolor": "white",
           "zerolinewidth": 2
          }
         }
        },
        "xaxis": {
         "anchor": "y",
         "domain": [
          0,
          1
         ],
         "title": {
          "text": "x"
         }
        },
        "yaxis": {
         "anchor": "x",
         "domain": [
          0,
          1
         ],
         "title": {
          "text": "y"
         }
        }
       }
      }
     },
     "metadata": {},
     "output_type": "display_data"
    }
   ],
   "source": [
    "dividends_df = history_df[history_df.Dividends != 0]\n",
    "px.bar(history_df, x=dividends_df.index, y=dividends_df.Close)"
   ]
  },
  {
   "cell_type": "code",
   "execution_count": 12,
   "id": "ff8a37c19bdf1083",
   "metadata": {
    "ExecuteTime": {
     "end_time": "2023-08-03T01:41:48.113907201Z",
     "start_time": "2023-08-03T01:41:47.798384689Z"
    },
    "collapsed": false
   },
   "outputs": [
    {
     "data": {
      "text/html": [
       "<div>\n",
       "<style scoped>\n",
       "    .dataframe tbody tr th:only-of-type {\n",
       "        vertical-align: middle;\n",
       "    }\n",
       "\n",
       "    .dataframe tbody tr th {\n",
       "        vertical-align: top;\n",
       "    }\n",
       "\n",
       "    .dataframe thead th {\n",
       "        text-align: right;\n",
       "    }\n",
       "</style>\n",
       "<table border=\"1\" class=\"dataframe\">\n",
       "  <thead>\n",
       "    <tr style=\"text-align: right;\">\n",
       "      <th></th>\n",
       "      <th>Open</th>\n",
       "      <th>High</th>\n",
       "      <th>Low</th>\n",
       "      <th>Close</th>\n",
       "      <th>Volume</th>\n",
       "      <th>Dividends</th>\n",
       "      <th>Stock Splits</th>\n",
       "    </tr>\n",
       "    <tr>\n",
       "      <th>Date</th>\n",
       "      <th></th>\n",
       "      <th></th>\n",
       "      <th></th>\n",
       "      <th></th>\n",
       "      <th></th>\n",
       "      <th></th>\n",
       "      <th></th>\n",
       "    </tr>\n",
       "  </thead>\n",
       "  <tbody>\n",
       "    <tr>\n",
       "      <th>2023-03-01 00:00:00-03:00</th>\n",
       "      <td>9.507270</td>\n",
       "      <td>9.694053</td>\n",
       "      <td>9.451234</td>\n",
       "      <td>9.694053</td>\n",
       "      <td>15247548</td>\n",
       "      <td>0.120000</td>\n",
       "      <td>0.0</td>\n",
       "    </tr>\n",
       "    <tr>\n",
       "      <th>2023-04-01 00:00:00-03:00</th>\n",
       "      <td>9.742966</td>\n",
       "      <td>10.064266</td>\n",
       "      <td>9.695716</td>\n",
       "      <td>9.988666</td>\n",
       "      <td>11832614</td>\n",
       "      <td>0.120000</td>\n",
       "      <td>0.0</td>\n",
       "    </tr>\n",
       "    <tr>\n",
       "      <th>2023-05-01 00:00:00-03:00</th>\n",
       "      <td>10.105491</td>\n",
       "      <td>10.306262</td>\n",
       "      <td>9.914280</td>\n",
       "      <td>10.239339</td>\n",
       "      <td>18058366</td>\n",
       "      <td>0.120000</td>\n",
       "      <td>0.0</td>\n",
       "    </tr>\n",
       "    <tr>\n",
       "      <th>2023-06-01 00:00:00-03:00</th>\n",
       "      <td>10.250547</td>\n",
       "      <td>10.608349</td>\n",
       "      <td>10.163514</td>\n",
       "      <td>10.540656</td>\n",
       "      <td>25206357</td>\n",
       "      <td>0.119235</td>\n",
       "      <td>0.0</td>\n",
       "    </tr>\n",
       "    <tr>\n",
       "      <th>2023-07-01 00:00:00-03:00</th>\n",
       "      <td>10.532199</td>\n",
       "      <td>10.532199</td>\n",
       "      <td>10.199706</td>\n",
       "      <td>10.483303</td>\n",
       "      <td>21837231</td>\n",
       "      <td>0.120000</td>\n",
       "      <td>0.0</td>\n",
       "    </tr>\n",
       "    <tr>\n",
       "      <th>2023-08-01 00:00:00-03:00</th>\n",
       "      <td>10.600000</td>\n",
       "      <td>10.700000</td>\n",
       "      <td>10.530000</td>\n",
       "      <td>10.700000</td>\n",
       "      <td>2186081</td>\n",
       "      <td>0.120000</td>\n",
       "      <td>0.0</td>\n",
       "    </tr>\n",
       "  </tbody>\n",
       "</table>\n",
       "</div>"
      ],
      "text/plain": [
       "                                Open       High        Low      Close  \\\n",
       "Date                                                                    \n",
       "2023-03-01 00:00:00-03:00   9.507270   9.694053   9.451234   9.694053   \n",
       "2023-04-01 00:00:00-03:00   9.742966  10.064266   9.695716   9.988666   \n",
       "2023-05-01 00:00:00-03:00  10.105491  10.306262   9.914280  10.239339   \n",
       "2023-06-01 00:00:00-03:00  10.250547  10.608349  10.163514  10.540656   \n",
       "2023-07-01 00:00:00-03:00  10.532199  10.532199  10.199706  10.483303   \n",
       "2023-08-01 00:00:00-03:00  10.600000  10.700000  10.530000  10.700000   \n",
       "\n",
       "                             Volume  Dividends  Stock Splits  \n",
       "Date                                                          \n",
       "2023-03-01 00:00:00-03:00  15247548   0.120000           0.0  \n",
       "2023-04-01 00:00:00-03:00  11832614   0.120000           0.0  \n",
       "2023-05-01 00:00:00-03:00  18058366   0.120000           0.0  \n",
       "2023-06-01 00:00:00-03:00  25206357   0.119235           0.0  \n",
       "2023-07-01 00:00:00-03:00  21837231   0.120000           0.0  \n",
       "2023-08-01 00:00:00-03:00   2186081   0.120000           0.0  "
      ]
     },
     "execution_count": 12,
     "metadata": {},
     "output_type": "execute_result"
    }
   ],
   "source": [
    "history_df = mxrf11.history(period=\"6mo\", interval=\"1mo\")\n",
    "history_df"
   ]
  },
  {
   "cell_type": "code",
   "execution_count": 13,
   "id": "e2dec496d4ed6125",
   "metadata": {
    "ExecuteTime": {
     "end_time": "2023-08-03T01:45:45.520469663Z",
     "start_time": "2023-08-03T01:45:45.346799664Z"
    },
    "collapsed": false
   },
   "outputs": [
    {
     "data": {
      "application/vnd.plotly.v1+json": {
       "config": {
        "plotlyServerURL": "https://plot.ly"
       },
       "data": [
        {
         "alignmentgroup": "True",
         "hovertemplate": "x=%{x}<br>y=%{y}<extra></extra>",
         "legendgroup": "",
         "marker": {
          "color": "#636efa",
          "pattern": {
           "shape": ""
          }
         },
         "name": "",
         "offsetgroup": "",
         "orientation": "v",
         "showlegend": false,
         "textposition": "auto",
         "type": "bar",
         "x": [
          "2023-03-01T00:00:00-03:00",
          "2023-04-03T00:00:00-03:00",
          "2023-05-02T00:00:00-03:00",
          "2023-06-01T00:00:00-03:00",
          "2023-07-03T00:00:00-03:00",
          "2023-08-01T00:00:00-03:00"
         ],
         "xaxis": "x",
         "y": [
          0.12,
          0.12,
          0.12,
          0.119235,
          0.12,
          0.12
         ],
         "yaxis": "y"
        }
       ],
       "layout": {
        "barmode": "relative",
        "legend": {
         "tracegroupgap": 0
        },
        "margin": {
         "t": 60
        },
        "template": {
         "data": {
          "bar": [
           {
            "error_x": {
             "color": "#2a3f5f"
            },
            "error_y": {
             "color": "#2a3f5f"
            },
            "marker": {
             "line": {
              "color": "#E5ECF6",
              "width": 0.5
             },
             "pattern": {
              "fillmode": "overlay",
              "size": 10,
              "solidity": 0.2
             }
            },
            "type": "bar"
           }
          ],
          "barpolar": [
           {
            "marker": {
             "line": {
              "color": "#E5ECF6",
              "width": 0.5
             },
             "pattern": {
              "fillmode": "overlay",
              "size": 10,
              "solidity": 0.2
             }
            },
            "type": "barpolar"
           }
          ],
          "carpet": [
           {
            "aaxis": {
             "endlinecolor": "#2a3f5f",
             "gridcolor": "white",
             "linecolor": "white",
             "minorgridcolor": "white",
             "startlinecolor": "#2a3f5f"
            },
            "baxis": {
             "endlinecolor": "#2a3f5f",
             "gridcolor": "white",
             "linecolor": "white",
             "minorgridcolor": "white",
             "startlinecolor": "#2a3f5f"
            },
            "type": "carpet"
           }
          ],
          "choropleth": [
           {
            "colorbar": {
             "outlinewidth": 0,
             "ticks": ""
            },
            "type": "choropleth"
           }
          ],
          "contour": [
           {
            "colorbar": {
             "outlinewidth": 0,
             "ticks": ""
            },
            "colorscale": [
             [
              0,
              "#0d0887"
             ],
             [
              0.1111111111111111,
              "#46039f"
             ],
             [
              0.2222222222222222,
              "#7201a8"
             ],
             [
              0.3333333333333333,
              "#9c179e"
             ],
             [
              0.4444444444444444,
              "#bd3786"
             ],
             [
              0.5555555555555556,
              "#d8576b"
             ],
             [
              0.6666666666666666,
              "#ed7953"
             ],
             [
              0.7777777777777778,
              "#fb9f3a"
             ],
             [
              0.8888888888888888,
              "#fdca26"
             ],
             [
              1,
              "#f0f921"
             ]
            ],
            "type": "contour"
           }
          ],
          "contourcarpet": [
           {
            "colorbar": {
             "outlinewidth": 0,
             "ticks": ""
            },
            "type": "contourcarpet"
           }
          ],
          "heatmap": [
           {
            "colorbar": {
             "outlinewidth": 0,
             "ticks": ""
            },
            "colorscale": [
             [
              0,
              "#0d0887"
             ],
             [
              0.1111111111111111,
              "#46039f"
             ],
             [
              0.2222222222222222,
              "#7201a8"
             ],
             [
              0.3333333333333333,
              "#9c179e"
             ],
             [
              0.4444444444444444,
              "#bd3786"
             ],
             [
              0.5555555555555556,
              "#d8576b"
             ],
             [
              0.6666666666666666,
              "#ed7953"
             ],
             [
              0.7777777777777778,
              "#fb9f3a"
             ],
             [
              0.8888888888888888,
              "#fdca26"
             ],
             [
              1,
              "#f0f921"
             ]
            ],
            "type": "heatmap"
           }
          ],
          "heatmapgl": [
           {
            "colorbar": {
             "outlinewidth": 0,
             "ticks": ""
            },
            "colorscale": [
             [
              0,
              "#0d0887"
             ],
             [
              0.1111111111111111,
              "#46039f"
             ],
             [
              0.2222222222222222,
              "#7201a8"
             ],
             [
              0.3333333333333333,
              "#9c179e"
             ],
             [
              0.4444444444444444,
              "#bd3786"
             ],
             [
              0.5555555555555556,
              "#d8576b"
             ],
             [
              0.6666666666666666,
              "#ed7953"
             ],
             [
              0.7777777777777778,
              "#fb9f3a"
             ],
             [
              0.8888888888888888,
              "#fdca26"
             ],
             [
              1,
              "#f0f921"
             ]
            ],
            "type": "heatmapgl"
           }
          ],
          "histogram": [
           {
            "marker": {
             "pattern": {
              "fillmode": "overlay",
              "size": 10,
              "solidity": 0.2
             }
            },
            "type": "histogram"
           }
          ],
          "histogram2d": [
           {
            "colorbar": {
             "outlinewidth": 0,
             "ticks": ""
            },
            "colorscale": [
             [
              0,
              "#0d0887"
             ],
             [
              0.1111111111111111,
              "#46039f"
             ],
             [
              0.2222222222222222,
              "#7201a8"
             ],
             [
              0.3333333333333333,
              "#9c179e"
             ],
             [
              0.4444444444444444,
              "#bd3786"
             ],
             [
              0.5555555555555556,
              "#d8576b"
             ],
             [
              0.6666666666666666,
              "#ed7953"
             ],
             [
              0.7777777777777778,
              "#fb9f3a"
             ],
             [
              0.8888888888888888,
              "#fdca26"
             ],
             [
              1,
              "#f0f921"
             ]
            ],
            "type": "histogram2d"
           }
          ],
          "histogram2dcontour": [
           {
            "colorbar": {
             "outlinewidth": 0,
             "ticks": ""
            },
            "colorscale": [
             [
              0,
              "#0d0887"
             ],
             [
              0.1111111111111111,
              "#46039f"
             ],
             [
              0.2222222222222222,
              "#7201a8"
             ],
             [
              0.3333333333333333,
              "#9c179e"
             ],
             [
              0.4444444444444444,
              "#bd3786"
             ],
             [
              0.5555555555555556,
              "#d8576b"
             ],
             [
              0.6666666666666666,
              "#ed7953"
             ],
             [
              0.7777777777777778,
              "#fb9f3a"
             ],
             [
              0.8888888888888888,
              "#fdca26"
             ],
             [
              1,
              "#f0f921"
             ]
            ],
            "type": "histogram2dcontour"
           }
          ],
          "mesh3d": [
           {
            "colorbar": {
             "outlinewidth": 0,
             "ticks": ""
            },
            "type": "mesh3d"
           }
          ],
          "parcoords": [
           {
            "line": {
             "colorbar": {
              "outlinewidth": 0,
              "ticks": ""
             }
            },
            "type": "parcoords"
           }
          ],
          "pie": [
           {
            "automargin": true,
            "type": "pie"
           }
          ],
          "scatter": [
           {
            "fillpattern": {
             "fillmode": "overlay",
             "size": 10,
             "solidity": 0.2
            },
            "type": "scatter"
           }
          ],
          "scatter3d": [
           {
            "line": {
             "colorbar": {
              "outlinewidth": 0,
              "ticks": ""
             }
            },
            "marker": {
             "colorbar": {
              "outlinewidth": 0,
              "ticks": ""
             }
            },
            "type": "scatter3d"
           }
          ],
          "scattercarpet": [
           {
            "marker": {
             "colorbar": {
              "outlinewidth": 0,
              "ticks": ""
             }
            },
            "type": "scattercarpet"
           }
          ],
          "scattergeo": [
           {
            "marker": {
             "colorbar": {
              "outlinewidth": 0,
              "ticks": ""
             }
            },
            "type": "scattergeo"
           }
          ],
          "scattergl": [
           {
            "marker": {
             "colorbar": {
              "outlinewidth": 0,
              "ticks": ""
             }
            },
            "type": "scattergl"
           }
          ],
          "scattermapbox": [
           {
            "marker": {
             "colorbar": {
              "outlinewidth": 0,
              "ticks": ""
             }
            },
            "type": "scattermapbox"
           }
          ],
          "scatterpolar": [
           {
            "marker": {
             "colorbar": {
              "outlinewidth": 0,
              "ticks": ""
             }
            },
            "type": "scatterpolar"
           }
          ],
          "scatterpolargl": [
           {
            "marker": {
             "colorbar": {
              "outlinewidth": 0,
              "ticks": ""
             }
            },
            "type": "scatterpolargl"
           }
          ],
          "scatterternary": [
           {
            "marker": {
             "colorbar": {
              "outlinewidth": 0,
              "ticks": ""
             }
            },
            "type": "scatterternary"
           }
          ],
          "surface": [
           {
            "colorbar": {
             "outlinewidth": 0,
             "ticks": ""
            },
            "colorscale": [
             [
              0,
              "#0d0887"
             ],
             [
              0.1111111111111111,
              "#46039f"
             ],
             [
              0.2222222222222222,
              "#7201a8"
             ],
             [
              0.3333333333333333,
              "#9c179e"
             ],
             [
              0.4444444444444444,
              "#bd3786"
             ],
             [
              0.5555555555555556,
              "#d8576b"
             ],
             [
              0.6666666666666666,
              "#ed7953"
             ],
             [
              0.7777777777777778,
              "#fb9f3a"
             ],
             [
              0.8888888888888888,
              "#fdca26"
             ],
             [
              1,
              "#f0f921"
             ]
            ],
            "type": "surface"
           }
          ],
          "table": [
           {
            "cells": {
             "fill": {
              "color": "#EBF0F8"
             },
             "line": {
              "color": "white"
             }
            },
            "header": {
             "fill": {
              "color": "#C8D4E3"
             },
             "line": {
              "color": "white"
             }
            },
            "type": "table"
           }
          ]
         },
         "layout": {
          "annotationdefaults": {
           "arrowcolor": "#2a3f5f",
           "arrowhead": 0,
           "arrowwidth": 1
          },
          "autotypenumbers": "strict",
          "coloraxis": {
           "colorbar": {
            "outlinewidth": 0,
            "ticks": ""
           }
          },
          "colorscale": {
           "diverging": [
            [
             0,
             "#8e0152"
            ],
            [
             0.1,
             "#c51b7d"
            ],
            [
             0.2,
             "#de77ae"
            ],
            [
             0.3,
             "#f1b6da"
            ],
            [
             0.4,
             "#fde0ef"
            ],
            [
             0.5,
             "#f7f7f7"
            ],
            [
             0.6,
             "#e6f5d0"
            ],
            [
             0.7,
             "#b8e186"
            ],
            [
             0.8,
             "#7fbc41"
            ],
            [
             0.9,
             "#4d9221"
            ],
            [
             1,
             "#276419"
            ]
           ],
           "sequential": [
            [
             0,
             "#0d0887"
            ],
            [
             0.1111111111111111,
             "#46039f"
            ],
            [
             0.2222222222222222,
             "#7201a8"
            ],
            [
             0.3333333333333333,
             "#9c179e"
            ],
            [
             0.4444444444444444,
             "#bd3786"
            ],
            [
             0.5555555555555556,
             "#d8576b"
            ],
            [
             0.6666666666666666,
             "#ed7953"
            ],
            [
             0.7777777777777778,
             "#fb9f3a"
            ],
            [
             0.8888888888888888,
             "#fdca26"
            ],
            [
             1,
             "#f0f921"
            ]
           ],
           "sequentialminus": [
            [
             0,
             "#0d0887"
            ],
            [
             0.1111111111111111,
             "#46039f"
            ],
            [
             0.2222222222222222,
             "#7201a8"
            ],
            [
             0.3333333333333333,
             "#9c179e"
            ],
            [
             0.4444444444444444,
             "#bd3786"
            ],
            [
             0.5555555555555556,
             "#d8576b"
            ],
            [
             0.6666666666666666,
             "#ed7953"
            ],
            [
             0.7777777777777778,
             "#fb9f3a"
            ],
            [
             0.8888888888888888,
             "#fdca26"
            ],
            [
             1,
             "#f0f921"
            ]
           ]
          },
          "colorway": [
           "#636efa",
           "#EF553B",
           "#00cc96",
           "#ab63fa",
           "#FFA15A",
           "#19d3f3",
           "#FF6692",
           "#B6E880",
           "#FF97FF",
           "#FECB52"
          ],
          "font": {
           "color": "#2a3f5f"
          },
          "geo": {
           "bgcolor": "white",
           "lakecolor": "white",
           "landcolor": "#E5ECF6",
           "showlakes": true,
           "showland": true,
           "subunitcolor": "white"
          },
          "hoverlabel": {
           "align": "left"
          },
          "hovermode": "closest",
          "mapbox": {
           "style": "light"
          },
          "paper_bgcolor": "white",
          "plot_bgcolor": "#E5ECF6",
          "polar": {
           "angularaxis": {
            "gridcolor": "white",
            "linecolor": "white",
            "ticks": ""
           },
           "bgcolor": "#E5ECF6",
           "radialaxis": {
            "gridcolor": "white",
            "linecolor": "white",
            "ticks": ""
           }
          },
          "scene": {
           "xaxis": {
            "backgroundcolor": "#E5ECF6",
            "gridcolor": "white",
            "gridwidth": 2,
            "linecolor": "white",
            "showbackground": true,
            "ticks": "",
            "zerolinecolor": "white"
           },
           "yaxis": {
            "backgroundcolor": "#E5ECF6",
            "gridcolor": "white",
            "gridwidth": 2,
            "linecolor": "white",
            "showbackground": true,
            "ticks": "",
            "zerolinecolor": "white"
           },
           "zaxis": {
            "backgroundcolor": "#E5ECF6",
            "gridcolor": "white",
            "gridwidth": 2,
            "linecolor": "white",
            "showbackground": true,
            "ticks": "",
            "zerolinecolor": "white"
           }
          },
          "shapedefaults": {
           "line": {
            "color": "#2a3f5f"
           }
          },
          "ternary": {
           "aaxis": {
            "gridcolor": "white",
            "linecolor": "white",
            "ticks": ""
           },
           "baxis": {
            "gridcolor": "white",
            "linecolor": "white",
            "ticks": ""
           },
           "bgcolor": "#E5ECF6",
           "caxis": {
            "gridcolor": "white",
            "linecolor": "white",
            "ticks": ""
           }
          },
          "title": {
           "x": 0.05
          },
          "xaxis": {
           "automargin": true,
           "gridcolor": "white",
           "linecolor": "white",
           "ticks": "",
           "title": {
            "standoff": 15
           },
           "zerolinecolor": "white",
           "zerolinewidth": 2
          },
          "yaxis": {
           "automargin": true,
           "gridcolor": "white",
           "linecolor": "white",
           "ticks": "",
           "title": {
            "standoff": 15
           },
           "zerolinecolor": "white",
           "zerolinewidth": 2
          }
         }
        },
        "xaxis": {
         "anchor": "y",
         "domain": [
          0,
          1
         ],
         "title": {
          "text": "x"
         }
        },
        "yaxis": {
         "anchor": "x",
         "domain": [
          0,
          1
         ],
         "title": {
          "text": "y"
         }
        }
       }
      }
     },
     "metadata": {},
     "output_type": "display_data"
    }
   ],
   "source": [
    "fig = px.bar(history_df, x=dividends_df.index, y=dividends_df.Dividends)\n",
    "fig.show()"
   ]
  },
  {
   "cell_type": "markdown",
   "id": "2c4aed41",
   "metadata": {},
   "source": [
    "# Gráfico Candle Stick"
   ]
  },
  {
   "cell_type": "code",
   "execution_count": 14,
   "id": "16407a12",
   "metadata": {},
   "outputs": [],
   "source": [
    "aapl = yf.Ticker(\"AAPL\")\n",
    "history_df = aapl.history(period=\"1mo\", interval=\"1d\")"
   ]
  },
  {
   "cell_type": "code",
   "execution_count": 15,
   "id": "ecd2190f",
   "metadata": {},
   "outputs": [
    {
     "data": {
      "text/html": [
       "<div>\n",
       "<style scoped>\n",
       "    .dataframe tbody tr th:only-of-type {\n",
       "        vertical-align: middle;\n",
       "    }\n",
       "\n",
       "    .dataframe tbody tr th {\n",
       "        vertical-align: top;\n",
       "    }\n",
       "\n",
       "    .dataframe thead th {\n",
       "        text-align: right;\n",
       "    }\n",
       "</style>\n",
       "<table border=\"1\" class=\"dataframe\">\n",
       "  <thead>\n",
       "    <tr style=\"text-align: right;\">\n",
       "      <th></th>\n",
       "      <th>Open</th>\n",
       "      <th>High</th>\n",
       "      <th>Low</th>\n",
       "      <th>Close</th>\n",
       "      <th>Volume</th>\n",
       "      <th>Dividends</th>\n",
       "      <th>Stock Splits</th>\n",
       "    </tr>\n",
       "    <tr>\n",
       "      <th>Date</th>\n",
       "      <th></th>\n",
       "      <th></th>\n",
       "      <th></th>\n",
       "      <th></th>\n",
       "      <th></th>\n",
       "      <th></th>\n",
       "      <th></th>\n",
       "    </tr>\n",
       "  </thead>\n",
       "  <tbody>\n",
       "    <tr>\n",
       "      <th>2023-07-05 00:00:00-04:00</th>\n",
       "      <td>191.570007</td>\n",
       "      <td>192.979996</td>\n",
       "      <td>190.619995</td>\n",
       "      <td>191.330002</td>\n",
       "      <td>46920300</td>\n",
       "      <td>0.0</td>\n",
       "      <td>0.0</td>\n",
       "    </tr>\n",
       "    <tr>\n",
       "      <th>2023-07-06 00:00:00-04:00</th>\n",
       "      <td>189.839996</td>\n",
       "      <td>192.020004</td>\n",
       "      <td>189.199997</td>\n",
       "      <td>191.809998</td>\n",
       "      <td>45094300</td>\n",
       "      <td>0.0</td>\n",
       "      <td>0.0</td>\n",
       "    </tr>\n",
       "    <tr>\n",
       "      <th>2023-07-07 00:00:00-04:00</th>\n",
       "      <td>191.410004</td>\n",
       "      <td>192.669998</td>\n",
       "      <td>190.240005</td>\n",
       "      <td>190.679993</td>\n",
       "      <td>46778000</td>\n",
       "      <td>0.0</td>\n",
       "      <td>0.0</td>\n",
       "    </tr>\n",
       "    <tr>\n",
       "      <th>2023-07-10 00:00:00-04:00</th>\n",
       "      <td>189.259995</td>\n",
       "      <td>189.990005</td>\n",
       "      <td>187.039993</td>\n",
       "      <td>188.610001</td>\n",
       "      <td>59922200</td>\n",
       "      <td>0.0</td>\n",
       "      <td>0.0</td>\n",
       "    </tr>\n",
       "    <tr>\n",
       "      <th>2023-07-11 00:00:00-04:00</th>\n",
       "      <td>189.160004</td>\n",
       "      <td>189.300003</td>\n",
       "      <td>186.600006</td>\n",
       "      <td>188.080002</td>\n",
       "      <td>46638100</td>\n",
       "      <td>0.0</td>\n",
       "      <td>0.0</td>\n",
       "    </tr>\n",
       "    <tr>\n",
       "      <th>2023-07-12 00:00:00-04:00</th>\n",
       "      <td>189.679993</td>\n",
       "      <td>191.699997</td>\n",
       "      <td>188.470001</td>\n",
       "      <td>189.770004</td>\n",
       "      <td>60750200</td>\n",
       "      <td>0.0</td>\n",
       "      <td>0.0</td>\n",
       "    </tr>\n",
       "    <tr>\n",
       "      <th>2023-07-13 00:00:00-04:00</th>\n",
       "      <td>190.500000</td>\n",
       "      <td>191.190002</td>\n",
       "      <td>189.779999</td>\n",
       "      <td>190.539993</td>\n",
       "      <td>41342300</td>\n",
       "      <td>0.0</td>\n",
       "      <td>0.0</td>\n",
       "    </tr>\n",
       "    <tr>\n",
       "      <th>2023-07-14 00:00:00-04:00</th>\n",
       "      <td>190.229996</td>\n",
       "      <td>191.179993</td>\n",
       "      <td>189.630005</td>\n",
       "      <td>190.690002</td>\n",
       "      <td>41573900</td>\n",
       "      <td>0.0</td>\n",
       "      <td>0.0</td>\n",
       "    </tr>\n",
       "    <tr>\n",
       "      <th>2023-07-17 00:00:00-04:00</th>\n",
       "      <td>191.899994</td>\n",
       "      <td>194.320007</td>\n",
       "      <td>191.809998</td>\n",
       "      <td>193.990005</td>\n",
       "      <td>50520200</td>\n",
       "      <td>0.0</td>\n",
       "      <td>0.0</td>\n",
       "    </tr>\n",
       "    <tr>\n",
       "      <th>2023-07-18 00:00:00-04:00</th>\n",
       "      <td>193.350006</td>\n",
       "      <td>194.330002</td>\n",
       "      <td>192.419998</td>\n",
       "      <td>193.729996</td>\n",
       "      <td>48353800</td>\n",
       "      <td>0.0</td>\n",
       "      <td>0.0</td>\n",
       "    </tr>\n",
       "    <tr>\n",
       "      <th>2023-07-19 00:00:00-04:00</th>\n",
       "      <td>193.100006</td>\n",
       "      <td>198.229996</td>\n",
       "      <td>192.649994</td>\n",
       "      <td>195.100006</td>\n",
       "      <td>80507300</td>\n",
       "      <td>0.0</td>\n",
       "      <td>0.0</td>\n",
       "    </tr>\n",
       "    <tr>\n",
       "      <th>2023-07-20 00:00:00-04:00</th>\n",
       "      <td>195.089996</td>\n",
       "      <td>196.470001</td>\n",
       "      <td>192.500000</td>\n",
       "      <td>193.130005</td>\n",
       "      <td>59581200</td>\n",
       "      <td>0.0</td>\n",
       "      <td>0.0</td>\n",
       "    </tr>\n",
       "    <tr>\n",
       "      <th>2023-07-21 00:00:00-04:00</th>\n",
       "      <td>194.100006</td>\n",
       "      <td>194.970001</td>\n",
       "      <td>191.229996</td>\n",
       "      <td>191.940002</td>\n",
       "      <td>71917800</td>\n",
       "      <td>0.0</td>\n",
       "      <td>0.0</td>\n",
       "    </tr>\n",
       "    <tr>\n",
       "      <th>2023-07-24 00:00:00-04:00</th>\n",
       "      <td>193.410004</td>\n",
       "      <td>194.910004</td>\n",
       "      <td>192.250000</td>\n",
       "      <td>192.750000</td>\n",
       "      <td>45377800</td>\n",
       "      <td>0.0</td>\n",
       "      <td>0.0</td>\n",
       "    </tr>\n",
       "    <tr>\n",
       "      <th>2023-07-25 00:00:00-04:00</th>\n",
       "      <td>193.330002</td>\n",
       "      <td>194.440002</td>\n",
       "      <td>192.919998</td>\n",
       "      <td>193.619995</td>\n",
       "      <td>37283200</td>\n",
       "      <td>0.0</td>\n",
       "      <td>0.0</td>\n",
       "    </tr>\n",
       "    <tr>\n",
       "      <th>2023-07-26 00:00:00-04:00</th>\n",
       "      <td>193.669998</td>\n",
       "      <td>195.639999</td>\n",
       "      <td>193.320007</td>\n",
       "      <td>194.500000</td>\n",
       "      <td>47471900</td>\n",
       "      <td>0.0</td>\n",
       "      <td>0.0</td>\n",
       "    </tr>\n",
       "    <tr>\n",
       "      <th>2023-07-27 00:00:00-04:00</th>\n",
       "      <td>196.020004</td>\n",
       "      <td>197.199997</td>\n",
       "      <td>192.550003</td>\n",
       "      <td>193.220001</td>\n",
       "      <td>47460200</td>\n",
       "      <td>0.0</td>\n",
       "      <td>0.0</td>\n",
       "    </tr>\n",
       "    <tr>\n",
       "      <th>2023-07-28 00:00:00-04:00</th>\n",
       "      <td>194.669998</td>\n",
       "      <td>196.630005</td>\n",
       "      <td>194.139999</td>\n",
       "      <td>195.830002</td>\n",
       "      <td>48291400</td>\n",
       "      <td>0.0</td>\n",
       "      <td>0.0</td>\n",
       "    </tr>\n",
       "    <tr>\n",
       "      <th>2023-07-31 00:00:00-04:00</th>\n",
       "      <td>196.059998</td>\n",
       "      <td>196.490005</td>\n",
       "      <td>195.259995</td>\n",
       "      <td>196.449997</td>\n",
       "      <td>38824100</td>\n",
       "      <td>0.0</td>\n",
       "      <td>0.0</td>\n",
       "    </tr>\n",
       "    <tr>\n",
       "      <th>2023-08-01 00:00:00-04:00</th>\n",
       "      <td>196.240005</td>\n",
       "      <td>196.729996</td>\n",
       "      <td>195.279999</td>\n",
       "      <td>195.610001</td>\n",
       "      <td>35175100</td>\n",
       "      <td>0.0</td>\n",
       "      <td>0.0</td>\n",
       "    </tr>\n",
       "    <tr>\n",
       "      <th>2023-08-02 00:00:00-04:00</th>\n",
       "      <td>195.039993</td>\n",
       "      <td>195.179993</td>\n",
       "      <td>191.850006</td>\n",
       "      <td>192.580002</td>\n",
       "      <td>50389300</td>\n",
       "      <td>0.0</td>\n",
       "      <td>0.0</td>\n",
       "    </tr>\n",
       "    <tr>\n",
       "      <th>2023-08-03 00:00:00-04:00</th>\n",
       "      <td>191.570007</td>\n",
       "      <td>192.369995</td>\n",
       "      <td>190.690002</td>\n",
       "      <td>191.169998</td>\n",
       "      <td>61235200</td>\n",
       "      <td>0.0</td>\n",
       "      <td>0.0</td>\n",
       "    </tr>\n",
       "    <tr>\n",
       "      <th>2023-08-04 00:00:00-04:00</th>\n",
       "      <td>185.520004</td>\n",
       "      <td>187.380005</td>\n",
       "      <td>181.919998</td>\n",
       "      <td>181.990005</td>\n",
       "      <td>110000114</td>\n",
       "      <td>0.0</td>\n",
       "      <td>0.0</td>\n",
       "    </tr>\n",
       "  </tbody>\n",
       "</table>\n",
       "</div>"
      ],
      "text/plain": [
       "                                 Open        High         Low       Close  \\\n",
       "Date                                                                        \n",
       "2023-07-05 00:00:00-04:00  191.570007  192.979996  190.619995  191.330002   \n",
       "2023-07-06 00:00:00-04:00  189.839996  192.020004  189.199997  191.809998   \n",
       "2023-07-07 00:00:00-04:00  191.410004  192.669998  190.240005  190.679993   \n",
       "2023-07-10 00:00:00-04:00  189.259995  189.990005  187.039993  188.610001   \n",
       "2023-07-11 00:00:00-04:00  189.160004  189.300003  186.600006  188.080002   \n",
       "2023-07-12 00:00:00-04:00  189.679993  191.699997  188.470001  189.770004   \n",
       "2023-07-13 00:00:00-04:00  190.500000  191.190002  189.779999  190.539993   \n",
       "2023-07-14 00:00:00-04:00  190.229996  191.179993  189.630005  190.690002   \n",
       "2023-07-17 00:00:00-04:00  191.899994  194.320007  191.809998  193.990005   \n",
       "2023-07-18 00:00:00-04:00  193.350006  194.330002  192.419998  193.729996   \n",
       "2023-07-19 00:00:00-04:00  193.100006  198.229996  192.649994  195.100006   \n",
       "2023-07-20 00:00:00-04:00  195.089996  196.470001  192.500000  193.130005   \n",
       "2023-07-21 00:00:00-04:00  194.100006  194.970001  191.229996  191.940002   \n",
       "2023-07-24 00:00:00-04:00  193.410004  194.910004  192.250000  192.750000   \n",
       "2023-07-25 00:00:00-04:00  193.330002  194.440002  192.919998  193.619995   \n",
       "2023-07-26 00:00:00-04:00  193.669998  195.639999  193.320007  194.500000   \n",
       "2023-07-27 00:00:00-04:00  196.020004  197.199997  192.550003  193.220001   \n",
       "2023-07-28 00:00:00-04:00  194.669998  196.630005  194.139999  195.830002   \n",
       "2023-07-31 00:00:00-04:00  196.059998  196.490005  195.259995  196.449997   \n",
       "2023-08-01 00:00:00-04:00  196.240005  196.729996  195.279999  195.610001   \n",
       "2023-08-02 00:00:00-04:00  195.039993  195.179993  191.850006  192.580002   \n",
       "2023-08-03 00:00:00-04:00  191.570007  192.369995  190.690002  191.169998   \n",
       "2023-08-04 00:00:00-04:00  185.520004  187.380005  181.919998  181.990005   \n",
       "\n",
       "                              Volume  Dividends  Stock Splits  \n",
       "Date                                                           \n",
       "2023-07-05 00:00:00-04:00   46920300        0.0           0.0  \n",
       "2023-07-06 00:00:00-04:00   45094300        0.0           0.0  \n",
       "2023-07-07 00:00:00-04:00   46778000        0.0           0.0  \n",
       "2023-07-10 00:00:00-04:00   59922200        0.0           0.0  \n",
       "2023-07-11 00:00:00-04:00   46638100        0.0           0.0  \n",
       "2023-07-12 00:00:00-04:00   60750200        0.0           0.0  \n",
       "2023-07-13 00:00:00-04:00   41342300        0.0           0.0  \n",
       "2023-07-14 00:00:00-04:00   41573900        0.0           0.0  \n",
       "2023-07-17 00:00:00-04:00   50520200        0.0           0.0  \n",
       "2023-07-18 00:00:00-04:00   48353800        0.0           0.0  \n",
       "2023-07-19 00:00:00-04:00   80507300        0.0           0.0  \n",
       "2023-07-20 00:00:00-04:00   59581200        0.0           0.0  \n",
       "2023-07-21 00:00:00-04:00   71917800        0.0           0.0  \n",
       "2023-07-24 00:00:00-04:00   45377800        0.0           0.0  \n",
       "2023-07-25 00:00:00-04:00   37283200        0.0           0.0  \n",
       "2023-07-26 00:00:00-04:00   47471900        0.0           0.0  \n",
       "2023-07-27 00:00:00-04:00   47460200        0.0           0.0  \n",
       "2023-07-28 00:00:00-04:00   48291400        0.0           0.0  \n",
       "2023-07-31 00:00:00-04:00   38824100        0.0           0.0  \n",
       "2023-08-01 00:00:00-04:00   35175100        0.0           0.0  \n",
       "2023-08-02 00:00:00-04:00   50389300        0.0           0.0  \n",
       "2023-08-03 00:00:00-04:00   61235200        0.0           0.0  \n",
       "2023-08-04 00:00:00-04:00  110000114        0.0           0.0  "
      ]
     },
     "execution_count": 15,
     "metadata": {},
     "output_type": "execute_result"
    }
   ],
   "source": [
    "history_df"
   ]
  },
  {
   "cell_type": "code",
   "execution_count": 16,
   "id": "cf9e9ece",
   "metadata": {},
   "outputs": [
    {
     "data": {
      "application/vnd.plotly.v1+json": {
       "config": {
        "plotlyServerURL": "https://plot.ly"
       },
       "data": [
        {
         "close": [
          191.3300018310547,
          191.80999755859375,
          190.67999267578125,
          188.61000061035156,
          188.0800018310547,
          189.77000427246094,
          190.5399932861328,
          190.69000244140625,
          193.99000549316406,
          193.72999572753906,
          195.10000610351562,
          193.1300048828125,
          191.94000244140625,
          192.75,
          193.6199951171875,
          194.5,
          193.22000122070312,
          195.8300018310547,
          196.4499969482422,
          195.61000061035156,
          192.5800018310547,
          191.1699981689453,
          181.99000549316406
         ],
         "high": [
          192.97999572753906,
          192.02000427246094,
          192.6699981689453,
          189.99000549316406,
          189.3000030517578,
          191.6999969482422,
          191.19000244140625,
          191.17999267578125,
          194.32000732421875,
          194.3300018310547,
          198.22999572753906,
          196.47000122070312,
          194.97000122070312,
          194.91000366210938,
          194.44000244140625,
          195.63999938964844,
          197.1999969482422,
          196.6300048828125,
          196.49000549316406,
          196.72999572753906,
          195.17999267578125,
          192.3699951171875,
          187.3800048828125
         ],
         "low": [
          190.6199951171875,
          189.1999969482422,
          190.24000549316406,
          187.0399932861328,
          186.60000610351562,
          188.47000122070312,
          189.77999877929688,
          189.6300048828125,
          191.80999755859375,
          192.4199981689453,
          192.64999389648438,
          192.5,
          191.22999572753906,
          192.25,
          192.9199981689453,
          193.32000732421875,
          192.5500030517578,
          194.13999938964844,
          195.25999450683594,
          195.27999877929688,
          191.85000610351562,
          190.69000244140625,
          181.9199981689453
         ],
         "open": [
          191.57000732421875,
          189.83999633789062,
          191.41000366210938,
          189.25999450683594,
          189.16000366210938,
          189.67999267578125,
          190.5,
          190.22999572753906,
          191.89999389648438,
          193.35000610351562,
          193.10000610351562,
          195.08999633789062,
          194.10000610351562,
          193.41000366210938,
          193.3300018310547,
          193.6699981689453,
          196.02000427246094,
          194.6699981689453,
          196.05999755859375,
          196.24000549316406,
          195.0399932861328,
          191.57000732421875,
          185.52000427246094
         ],
         "type": "candlestick",
         "x": [
          "2023-07-05T00:00:00-04:00",
          "2023-07-06T00:00:00-04:00",
          "2023-07-07T00:00:00-04:00",
          "2023-07-10T00:00:00-04:00",
          "2023-07-11T00:00:00-04:00",
          "2023-07-12T00:00:00-04:00",
          "2023-07-13T00:00:00-04:00",
          "2023-07-14T00:00:00-04:00",
          "2023-07-17T00:00:00-04:00",
          "2023-07-18T00:00:00-04:00",
          "2023-07-19T00:00:00-04:00",
          "2023-07-20T00:00:00-04:00",
          "2023-07-21T00:00:00-04:00",
          "2023-07-24T00:00:00-04:00",
          "2023-07-25T00:00:00-04:00",
          "2023-07-26T00:00:00-04:00",
          "2023-07-27T00:00:00-04:00",
          "2023-07-28T00:00:00-04:00",
          "2023-07-31T00:00:00-04:00",
          "2023-08-01T00:00:00-04:00",
          "2023-08-02T00:00:00-04:00",
          "2023-08-03T00:00:00-04:00",
          "2023-08-04T00:00:00-04:00"
         ]
        }
       ],
       "layout": {
        "template": {
         "data": {
          "bar": [
           {
            "error_x": {
             "color": "#2a3f5f"
            },
            "error_y": {
             "color": "#2a3f5f"
            },
            "marker": {
             "line": {
              "color": "#E5ECF6",
              "width": 0.5
             },
             "pattern": {
              "fillmode": "overlay",
              "size": 10,
              "solidity": 0.2
             }
            },
            "type": "bar"
           }
          ],
          "barpolar": [
           {
            "marker": {
             "line": {
              "color": "#E5ECF6",
              "width": 0.5
             },
             "pattern": {
              "fillmode": "overlay",
              "size": 10,
              "solidity": 0.2
             }
            },
            "type": "barpolar"
           }
          ],
          "carpet": [
           {
            "aaxis": {
             "endlinecolor": "#2a3f5f",
             "gridcolor": "white",
             "linecolor": "white",
             "minorgridcolor": "white",
             "startlinecolor": "#2a3f5f"
            },
            "baxis": {
             "endlinecolor": "#2a3f5f",
             "gridcolor": "white",
             "linecolor": "white",
             "minorgridcolor": "white",
             "startlinecolor": "#2a3f5f"
            },
            "type": "carpet"
           }
          ],
          "choropleth": [
           {
            "colorbar": {
             "outlinewidth": 0,
             "ticks": ""
            },
            "type": "choropleth"
           }
          ],
          "contour": [
           {
            "colorbar": {
             "outlinewidth": 0,
             "ticks": ""
            },
            "colorscale": [
             [
              0,
              "#0d0887"
             ],
             [
              0.1111111111111111,
              "#46039f"
             ],
             [
              0.2222222222222222,
              "#7201a8"
             ],
             [
              0.3333333333333333,
              "#9c179e"
             ],
             [
              0.4444444444444444,
              "#bd3786"
             ],
             [
              0.5555555555555556,
              "#d8576b"
             ],
             [
              0.6666666666666666,
              "#ed7953"
             ],
             [
              0.7777777777777778,
              "#fb9f3a"
             ],
             [
              0.8888888888888888,
              "#fdca26"
             ],
             [
              1,
              "#f0f921"
             ]
            ],
            "type": "contour"
           }
          ],
          "contourcarpet": [
           {
            "colorbar": {
             "outlinewidth": 0,
             "ticks": ""
            },
            "type": "contourcarpet"
           }
          ],
          "heatmap": [
           {
            "colorbar": {
             "outlinewidth": 0,
             "ticks": ""
            },
            "colorscale": [
             [
              0,
              "#0d0887"
             ],
             [
              0.1111111111111111,
              "#46039f"
             ],
             [
              0.2222222222222222,
              "#7201a8"
             ],
             [
              0.3333333333333333,
              "#9c179e"
             ],
             [
              0.4444444444444444,
              "#bd3786"
             ],
             [
              0.5555555555555556,
              "#d8576b"
             ],
             [
              0.6666666666666666,
              "#ed7953"
             ],
             [
              0.7777777777777778,
              "#fb9f3a"
             ],
             [
              0.8888888888888888,
              "#fdca26"
             ],
             [
              1,
              "#f0f921"
             ]
            ],
            "type": "heatmap"
           }
          ],
          "heatmapgl": [
           {
            "colorbar": {
             "outlinewidth": 0,
             "ticks": ""
            },
            "colorscale": [
             [
              0,
              "#0d0887"
             ],
             [
              0.1111111111111111,
              "#46039f"
             ],
             [
              0.2222222222222222,
              "#7201a8"
             ],
             [
              0.3333333333333333,
              "#9c179e"
             ],
             [
              0.4444444444444444,
              "#bd3786"
             ],
             [
              0.5555555555555556,
              "#d8576b"
             ],
             [
              0.6666666666666666,
              "#ed7953"
             ],
             [
              0.7777777777777778,
              "#fb9f3a"
             ],
             [
              0.8888888888888888,
              "#fdca26"
             ],
             [
              1,
              "#f0f921"
             ]
            ],
            "type": "heatmapgl"
           }
          ],
          "histogram": [
           {
            "marker": {
             "pattern": {
              "fillmode": "overlay",
              "size": 10,
              "solidity": 0.2
             }
            },
            "type": "histogram"
           }
          ],
          "histogram2d": [
           {
            "colorbar": {
             "outlinewidth": 0,
             "ticks": ""
            },
            "colorscale": [
             [
              0,
              "#0d0887"
             ],
             [
              0.1111111111111111,
              "#46039f"
             ],
             [
              0.2222222222222222,
              "#7201a8"
             ],
             [
              0.3333333333333333,
              "#9c179e"
             ],
             [
              0.4444444444444444,
              "#bd3786"
             ],
             [
              0.5555555555555556,
              "#d8576b"
             ],
             [
              0.6666666666666666,
              "#ed7953"
             ],
             [
              0.7777777777777778,
              "#fb9f3a"
             ],
             [
              0.8888888888888888,
              "#fdca26"
             ],
             [
              1,
              "#f0f921"
             ]
            ],
            "type": "histogram2d"
           }
          ],
          "histogram2dcontour": [
           {
            "colorbar": {
             "outlinewidth": 0,
             "ticks": ""
            },
            "colorscale": [
             [
              0,
              "#0d0887"
             ],
             [
              0.1111111111111111,
              "#46039f"
             ],
             [
              0.2222222222222222,
              "#7201a8"
             ],
             [
              0.3333333333333333,
              "#9c179e"
             ],
             [
              0.4444444444444444,
              "#bd3786"
             ],
             [
              0.5555555555555556,
              "#d8576b"
             ],
             [
              0.6666666666666666,
              "#ed7953"
             ],
             [
              0.7777777777777778,
              "#fb9f3a"
             ],
             [
              0.8888888888888888,
              "#fdca26"
             ],
             [
              1,
              "#f0f921"
             ]
            ],
            "type": "histogram2dcontour"
           }
          ],
          "mesh3d": [
           {
            "colorbar": {
             "outlinewidth": 0,
             "ticks": ""
            },
            "type": "mesh3d"
           }
          ],
          "parcoords": [
           {
            "line": {
             "colorbar": {
              "outlinewidth": 0,
              "ticks": ""
             }
            },
            "type": "parcoords"
           }
          ],
          "pie": [
           {
            "automargin": true,
            "type": "pie"
           }
          ],
          "scatter": [
           {
            "fillpattern": {
             "fillmode": "overlay",
             "size": 10,
             "solidity": 0.2
            },
            "type": "scatter"
           }
          ],
          "scatter3d": [
           {
            "line": {
             "colorbar": {
              "outlinewidth": 0,
              "ticks": ""
             }
            },
            "marker": {
             "colorbar": {
              "outlinewidth": 0,
              "ticks": ""
             }
            },
            "type": "scatter3d"
           }
          ],
          "scattercarpet": [
           {
            "marker": {
             "colorbar": {
              "outlinewidth": 0,
              "ticks": ""
             }
            },
            "type": "scattercarpet"
           }
          ],
          "scattergeo": [
           {
            "marker": {
             "colorbar": {
              "outlinewidth": 0,
              "ticks": ""
             }
            },
            "type": "scattergeo"
           }
          ],
          "scattergl": [
           {
            "marker": {
             "colorbar": {
              "outlinewidth": 0,
              "ticks": ""
             }
            },
            "type": "scattergl"
           }
          ],
          "scattermapbox": [
           {
            "marker": {
             "colorbar": {
              "outlinewidth": 0,
              "ticks": ""
             }
            },
            "type": "scattermapbox"
           }
          ],
          "scatterpolar": [
           {
            "marker": {
             "colorbar": {
              "outlinewidth": 0,
              "ticks": ""
             }
            },
            "type": "scatterpolar"
           }
          ],
          "scatterpolargl": [
           {
            "marker": {
             "colorbar": {
              "outlinewidth": 0,
              "ticks": ""
             }
            },
            "type": "scatterpolargl"
           }
          ],
          "scatterternary": [
           {
            "marker": {
             "colorbar": {
              "outlinewidth": 0,
              "ticks": ""
             }
            },
            "type": "scatterternary"
           }
          ],
          "surface": [
           {
            "colorbar": {
             "outlinewidth": 0,
             "ticks": ""
            },
            "colorscale": [
             [
              0,
              "#0d0887"
             ],
             [
              0.1111111111111111,
              "#46039f"
             ],
             [
              0.2222222222222222,
              "#7201a8"
             ],
             [
              0.3333333333333333,
              "#9c179e"
             ],
             [
              0.4444444444444444,
              "#bd3786"
             ],
             [
              0.5555555555555556,
              "#d8576b"
             ],
             [
              0.6666666666666666,
              "#ed7953"
             ],
             [
              0.7777777777777778,
              "#fb9f3a"
             ],
             [
              0.8888888888888888,
              "#fdca26"
             ],
             [
              1,
              "#f0f921"
             ]
            ],
            "type": "surface"
           }
          ],
          "table": [
           {
            "cells": {
             "fill": {
              "color": "#EBF0F8"
             },
             "line": {
              "color": "white"
             }
            },
            "header": {
             "fill": {
              "color": "#C8D4E3"
             },
             "line": {
              "color": "white"
             }
            },
            "type": "table"
           }
          ]
         },
         "layout": {
          "annotationdefaults": {
           "arrowcolor": "#2a3f5f",
           "arrowhead": 0,
           "arrowwidth": 1
          },
          "autotypenumbers": "strict",
          "coloraxis": {
           "colorbar": {
            "outlinewidth": 0,
            "ticks": ""
           }
          },
          "colorscale": {
           "diverging": [
            [
             0,
             "#8e0152"
            ],
            [
             0.1,
             "#c51b7d"
            ],
            [
             0.2,
             "#de77ae"
            ],
            [
             0.3,
             "#f1b6da"
            ],
            [
             0.4,
             "#fde0ef"
            ],
            [
             0.5,
             "#f7f7f7"
            ],
            [
             0.6,
             "#e6f5d0"
            ],
            [
             0.7,
             "#b8e186"
            ],
            [
             0.8,
             "#7fbc41"
            ],
            [
             0.9,
             "#4d9221"
            ],
            [
             1,
             "#276419"
            ]
           ],
           "sequential": [
            [
             0,
             "#0d0887"
            ],
            [
             0.1111111111111111,
             "#46039f"
            ],
            [
             0.2222222222222222,
             "#7201a8"
            ],
            [
             0.3333333333333333,
             "#9c179e"
            ],
            [
             0.4444444444444444,
             "#bd3786"
            ],
            [
             0.5555555555555556,
             "#d8576b"
            ],
            [
             0.6666666666666666,
             "#ed7953"
            ],
            [
             0.7777777777777778,
             "#fb9f3a"
            ],
            [
             0.8888888888888888,
             "#fdca26"
            ],
            [
             1,
             "#f0f921"
            ]
           ],
           "sequentialminus": [
            [
             0,
             "#0d0887"
            ],
            [
             0.1111111111111111,
             "#46039f"
            ],
            [
             0.2222222222222222,
             "#7201a8"
            ],
            [
             0.3333333333333333,
             "#9c179e"
            ],
            [
             0.4444444444444444,
             "#bd3786"
            ],
            [
             0.5555555555555556,
             "#d8576b"
            ],
            [
             0.6666666666666666,
             "#ed7953"
            ],
            [
             0.7777777777777778,
             "#fb9f3a"
            ],
            [
             0.8888888888888888,
             "#fdca26"
            ],
            [
             1,
             "#f0f921"
            ]
           ]
          },
          "colorway": [
           "#636efa",
           "#EF553B",
           "#00cc96",
           "#ab63fa",
           "#FFA15A",
           "#19d3f3",
           "#FF6692",
           "#B6E880",
           "#FF97FF",
           "#FECB52"
          ],
          "font": {
           "color": "#2a3f5f"
          },
          "geo": {
           "bgcolor": "white",
           "lakecolor": "white",
           "landcolor": "#E5ECF6",
           "showlakes": true,
           "showland": true,
           "subunitcolor": "white"
          },
          "hoverlabel": {
           "align": "left"
          },
          "hovermode": "closest",
          "mapbox": {
           "style": "light"
          },
          "paper_bgcolor": "white",
          "plot_bgcolor": "#E5ECF6",
          "polar": {
           "angularaxis": {
            "gridcolor": "white",
            "linecolor": "white",
            "ticks": ""
           },
           "bgcolor": "#E5ECF6",
           "radialaxis": {
            "gridcolor": "white",
            "linecolor": "white",
            "ticks": ""
           }
          },
          "scene": {
           "xaxis": {
            "backgroundcolor": "#E5ECF6",
            "gridcolor": "white",
            "gridwidth": 2,
            "linecolor": "white",
            "showbackground": true,
            "ticks": "",
            "zerolinecolor": "white"
           },
           "yaxis": {
            "backgroundcolor": "#E5ECF6",
            "gridcolor": "white",
            "gridwidth": 2,
            "linecolor": "white",
            "showbackground": true,
            "ticks": "",
            "zerolinecolor": "white"
           },
           "zaxis": {
            "backgroundcolor": "#E5ECF6",
            "gridcolor": "white",
            "gridwidth": 2,
            "linecolor": "white",
            "showbackground": true,
            "ticks": "",
            "zerolinecolor": "white"
           }
          },
          "shapedefaults": {
           "line": {
            "color": "#2a3f5f"
           }
          },
          "ternary": {
           "aaxis": {
            "gridcolor": "white",
            "linecolor": "white",
            "ticks": ""
           },
           "baxis": {
            "gridcolor": "white",
            "linecolor": "white",
            "ticks": ""
           },
           "bgcolor": "#E5ECF6",
           "caxis": {
            "gridcolor": "white",
            "linecolor": "white",
            "ticks": ""
           }
          },
          "title": {
           "x": 0.05
          },
          "xaxis": {
           "automargin": true,
           "gridcolor": "white",
           "linecolor": "white",
           "ticks": "",
           "title": {
            "standoff": 15
           },
           "zerolinecolor": "white",
           "zerolinewidth": 2
          },
          "yaxis": {
           "automargin": true,
           "gridcolor": "white",
           "linecolor": "white",
           "ticks": "",
           "title": {
            "standoff": 15
           },
           "zerolinecolor": "white",
           "zerolinewidth": 2
          }
         }
        }
       }
      }
     },
     "metadata": {},
     "output_type": "display_data"
    }
   ],
   "source": [
    "fig = go.Figure(data=[\n",
    "    go.Candlestick(\n",
    "        x=history_df.index,\n",
    "        open=history_df[\"Open\"],\n",
    "        high=history_df[\"High\"],\n",
    "        low=history_df[\"Low\"],\n",
    "        close=history_df[\"Close\"],\n",
    "    )\n",
    "])\n",
    "fig"
   ]
  },
  {
   "cell_type": "markdown",
   "id": "4360bf80",
   "metadata": {},
   "source": [
    "## Atributo \"history_metadata\""
   ]
  },
  {
   "cell_type": "code",
   "execution_count": 17,
   "id": "dc147a6e",
   "metadata": {},
   "outputs": [
    {
     "data": {
      "text/plain": [
       "{'currency': 'BRL',\n",
       " 'symbol': 'MXRF11.SA',\n",
       " 'exchangeName': 'SAO',\n",
       " 'instrumentType': 'EQUITY',\n",
       " 'firstTradeDate': 1407330000,\n",
       " 'regularMarketTime': 1691179500,\n",
       " 'gmtoffset': -10800,\n",
       " 'timezone': 'BRT',\n",
       " 'exchangeTimezoneName': 'America/Sao_Paulo',\n",
       " 'regularMarketPrice': 10.7,\n",
       " 'chartPreviousClose': 10.07,\n",
       " 'priceHint': 2,\n",
       " 'currentTradingPeriod': {'pre': {'timezone': 'BRT',\n",
       "   'end': 1691154000,\n",
       "   'start': 1691153100,\n",
       "   'gmtoffset': -10800},\n",
       "  'regular': {'timezone': 'BRT',\n",
       "   'end': 1691179200,\n",
       "   'start': 1691154000,\n",
       "   'gmtoffset': -10800},\n",
       "  'post': {'timezone': 'BRT',\n",
       "   'end': 1691182800,\n",
       "   'start': 1691179200,\n",
       "   'gmtoffset': -10800}},\n",
       " 'dataGranularity': '1mo',\n",
       " 'range': '6mo',\n",
       " 'validRanges': ['1d',\n",
       "  '5d',\n",
       "  '1mo',\n",
       "  '3mo',\n",
       "  '6mo',\n",
       "  '1y',\n",
       "  '2y',\n",
       "  '5y',\n",
       "  '10y',\n",
       "  'ytd',\n",
       "  'max']}"
      ]
     },
     "execution_count": 17,
     "metadata": {},
     "output_type": "execute_result"
    }
   ],
   "source": [
    "mxrf11.history_metadata"
   ]
  },
  {
   "cell_type": "code",
   "execution_count": 18,
   "id": "98b2c933",
   "metadata": {},
   "outputs": [
    {
     "data": {
      "text/plain": [
       "{'currency': 'BRL',\n",
       " 'symbol': 'BBAS3.SA',\n",
       " 'exchangeName': 'SAO',\n",
       " 'instrumentType': 'EQUITY',\n",
       " 'firstTradeDate': 946900800,\n",
       " 'regularMarketTime': 1691179669,\n",
       " 'gmtoffset': -10800,\n",
       " 'timezone': 'BRT',\n",
       " 'exchangeTimezoneName': 'America/Sao_Paulo',\n",
       " 'regularMarketPrice': 47.4,\n",
       " 'chartPreviousClose': 47.28,\n",
       " 'previousClose': 47.65,\n",
       " 'scale': 3,\n",
       " 'priceHint': 2,\n",
       " 'currentTradingPeriod': {'pre': {'timezone': 'BRT',\n",
       "   'start': 1691153100,\n",
       "   'end': 1691154000,\n",
       "   'gmtoffset': -10800},\n",
       "  'regular': {'timezone': 'BRT',\n",
       "   'start': 1691154000,\n",
       "   'end': 1691179200,\n",
       "   'gmtoffset': -10800},\n",
       "  'post': {'timezone': 'BRT',\n",
       "   'start': 1691179200,\n",
       "   'end': 1691182800,\n",
       "   'gmtoffset': -10800}},\n",
       " 'tradingPeriods':                                           pre_start                   pre_end  \\\n",
       " Date                                                                            \n",
       " 2023-07-31 00:00:00-03:00 2023-07-28 09:45:00-03:00 2023-07-28 10:00:00-03:00   \n",
       " 2023-08-01 00:00:00-03:00 2023-07-31 09:45:00-03:00 2023-07-31 10:00:00-03:00   \n",
       " 2023-08-02 00:00:00-03:00 2023-08-01 09:45:00-03:00 2023-08-01 10:00:00-03:00   \n",
       " 2023-08-03 00:00:00-03:00 2023-08-02 09:45:00-03:00 2023-08-02 10:00:00-03:00   \n",
       " 2023-08-04 00:00:00-03:00 2023-08-03 09:45:00-03:00 2023-08-03 10:00:00-03:00   \n",
       " \n",
       "                                               start                       end  \\\n",
       " Date                                                                            \n",
       " 2023-07-31 00:00:00-03:00 2023-07-31 10:00:00-03:00 2023-07-31 17:00:00-03:00   \n",
       " 2023-08-01 00:00:00-03:00 2023-08-01 10:00:00-03:00 2023-08-01 17:00:00-03:00   \n",
       " 2023-08-02 00:00:00-03:00 2023-08-02 10:00:00-03:00 2023-08-02 17:00:00-03:00   \n",
       " 2023-08-03 00:00:00-03:00 2023-08-03 10:00:00-03:00 2023-08-03 17:00:00-03:00   \n",
       " 2023-08-04 00:00:00-03:00 2023-08-04 10:00:00-03:00 2023-08-04 17:00:00-03:00   \n",
       " \n",
       "                                          post_start                  post_end  \n",
       " Date                                                                           \n",
       " 2023-07-31 00:00:00-03:00 2023-07-28 17:00:00-03:00 2023-07-28 18:00:00-03:00  \n",
       " 2023-08-01 00:00:00-03:00 2023-07-31 17:00:00-03:00 2023-07-31 18:00:00-03:00  \n",
       " 2023-08-02 00:00:00-03:00 2023-08-01 17:00:00-03:00 2023-08-01 18:00:00-03:00  \n",
       " 2023-08-03 00:00:00-03:00 2023-08-02 17:00:00-03:00 2023-08-02 18:00:00-03:00  \n",
       " 2023-08-04 00:00:00-03:00 2023-08-03 17:00:00-03:00 2023-08-03 18:00:00-03:00  ,\n",
       " 'dataGranularity': '1h',\n",
       " 'range': '1wk',\n",
       " 'validRanges': ['1d',\n",
       "  '5d',\n",
       "  '1mo',\n",
       "  '3mo',\n",
       "  '6mo',\n",
       "  '1y',\n",
       "  '2y',\n",
       "  '5y',\n",
       "  '10y',\n",
       "  'ytd',\n",
       "  'max']}"
      ]
     },
     "execution_count": 18,
     "metadata": {},
     "output_type": "execute_result"
    }
   ],
   "source": [
    "bbas3.history_metadata"
   ]
  },
  {
   "cell_type": "markdown",
   "id": "970227c5",
   "metadata": {},
   "source": [
    "## Atributo \"actions\""
   ]
  },
  {
   "cell_type": "code",
   "execution_count": 32,
   "id": "9e2694fb",
   "metadata": {},
   "outputs": [
    {
     "data": {
      "text/html": [
       "<div>\n",
       "<style scoped>\n",
       "    .dataframe tbody tr th:only-of-type {\n",
       "        vertical-align: middle;\n",
       "    }\n",
       "\n",
       "    .dataframe tbody tr th {\n",
       "        vertical-align: top;\n",
       "    }\n",
       "\n",
       "    .dataframe thead th {\n",
       "        text-align: right;\n",
       "    }\n",
       "</style>\n",
       "<table border=\"1\" class=\"dataframe\">\n",
       "  <thead>\n",
       "    <tr style=\"text-align: right;\">\n",
       "      <th></th>\n",
       "      <th>Dividends</th>\n",
       "      <th>Stock Splits</th>\n",
       "    </tr>\n",
       "    <tr>\n",
       "      <th>Date</th>\n",
       "      <th></th>\n",
       "      <th></th>\n",
       "    </tr>\n",
       "  </thead>\n",
       "  <tbody>\n",
       "    <tr>\n",
       "      <th>2022-11-01 00:00:00-03:00</th>\n",
       "      <td>3.348900</td>\n",
       "      <td>0.0</td>\n",
       "    </tr>\n",
       "    <tr>\n",
       "      <th>2023-04-01 00:00:00-03:00</th>\n",
       "      <td>2.870493</td>\n",
       "      <td>0.0</td>\n",
       "    </tr>\n",
       "    <tr>\n",
       "      <th>2023-06-01 00:00:00-03:00</th>\n",
       "      <td>1.893576</td>\n",
       "      <td>0.0</td>\n",
       "    </tr>\n",
       "  </tbody>\n",
       "</table>\n",
       "</div>"
      ],
      "text/plain": [
       "                           Dividends  Stock Splits\n",
       "Date                                              \n",
       "2022-11-01 00:00:00-03:00   3.348900           0.0\n",
       "2023-04-01 00:00:00-03:00   2.870493           0.0\n",
       "2023-06-01 00:00:00-03:00   1.893576           0.0"
      ]
     },
     "execution_count": 32,
     "metadata": {},
     "output_type": "execute_result"
    }
   ],
   "source": [
    "petr3 = yf.Ticker(\"PETR3.SA\")\n",
    "petr3.history(period=\"1y\", interval=\"1mo\")\n",
    "petr3.actions"
   ]
  },
  {
   "cell_type": "code",
   "execution_count": 30,
   "id": "12180e5c",
   "metadata": {},
   "outputs": [
    {
     "data": {
      "text/html": [
       "<div>\n",
       "<style scoped>\n",
       "    .dataframe tbody tr th:only-of-type {\n",
       "        vertical-align: middle;\n",
       "    }\n",
       "\n",
       "    .dataframe tbody tr th {\n",
       "        vertical-align: top;\n",
       "    }\n",
       "\n",
       "    .dataframe thead th {\n",
       "        text-align: right;\n",
       "    }\n",
       "</style>\n",
       "<table border=\"1\" class=\"dataframe\">\n",
       "  <thead>\n",
       "    <tr style=\"text-align: right;\">\n",
       "      <th></th>\n",
       "      <th>Dividends</th>\n",
       "      <th>Stock Splits</th>\n",
       "    </tr>\n",
       "    <tr>\n",
       "      <th>Date</th>\n",
       "      <th></th>\n",
       "      <th></th>\n",
       "    </tr>\n",
       "  </thead>\n",
       "  <tbody>\n",
       "    <tr>\n",
       "      <th>2022-09-01 00:00:00-03:00</th>\n",
       "      <td>0.110000</td>\n",
       "      <td>0.0</td>\n",
       "    </tr>\n",
       "    <tr>\n",
       "      <th>2022-10-01 00:00:00-03:00</th>\n",
       "      <td>0.100000</td>\n",
       "      <td>0.0</td>\n",
       "    </tr>\n",
       "    <tr>\n",
       "      <th>2022-11-01 00:00:00-03:00</th>\n",
       "      <td>0.100000</td>\n",
       "      <td>0.0</td>\n",
       "    </tr>\n",
       "    <tr>\n",
       "      <th>2022-12-01 00:00:00-03:00</th>\n",
       "      <td>0.080000</td>\n",
       "      <td>0.0</td>\n",
       "    </tr>\n",
       "    <tr>\n",
       "      <th>2023-01-01 00:00:00-03:00</th>\n",
       "      <td>0.100000</td>\n",
       "      <td>0.0</td>\n",
       "    </tr>\n",
       "    <tr>\n",
       "      <th>2023-02-01 00:00:00-03:00</th>\n",
       "      <td>0.110000</td>\n",
       "      <td>0.0</td>\n",
       "    </tr>\n",
       "    <tr>\n",
       "      <th>2023-03-01 00:00:00-03:00</th>\n",
       "      <td>0.120000</td>\n",
       "      <td>0.0</td>\n",
       "    </tr>\n",
       "    <tr>\n",
       "      <th>2023-04-01 00:00:00-03:00</th>\n",
       "      <td>0.120000</td>\n",
       "      <td>0.0</td>\n",
       "    </tr>\n",
       "    <tr>\n",
       "      <th>2023-05-01 00:00:00-03:00</th>\n",
       "      <td>0.120000</td>\n",
       "      <td>0.0</td>\n",
       "    </tr>\n",
       "    <tr>\n",
       "      <th>2023-06-01 00:00:00-03:00</th>\n",
       "      <td>0.119235</td>\n",
       "      <td>0.0</td>\n",
       "    </tr>\n",
       "    <tr>\n",
       "      <th>2023-07-01 00:00:00-03:00</th>\n",
       "      <td>0.120000</td>\n",
       "      <td>0.0</td>\n",
       "    </tr>\n",
       "    <tr>\n",
       "      <th>2023-08-01 00:00:00-03:00</th>\n",
       "      <td>0.120000</td>\n",
       "      <td>0.0</td>\n",
       "    </tr>\n",
       "  </tbody>\n",
       "</table>\n",
       "</div>"
      ],
      "text/plain": [
       "                           Dividends  Stock Splits\n",
       "Date                                              \n",
       "2022-09-01 00:00:00-03:00   0.110000           0.0\n",
       "2022-10-01 00:00:00-03:00   0.100000           0.0\n",
       "2022-11-01 00:00:00-03:00   0.100000           0.0\n",
       "2022-12-01 00:00:00-03:00   0.080000           0.0\n",
       "2023-01-01 00:00:00-03:00   0.100000           0.0\n",
       "2023-02-01 00:00:00-03:00   0.110000           0.0\n",
       "2023-03-01 00:00:00-03:00   0.120000           0.0\n",
       "2023-04-01 00:00:00-03:00   0.120000           0.0\n",
       "2023-05-01 00:00:00-03:00   0.120000           0.0\n",
       "2023-06-01 00:00:00-03:00   0.119235           0.0\n",
       "2023-07-01 00:00:00-03:00   0.120000           0.0\n",
       "2023-08-01 00:00:00-03:00   0.120000           0.0"
      ]
     },
     "execution_count": 30,
     "metadata": {},
     "output_type": "execute_result"
    }
   ],
   "source": [
    "mxrf11.history(period=\"1y\", interval=\"1mo\")\n",
    "mxrf11.actions"
   ]
  },
  {
   "cell_type": "code",
   "execution_count": 33,
   "id": "2c35e3da",
   "metadata": {},
   "outputs": [
    {
     "data": {
      "text/plain": [
       "Date\n",
       "2022-09-01 00:00:00-03:00    0.110000\n",
       "2022-10-01 00:00:00-03:00    0.100000\n",
       "2022-11-01 00:00:00-03:00    0.100000\n",
       "2022-12-01 00:00:00-03:00    0.080000\n",
       "2023-01-01 00:00:00-03:00    0.100000\n",
       "2023-02-01 00:00:00-03:00    0.110000\n",
       "2023-03-01 00:00:00-03:00    0.120000\n",
       "2023-04-01 00:00:00-03:00    0.120000\n",
       "2023-05-01 00:00:00-03:00    0.120000\n",
       "2023-06-01 00:00:00-03:00    0.119235\n",
       "2023-07-01 00:00:00-03:00    0.120000\n",
       "2023-08-01 00:00:00-03:00    0.120000\n",
       "Name: Dividends, dtype: float64"
      ]
     },
     "execution_count": 33,
     "metadata": {},
     "output_type": "execute_result"
    }
   ],
   "source": [
    "mxrf11.dividends"
   ]
  },
  {
   "cell_type": "code",
   "execution_count": 48,
   "id": "e5c8d329",
   "metadata": {},
   "outputs": [
    {
     "data": {
      "text/html": [
       "<div>\n",
       "<style scoped>\n",
       "    .dataframe tbody tr th:only-of-type {\n",
       "        vertical-align: middle;\n",
       "    }\n",
       "\n",
       "    .dataframe tbody tr th {\n",
       "        vertical-align: top;\n",
       "    }\n",
       "\n",
       "    .dataframe thead th {\n",
       "        text-align: right;\n",
       "    }\n",
       "</style>\n",
       "<table border=\"1\" class=\"dataframe\">\n",
       "  <thead>\n",
       "    <tr style=\"text-align: right;\">\n",
       "      <th></th>\n",
       "      <th>Dividends</th>\n",
       "      <th>Stock Splits</th>\n",
       "      <th>Capital Gains</th>\n",
       "    </tr>\n",
       "    <tr>\n",
       "      <th>Date</th>\n",
       "      <th></th>\n",
       "      <th></th>\n",
       "      <th></th>\n",
       "    </tr>\n",
       "  </thead>\n",
       "  <tbody>\n",
       "    <tr>\n",
       "      <th>2000-03-01 00:00:00-05:00</th>\n",
       "      <td>0.000</td>\n",
       "      <td>2.0</td>\n",
       "      <td>0.0</td>\n",
       "    </tr>\n",
       "    <tr>\n",
       "      <th>2003-12-01 00:00:00-05:00</th>\n",
       "      <td>0.014</td>\n",
       "      <td>0.0</td>\n",
       "      <td>0.0</td>\n",
       "    </tr>\n",
       "    <tr>\n",
       "      <th>2004-12-01 00:00:00-05:00</th>\n",
       "      <td>0.379</td>\n",
       "      <td>0.0</td>\n",
       "      <td>0.0</td>\n",
       "    </tr>\n",
       "    <tr>\n",
       "      <th>2005-06-01 00:00:00-04:00</th>\n",
       "      <td>0.035</td>\n",
       "      <td>0.0</td>\n",
       "      <td>0.0</td>\n",
       "    </tr>\n",
       "    <tr>\n",
       "      <th>2005-12-01 00:00:00-05:00</th>\n",
       "      <td>0.101</td>\n",
       "      <td>0.0</td>\n",
       "      <td>0.0</td>\n",
       "    </tr>\n",
       "    <tr>\n",
       "      <th>...</th>\n",
       "      <td>...</td>\n",
       "      <td>...</td>\n",
       "      <td>...</td>\n",
       "    </tr>\n",
       "    <tr>\n",
       "      <th>2022-06-01 00:00:00-04:00</th>\n",
       "      <td>0.527</td>\n",
       "      <td>0.0</td>\n",
       "      <td>0.0</td>\n",
       "    </tr>\n",
       "    <tr>\n",
       "      <th>2022-09-01 00:00:00-04:00</th>\n",
       "      <td>0.519</td>\n",
       "      <td>0.0</td>\n",
       "      <td>0.0</td>\n",
       "    </tr>\n",
       "    <tr>\n",
       "      <th>2022-12-01 00:00:00-05:00</th>\n",
       "      <td>0.655</td>\n",
       "      <td>0.0</td>\n",
       "      <td>0.0</td>\n",
       "    </tr>\n",
       "    <tr>\n",
       "      <th>2023-03-01 00:00:00-05:00</th>\n",
       "      <td>0.472</td>\n",
       "      <td>0.0</td>\n",
       "      <td>0.0</td>\n",
       "    </tr>\n",
       "    <tr>\n",
       "      <th>2023-06-01 00:00:00-04:00</th>\n",
       "      <td>0.504</td>\n",
       "      <td>0.0</td>\n",
       "      <td>0.0</td>\n",
       "    </tr>\n",
       "  </tbody>\n",
       "</table>\n",
       "<p>75 rows × 3 columns</p>\n",
       "</div>"
      ],
      "text/plain": [
       "                           Dividends  Stock Splits  Capital Gains\n",
       "Date                                                             \n",
       "2000-03-01 00:00:00-05:00      0.000           2.0            0.0\n",
       "2003-12-01 00:00:00-05:00      0.014           0.0            0.0\n",
       "2004-12-01 00:00:00-05:00      0.379           0.0            0.0\n",
       "2005-06-01 00:00:00-04:00      0.035           0.0            0.0\n",
       "2005-12-01 00:00:00-05:00      0.101           0.0            0.0\n",
       "...                              ...           ...            ...\n",
       "2022-06-01 00:00:00-04:00      0.527           0.0            0.0\n",
       "2022-09-01 00:00:00-04:00      0.519           0.0            0.0\n",
       "2022-12-01 00:00:00-05:00      0.655           0.0            0.0\n",
       "2023-03-01 00:00:00-05:00      0.472           0.0            0.0\n",
       "2023-06-01 00:00:00-04:00      0.504           0.0            0.0\n",
       "\n",
       "[75 rows x 3 columns]"
      ]
     },
     "execution_count": 48,
     "metadata": {},
     "output_type": "execute_result"
    }
   ],
   "source": [
    "qqq = yf.Ticker(\"QQQ\")\n",
    "qqq.history(period=\"max\", interval=\"1mo\")\n",
    "qqq.actions"
   ]
  },
  {
   "cell_type": "markdown",
   "id": "67f24d10",
   "metadata": {},
   "source": [
    "## Método \"get_shares_full\""
   ]
  },
  {
   "cell_type": "code",
   "execution_count": 50,
   "id": "01da3c89",
   "metadata": {},
   "outputs": [
    {
     "data": {
      "text/plain": [
       "2022-01-01 00:00:00-03:00    2853400064\n",
       "2022-01-10 00:00:00-03:00    2854400000\n",
       "2022-01-11 00:00:00-03:00    2853400064\n",
       "2022-01-31 00:00:00-03:00    2856039936\n",
       "2022-02-01 00:00:00-03:00    2863879936\n",
       "2022-02-03 00:00:00-03:00    2896029952\n",
       "2022-02-03 00:00:00-03:00    2853400064\n",
       "2022-02-10 00:00:00-03:00    2876630016\n",
       "2022-02-11 00:00:00-03:00    2853400064\n",
       "2022-02-12 00:00:00-03:00    2853400064\n",
       "2022-02-14 00:00:00-03:00    2861969920\n",
       "2022-02-15 00:00:00-03:00    2853400064\n",
       "2022-02-17 00:00:00-03:00    2855820032\n",
       "2022-02-18 00:00:00-03:00    2853400064\n",
       "2022-02-24 00:00:00-03:00    2858180096\n",
       "2022-02-25 00:00:00-03:00    2873989888\n",
       "2022-02-26 00:00:00-03:00    2853400064\n",
       "2022-02-28 00:00:00-03:00    2882050048\n",
       "2022-03-01 00:00:00-03:00    2853400064\n",
       "2022-03-04 00:00:00-03:00    2921509888\n",
       "2022-03-04 00:00:00-03:00    2914810112\n",
       "2022-03-05 00:00:00-03:00    2853400064\n",
       "2022-03-07 00:00:00-03:00    2869479936\n",
       "2022-03-09 00:00:00-03:00    2853400064\n",
       "2022-03-16 00:00:00-03:00    2886220032\n",
       "2022-03-17 00:00:00-03:00    2853400064\n",
       "2022-03-21 00:00:00-03:00    2858490112\n",
       "2022-03-23 00:00:00-03:00    2853400064\n",
       "2022-04-04 00:00:00-03:00    2853400064\n",
       "2022-04-30 00:00:00-03:00    2923020032\n",
       "2022-05-01 00:00:00-03:00    2853400064\n",
       "2022-05-14 00:00:00-03:00    2857459968\n",
       "2022-05-16 00:00:00-03:00    2853400064\n",
       "2022-07-06 00:00:00-03:00    2869029888\n",
       "2022-07-07 00:00:00-03:00    2853400064\n",
       "2022-08-11 00:00:00-03:00    2853590016\n",
       "2022-08-25 00:00:00-03:00    2901809920\n",
       "2022-08-26 00:00:00-03:00    2853590016\n",
       "2022-09-01 00:00:00-03:00    2853590016\n",
       "2022-09-07 00:00:00-03:00    2853590016\n",
       "2022-09-07 00:00:00-03:00    2997600000\n",
       "2022-09-10 00:00:00-03:00    2776880128\n",
       "2022-09-12 00:00:00-03:00    2853590016\n",
       "2022-09-13 00:00:00-03:00    2853639936\n",
       "2022-09-13 00:00:00-03:00    2809929984\n",
       "2022-09-14 00:00:00-03:00    2853639936\n",
       "2022-11-11 00:00:00-03:00    2876740096\n",
       "2022-11-12 00:00:00-03:00    2853639936\n",
       "2022-11-13 00:00:00-03:00    2860059904\n",
       "2022-11-15 00:00:00-03:00    2853639936\n",
       "2022-11-23 00:00:00-03:00    2857829888\n",
       "2022-11-24 00:00:00-03:00    2853639936\n",
       "2022-12-09 00:00:00-03:00    2905220096\n",
       "2022-12-10 00:00:00-03:00    2853639936\n",
       "2022-12-28 00:00:00-03:00    2959480064\n",
       "2022-12-29 00:00:00-03:00    2959480064\n",
       "2022-12-29 00:00:00-03:00    2853639936\n",
       "2022-12-30 00:00:00-03:00    2859389952\n",
       "2022-12-31 00:00:00-03:00    2853639936\n",
       "dtype: int64"
      ]
     },
     "execution_count": 50,
     "metadata": {},
     "output_type": "execute_result"
    }
   ],
   "source": [
    "bbas3.get_shares_full(start=\"2022-01-01\", end=\"2023-01-01\")"
   ]
  },
  {
   "cell_type": "code",
   "execution_count": 51,
   "id": "fab8ed12",
   "metadata": {},
   "outputs": [
    {
     "data": {
      "text/plain": [
       "2022-02-03 00:00:00-03:00    2896029952\n",
       "2022-02-03 00:00:00-03:00    2853400064\n",
       "2022-02-10 00:00:00-03:00    2876630016\n",
       "2022-02-11 00:00:00-03:00    2853400064\n",
       "2022-02-12 00:00:00-03:00    2853400064\n",
       "                                ...    \n",
       "2023-06-14 00:00:00-03:00    2853779968\n",
       "2023-07-08 00:00:00-03:00    2896280064\n",
       "2023-07-08 00:00:00-03:00    2853779968\n",
       "2023-07-19 00:00:00-03:00    2863269888\n",
       "2023-07-21 00:00:00-03:00    2853779968\n",
       "Length: 91, dtype: int64"
      ]
     },
     "execution_count": 51,
     "metadata": {},
     "output_type": "execute_result"
    }
   ],
   "source": [
    "bbas3.get_shares_full()"
   ]
  },
  {
   "cell_type": "code",
   "execution_count": 52,
   "id": "8c67228e",
   "metadata": {},
   "outputs": [
    {
     "data": {
      "text/plain": [
       "2020-07-09 00:00:00-03:00    2853839872\n",
       "2020-07-10 00:00:00-03:00    2852169984\n",
       "2020-07-20 00:00:00-03:00    2856199936\n",
       "2020-07-21 00:00:00-03:00    2852169984\n",
       "2020-07-27 00:00:00-03:00    2849649920\n",
       "                                ...    \n",
       "2021-12-14 00:00:00-03:00    2853400064\n",
       "2021-12-20 00:00:00-03:00    2857169920\n",
       "2021-12-21 00:00:00-03:00    2853400064\n",
       "2021-12-31 00:00:00-03:00    2866230016\n",
       "2022-01-01 00:00:00-03:00    2853400064\n",
       "Length: 161, dtype: int64"
      ]
     },
     "execution_count": 52,
     "metadata": {},
     "output_type": "execute_result"
    }
   ],
   "source": [
    "bbas3.get_shares_full(end=\"2022-01-01\")"
   ]
  },
  {
   "cell_type": "code",
   "execution_count": 53,
   "id": "fd5f35b1",
   "metadata": {},
   "outputs": [],
   "source": [
    "bbas3.get_shares_full(end=\"2000-01-01\")"
   ]
  },
  {
   "cell_type": "markdown",
   "id": "b82f9e30",
   "metadata": {},
   "source": [
    "### Visualização da função \"get_shares_full\""
   ]
  },
  {
   "cell_type": "code",
   "execution_count": 88,
   "id": "36336415",
   "metadata": {},
   "outputs": [
    {
     "data": {
      "text/plain": [
       "2022-01-01 00:00:00-03:00    2853400064\n",
       "2022-01-10 00:00:00-03:00    2854400000\n",
       "2022-01-11 00:00:00-03:00    2853400064\n",
       "2022-01-31 00:00:00-03:00    2856039936\n",
       "2022-02-01 00:00:00-03:00    2863879936\n",
       "                                ...    \n",
       "2023-06-14 00:00:00-03:00    2853779968\n",
       "2023-07-08 00:00:00-03:00    2896280064\n",
       "2023-07-08 00:00:00-03:00    2853779968\n",
       "2023-07-19 00:00:00-03:00    2863269888\n",
       "2023-07-21 00:00:00-03:00    2853779968\n",
       "Length: 96, dtype: int64"
      ]
     },
     "execution_count": 88,
     "metadata": {},
     "output_type": "execute_result"
    }
   ],
   "source": [
    "shares_all_time = bbas3.get_shares_full(start=\"2022-01-01\")\n",
    "shares_all_time"
   ]
  },
  {
   "cell_type": "code",
   "execution_count": 93,
   "id": "99a81fe5",
   "metadata": {},
   "outputs": [
    {
     "data": {
      "application/vnd.plotly.v1+json": {
       "config": {
        "plotlyServerURL": "https://plot.ly"
       },
       "data": [
        {
         "hovertemplate": "index=%{x}<br>y=%{y}<extra></extra>",
         "legendgroup": "",
         "line": {
          "color": "#636efa",
          "dash": "solid"
         },
         "marker": {
          "symbol": "circle"
         },
         "mode": "lines",
         "name": "",
         "orientation": "v",
         "showlegend": false,
         "type": "scatter",
         "x": [
          "2022-01-01T00:00:00-03:00",
          "2022-01-10T00:00:00-03:00",
          "2022-01-11T00:00:00-03:00",
          "2022-01-31T00:00:00-03:00",
          "2022-02-01T00:00:00-03:00",
          "2022-02-03T00:00:00-03:00",
          "2022-02-03T00:00:00-03:00",
          "2022-02-10T00:00:00-03:00",
          "2022-02-11T00:00:00-03:00",
          "2022-02-12T00:00:00-03:00",
          "2022-02-14T00:00:00-03:00",
          "2022-02-15T00:00:00-03:00",
          "2022-02-17T00:00:00-03:00",
          "2022-02-18T00:00:00-03:00",
          "2022-02-24T00:00:00-03:00",
          "2022-02-25T00:00:00-03:00",
          "2022-02-26T00:00:00-03:00",
          "2022-02-28T00:00:00-03:00",
          "2022-03-01T00:00:00-03:00",
          "2022-03-04T00:00:00-03:00",
          "2022-03-04T00:00:00-03:00",
          "2022-03-05T00:00:00-03:00",
          "2022-03-07T00:00:00-03:00",
          "2022-03-09T00:00:00-03:00",
          "2022-03-16T00:00:00-03:00",
          "2022-03-17T00:00:00-03:00",
          "2022-03-21T00:00:00-03:00",
          "2022-03-23T00:00:00-03:00",
          "2022-04-04T00:00:00-03:00",
          "2022-04-30T00:00:00-03:00",
          "2022-05-01T00:00:00-03:00",
          "2022-05-14T00:00:00-03:00",
          "2022-05-16T00:00:00-03:00",
          "2022-07-06T00:00:00-03:00",
          "2022-07-07T00:00:00-03:00",
          "2022-08-11T00:00:00-03:00",
          "2022-08-25T00:00:00-03:00",
          "2022-08-26T00:00:00-03:00",
          "2022-09-01T00:00:00-03:00",
          "2022-09-07T00:00:00-03:00",
          "2022-09-07T00:00:00-03:00",
          "2022-09-10T00:00:00-03:00",
          "2022-09-12T00:00:00-03:00",
          "2022-09-13T00:00:00-03:00",
          "2022-09-13T00:00:00-03:00",
          "2022-09-14T00:00:00-03:00",
          "2022-11-11T00:00:00-03:00",
          "2022-11-12T00:00:00-03:00",
          "2022-11-13T00:00:00-03:00",
          "2022-11-15T00:00:00-03:00",
          "2022-11-23T00:00:00-03:00",
          "2022-11-24T00:00:00-03:00",
          "2022-12-09T00:00:00-03:00",
          "2022-12-10T00:00:00-03:00",
          "2022-12-28T00:00:00-03:00",
          "2022-12-29T00:00:00-03:00",
          "2022-12-29T00:00:00-03:00",
          "2022-12-30T00:00:00-03:00",
          "2022-12-31T00:00:00-03:00",
          "2023-01-04T00:00:00-03:00",
          "2023-01-05T00:00:00-03:00",
          "2023-01-06T00:00:00-03:00",
          "2023-01-13T00:00:00-03:00",
          "2023-01-14T00:00:00-03:00",
          "2023-02-17T00:00:00-03:00",
          "2023-02-17T00:00:00-03:00",
          "2023-02-25T00:00:00-03:00",
          "2023-02-27T00:00:00-03:00",
          "2023-03-02T00:00:00-03:00",
          "2023-03-03T00:00:00-03:00",
          "2023-03-04T00:00:00-03:00",
          "2023-03-18T00:00:00-03:00",
          "2023-03-19T00:00:00-03:00",
          "2023-03-21T00:00:00-03:00",
          "2023-03-24T00:00:00-03:00",
          "2023-03-25T00:00:00-03:00",
          "2023-03-29T00:00:00-03:00",
          "2023-03-30T00:00:00-03:00",
          "2023-03-31T00:00:00-03:00",
          "2023-04-01T00:00:00-03:00",
          "2023-04-04T00:00:00-03:00",
          "2023-04-05T00:00:00-03:00",
          "2023-04-14T00:00:00-03:00",
          "2023-04-21T00:00:00-03:00",
          "2023-04-22T00:00:00-03:00",
          "2023-05-24T00:00:00-03:00",
          "2023-06-02T00:00:00-03:00",
          "2023-06-03T00:00:00-03:00",
          "2023-06-08T00:00:00-03:00",
          "2023-06-10T00:00:00-03:00",
          "2023-06-14T00:00:00-03:00",
          "2023-06-14T00:00:00-03:00",
          "2023-07-08T00:00:00-03:00",
          "2023-07-08T00:00:00-03:00",
          "2023-07-19T00:00:00-03:00",
          "2023-07-21T00:00:00-03:00"
         ],
         "xaxis": "x",
         "y": [
          2853400064,
          2854400000,
          2853400064,
          2856039936,
          2863879936,
          2896029952,
          2853400064,
          2876630016,
          2853400064,
          2853400064,
          2861969920,
          2853400064,
          2855820032,
          2853400064,
          2858180096,
          2873989888,
          2853400064,
          2882050048,
          2853400064,
          2921509888,
          2914810112,
          2853400064,
          2869479936,
          2853400064,
          2886220032,
          2853400064,
          2858490112,
          2853400064,
          2853400064,
          2923020032,
          2853400064,
          2857459968,
          2853400064,
          2869029888,
          2853400064,
          2853590016,
          2901809920,
          2853590016,
          2853590016,
          2853590016,
          2997600000,
          2776880128,
          2853590016,
          2853639936,
          2809929984,
          2853639936,
          2876740096,
          2853639936,
          2860059904,
          2853639936,
          2857829888,
          2853639936,
          2905220096,
          2853639936,
          2959480064,
          2959480064,
          2853639936,
          2859389952,
          2853639936,
          2916780032,
          2855360000,
          2853639936,
          2863300096,
          2853639936,
          2853639936,
          2860440064,
          2967109888,
          2853639936,
          2856470016,
          2942670080,
          2853639936,
          2903360000,
          2869700096,
          2853639936,
          2885080064,
          2853639936,
          2873359872,
          2853639936,
          2905779968,
          2853639936,
          2887600128,
          2853639936,
          2853829888,
          2880969984,
          2853829888,
          2853779968,
          2861449984,
          2853779968,
          2855030016,
          2853779968,
          2957189888,
          2853779968,
          2896280064,
          2853779968,
          2863269888,
          2853779968
         ],
         "yaxis": "y"
        }
       ],
       "layout": {
        "legend": {
         "tracegroupgap": 0
        },
        "margin": {
         "t": 60
        },
        "template": {
         "data": {
          "bar": [
           {
            "error_x": {
             "color": "#2a3f5f"
            },
            "error_y": {
             "color": "#2a3f5f"
            },
            "marker": {
             "line": {
              "color": "#E5ECF6",
              "width": 0.5
             },
             "pattern": {
              "fillmode": "overlay",
              "size": 10,
              "solidity": 0.2
             }
            },
            "type": "bar"
           }
          ],
          "barpolar": [
           {
            "marker": {
             "line": {
              "color": "#E5ECF6",
              "width": 0.5
             },
             "pattern": {
              "fillmode": "overlay",
              "size": 10,
              "solidity": 0.2
             }
            },
            "type": "barpolar"
           }
          ],
          "carpet": [
           {
            "aaxis": {
             "endlinecolor": "#2a3f5f",
             "gridcolor": "white",
             "linecolor": "white",
             "minorgridcolor": "white",
             "startlinecolor": "#2a3f5f"
            },
            "baxis": {
             "endlinecolor": "#2a3f5f",
             "gridcolor": "white",
             "linecolor": "white",
             "minorgridcolor": "white",
             "startlinecolor": "#2a3f5f"
            },
            "type": "carpet"
           }
          ],
          "choropleth": [
           {
            "colorbar": {
             "outlinewidth": 0,
             "ticks": ""
            },
            "type": "choropleth"
           }
          ],
          "contour": [
           {
            "colorbar": {
             "outlinewidth": 0,
             "ticks": ""
            },
            "colorscale": [
             [
              0,
              "#0d0887"
             ],
             [
              0.1111111111111111,
              "#46039f"
             ],
             [
              0.2222222222222222,
              "#7201a8"
             ],
             [
              0.3333333333333333,
              "#9c179e"
             ],
             [
              0.4444444444444444,
              "#bd3786"
             ],
             [
              0.5555555555555556,
              "#d8576b"
             ],
             [
              0.6666666666666666,
              "#ed7953"
             ],
             [
              0.7777777777777778,
              "#fb9f3a"
             ],
             [
              0.8888888888888888,
              "#fdca26"
             ],
             [
              1,
              "#f0f921"
             ]
            ],
            "type": "contour"
           }
          ],
          "contourcarpet": [
           {
            "colorbar": {
             "outlinewidth": 0,
             "ticks": ""
            },
            "type": "contourcarpet"
           }
          ],
          "heatmap": [
           {
            "colorbar": {
             "outlinewidth": 0,
             "ticks": ""
            },
            "colorscale": [
             [
              0,
              "#0d0887"
             ],
             [
              0.1111111111111111,
              "#46039f"
             ],
             [
              0.2222222222222222,
              "#7201a8"
             ],
             [
              0.3333333333333333,
              "#9c179e"
             ],
             [
              0.4444444444444444,
              "#bd3786"
             ],
             [
              0.5555555555555556,
              "#d8576b"
             ],
             [
              0.6666666666666666,
              "#ed7953"
             ],
             [
              0.7777777777777778,
              "#fb9f3a"
             ],
             [
              0.8888888888888888,
              "#fdca26"
             ],
             [
              1,
              "#f0f921"
             ]
            ],
            "type": "heatmap"
           }
          ],
          "heatmapgl": [
           {
            "colorbar": {
             "outlinewidth": 0,
             "ticks": ""
            },
            "colorscale": [
             [
              0,
              "#0d0887"
             ],
             [
              0.1111111111111111,
              "#46039f"
             ],
             [
              0.2222222222222222,
              "#7201a8"
             ],
             [
              0.3333333333333333,
              "#9c179e"
             ],
             [
              0.4444444444444444,
              "#bd3786"
             ],
             [
              0.5555555555555556,
              "#d8576b"
             ],
             [
              0.6666666666666666,
              "#ed7953"
             ],
             [
              0.7777777777777778,
              "#fb9f3a"
             ],
             [
              0.8888888888888888,
              "#fdca26"
             ],
             [
              1,
              "#f0f921"
             ]
            ],
            "type": "heatmapgl"
           }
          ],
          "histogram": [
           {
            "marker": {
             "pattern": {
              "fillmode": "overlay",
              "size": 10,
              "solidity": 0.2
             }
            },
            "type": "histogram"
           }
          ],
          "histogram2d": [
           {
            "colorbar": {
             "outlinewidth": 0,
             "ticks": ""
            },
            "colorscale": [
             [
              0,
              "#0d0887"
             ],
             [
              0.1111111111111111,
              "#46039f"
             ],
             [
              0.2222222222222222,
              "#7201a8"
             ],
             [
              0.3333333333333333,
              "#9c179e"
             ],
             [
              0.4444444444444444,
              "#bd3786"
             ],
             [
              0.5555555555555556,
              "#d8576b"
             ],
             [
              0.6666666666666666,
              "#ed7953"
             ],
             [
              0.7777777777777778,
              "#fb9f3a"
             ],
             [
              0.8888888888888888,
              "#fdca26"
             ],
             [
              1,
              "#f0f921"
             ]
            ],
            "type": "histogram2d"
           }
          ],
          "histogram2dcontour": [
           {
            "colorbar": {
             "outlinewidth": 0,
             "ticks": ""
            },
            "colorscale": [
             [
              0,
              "#0d0887"
             ],
             [
              0.1111111111111111,
              "#46039f"
             ],
             [
              0.2222222222222222,
              "#7201a8"
             ],
             [
              0.3333333333333333,
              "#9c179e"
             ],
             [
              0.4444444444444444,
              "#bd3786"
             ],
             [
              0.5555555555555556,
              "#d8576b"
             ],
             [
              0.6666666666666666,
              "#ed7953"
             ],
             [
              0.7777777777777778,
              "#fb9f3a"
             ],
             [
              0.8888888888888888,
              "#fdca26"
             ],
             [
              1,
              "#f0f921"
             ]
            ],
            "type": "histogram2dcontour"
           }
          ],
          "mesh3d": [
           {
            "colorbar": {
             "outlinewidth": 0,
             "ticks": ""
            },
            "type": "mesh3d"
           }
          ],
          "parcoords": [
           {
            "line": {
             "colorbar": {
              "outlinewidth": 0,
              "ticks": ""
             }
            },
            "type": "parcoords"
           }
          ],
          "pie": [
           {
            "automargin": true,
            "type": "pie"
           }
          ],
          "scatter": [
           {
            "fillpattern": {
             "fillmode": "overlay",
             "size": 10,
             "solidity": 0.2
            },
            "type": "scatter"
           }
          ],
          "scatter3d": [
           {
            "line": {
             "colorbar": {
              "outlinewidth": 0,
              "ticks": ""
             }
            },
            "marker": {
             "colorbar": {
              "outlinewidth": 0,
              "ticks": ""
             }
            },
            "type": "scatter3d"
           }
          ],
          "scattercarpet": [
           {
            "marker": {
             "colorbar": {
              "outlinewidth": 0,
              "ticks": ""
             }
            },
            "type": "scattercarpet"
           }
          ],
          "scattergeo": [
           {
            "marker": {
             "colorbar": {
              "outlinewidth": 0,
              "ticks": ""
             }
            },
            "type": "scattergeo"
           }
          ],
          "scattergl": [
           {
            "marker": {
             "colorbar": {
              "outlinewidth": 0,
              "ticks": ""
             }
            },
            "type": "scattergl"
           }
          ],
          "scattermapbox": [
           {
            "marker": {
             "colorbar": {
              "outlinewidth": 0,
              "ticks": ""
             }
            },
            "type": "scattermapbox"
           }
          ],
          "scatterpolar": [
           {
            "marker": {
             "colorbar": {
              "outlinewidth": 0,
              "ticks": ""
             }
            },
            "type": "scatterpolar"
           }
          ],
          "scatterpolargl": [
           {
            "marker": {
             "colorbar": {
              "outlinewidth": 0,
              "ticks": ""
             }
            },
            "type": "scatterpolargl"
           }
          ],
          "scatterternary": [
           {
            "marker": {
             "colorbar": {
              "outlinewidth": 0,
              "ticks": ""
             }
            },
            "type": "scatterternary"
           }
          ],
          "surface": [
           {
            "colorbar": {
             "outlinewidth": 0,
             "ticks": ""
            },
            "colorscale": [
             [
              0,
              "#0d0887"
             ],
             [
              0.1111111111111111,
              "#46039f"
             ],
             [
              0.2222222222222222,
              "#7201a8"
             ],
             [
              0.3333333333333333,
              "#9c179e"
             ],
             [
              0.4444444444444444,
              "#bd3786"
             ],
             [
              0.5555555555555556,
              "#d8576b"
             ],
             [
              0.6666666666666666,
              "#ed7953"
             ],
             [
              0.7777777777777778,
              "#fb9f3a"
             ],
             [
              0.8888888888888888,
              "#fdca26"
             ],
             [
              1,
              "#f0f921"
             ]
            ],
            "type": "surface"
           }
          ],
          "table": [
           {
            "cells": {
             "fill": {
              "color": "#EBF0F8"
             },
             "line": {
              "color": "white"
             }
            },
            "header": {
             "fill": {
              "color": "#C8D4E3"
             },
             "line": {
              "color": "white"
             }
            },
            "type": "table"
           }
          ]
         },
         "layout": {
          "annotationdefaults": {
           "arrowcolor": "#2a3f5f",
           "arrowhead": 0,
           "arrowwidth": 1
          },
          "autotypenumbers": "strict",
          "coloraxis": {
           "colorbar": {
            "outlinewidth": 0,
            "ticks": ""
           }
          },
          "colorscale": {
           "diverging": [
            [
             0,
             "#8e0152"
            ],
            [
             0.1,
             "#c51b7d"
            ],
            [
             0.2,
             "#de77ae"
            ],
            [
             0.3,
             "#f1b6da"
            ],
            [
             0.4,
             "#fde0ef"
            ],
            [
             0.5,
             "#f7f7f7"
            ],
            [
             0.6,
             "#e6f5d0"
            ],
            [
             0.7,
             "#b8e186"
            ],
            [
             0.8,
             "#7fbc41"
            ],
            [
             0.9,
             "#4d9221"
            ],
            [
             1,
             "#276419"
            ]
           ],
           "sequential": [
            [
             0,
             "#0d0887"
            ],
            [
             0.1111111111111111,
             "#46039f"
            ],
            [
             0.2222222222222222,
             "#7201a8"
            ],
            [
             0.3333333333333333,
             "#9c179e"
            ],
            [
             0.4444444444444444,
             "#bd3786"
            ],
            [
             0.5555555555555556,
             "#d8576b"
            ],
            [
             0.6666666666666666,
             "#ed7953"
            ],
            [
             0.7777777777777778,
             "#fb9f3a"
            ],
            [
             0.8888888888888888,
             "#fdca26"
            ],
            [
             1,
             "#f0f921"
            ]
           ],
           "sequentialminus": [
            [
             0,
             "#0d0887"
            ],
            [
             0.1111111111111111,
             "#46039f"
            ],
            [
             0.2222222222222222,
             "#7201a8"
            ],
            [
             0.3333333333333333,
             "#9c179e"
            ],
            [
             0.4444444444444444,
             "#bd3786"
            ],
            [
             0.5555555555555556,
             "#d8576b"
            ],
            [
             0.6666666666666666,
             "#ed7953"
            ],
            [
             0.7777777777777778,
             "#fb9f3a"
            ],
            [
             0.8888888888888888,
             "#fdca26"
            ],
            [
             1,
             "#f0f921"
            ]
           ]
          },
          "colorway": [
           "#636efa",
           "#EF553B",
           "#00cc96",
           "#ab63fa",
           "#FFA15A",
           "#19d3f3",
           "#FF6692",
           "#B6E880",
           "#FF97FF",
           "#FECB52"
          ],
          "font": {
           "color": "#2a3f5f"
          },
          "geo": {
           "bgcolor": "white",
           "lakecolor": "white",
           "landcolor": "#E5ECF6",
           "showlakes": true,
           "showland": true,
           "subunitcolor": "white"
          },
          "hoverlabel": {
           "align": "left"
          },
          "hovermode": "closest",
          "mapbox": {
           "style": "light"
          },
          "paper_bgcolor": "white",
          "plot_bgcolor": "#E5ECF6",
          "polar": {
           "angularaxis": {
            "gridcolor": "white",
            "linecolor": "white",
            "ticks": ""
           },
           "bgcolor": "#E5ECF6",
           "radialaxis": {
            "gridcolor": "white",
            "linecolor": "white",
            "ticks": ""
           }
          },
          "scene": {
           "xaxis": {
            "backgroundcolor": "#E5ECF6",
            "gridcolor": "white",
            "gridwidth": 2,
            "linecolor": "white",
            "showbackground": true,
            "ticks": "",
            "zerolinecolor": "white"
           },
           "yaxis": {
            "backgroundcolor": "#E5ECF6",
            "gridcolor": "white",
            "gridwidth": 2,
            "linecolor": "white",
            "showbackground": true,
            "ticks": "",
            "zerolinecolor": "white"
           },
           "zaxis": {
            "backgroundcolor": "#E5ECF6",
            "gridcolor": "white",
            "gridwidth": 2,
            "linecolor": "white",
            "showbackground": true,
            "ticks": "",
            "zerolinecolor": "white"
           }
          },
          "shapedefaults": {
           "line": {
            "color": "#2a3f5f"
           }
          },
          "ternary": {
           "aaxis": {
            "gridcolor": "white",
            "linecolor": "white",
            "ticks": ""
           },
           "baxis": {
            "gridcolor": "white",
            "linecolor": "white",
            "ticks": ""
           },
           "bgcolor": "#E5ECF6",
           "caxis": {
            "gridcolor": "white",
            "linecolor": "white",
            "ticks": ""
           }
          },
          "title": {
           "x": 0.05
          },
          "xaxis": {
           "automargin": true,
           "gridcolor": "white",
           "linecolor": "white",
           "ticks": "",
           "title": {
            "standoff": 15
           },
           "zerolinecolor": "white",
           "zerolinewidth": 2
          },
          "yaxis": {
           "automargin": true,
           "gridcolor": "white",
           "linecolor": "white",
           "ticks": "",
           "title": {
            "standoff": 15
           },
           "zerolinecolor": "white",
           "zerolinewidth": 2
          }
         }
        },
        "title": {
         "text": "Ações da BBAS3 em circulação ao longo do tempo"
        },
        "xaxis": {
         "anchor": "y",
         "domain": [
          0,
          1
         ],
         "title": {
          "text": "Data"
         }
        },
        "yaxis": {
         "anchor": "x",
         "domain": [
          0,
          1
         ],
         "title": {
          "text": "Quantidade de Ações"
         }
        }
       }
      }
     },
     "metadata": {},
     "output_type": "display_data"
    }
   ],
   "source": [
    "fig = px.line(shares_all_time, x=shares_all_time.index, y=shares_all_time.values)\n",
    "\n",
    "fig.update_layout(\n",
    "    title='Ações da BBAS3 em circulação ao longo do tempo',\n",
    "    xaxis_title='Data',\n",
    "    yaxis_title='Quantidade de Ações',\n",
    ")\n",
    "\n",
    "fig.show()"
   ]
  },
  {
   "cell_type": "code",
   "execution_count": null,
   "id": "322cf1ee",
   "metadata": {},
   "outputs": [],
   "source": []
  }
 ],
 "metadata": {
  "kernelspec": {
   "display_name": "Python 3",
   "language": "python",
   "name": "python3"
  },
  "language_info": {
   "codemirror_mode": {
    "name": "ipython",
    "version": 3
   },
   "file_extension": ".py",
   "mimetype": "text/x-python",
   "name": "python",
   "nbconvert_exporter": "python",
   "pygments_lexer": "ipython3",
   "version": "3.11.4"
  }
 },
 "nbformat": 4,
 "nbformat_minor": 5
}
