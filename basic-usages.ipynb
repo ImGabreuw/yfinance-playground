{
 "cells": [
  {
   "cell_type": "code",
   "execution_count": 1,
   "id": "initial_id",
   "metadata": {
    "ExecuteTime": {
     "end_time": "2023-08-03T01:45:40.347946223Z",
     "start_time": "2023-08-03T01:45:34.930748030Z"
    },
    "collapsed": true
   },
   "outputs": [],
   "source": [
    "!pip install --upgrade pip -q\n",
    "!pip install yfinance -q\n",
    "!pip install plotly -q"
   ]
  },
  {
   "cell_type": "code",
   "execution_count": 2,
   "id": "427af9825919c995",
   "metadata": {
    "ExecuteTime": {
     "end_time": "2023-08-03T01:45:40.360214913Z",
     "start_time": "2023-08-03T01:45:40.348168277Z"
    },
    "collapsed": false
   },
   "outputs": [],
   "source": [
    "import yfinance as yf\n",
    "import plotly.express as px\n",
    "import plotly.graph_objects as go"
   ]
  },
  {
   "cell_type": "markdown",
   "id": "7196d4e4b2ae1343",
   "metadata": {
    "collapsed": false
   },
   "source": [
    "# Brazilian Stocks"
   ]
  },
  {
   "cell_type": "markdown",
   "id": "6808fd39fe610d3b",
   "metadata": {
    "collapsed": false
   },
   "source": [
    "### Historical market data"
   ]
  },
  {
   "cell_type": "code",
   "execution_count": 3,
   "id": "3a468ed1dadb1d2f",
   "metadata": {
    "ExecuteTime": {
     "end_time": "2023-08-03T01:41:45.647661999Z",
     "start_time": "2023-08-03T01:41:45.642008485Z"
    },
    "collapsed": false
   },
   "outputs": [],
   "source": [
    "bbas3 = yf.Ticker(\"BBAS3.SA\")"
   ]
  },
  {
   "cell_type": "code",
   "execution_count": 4,
   "id": "40b0aaf7927a6583",
   "metadata": {
    "ExecuteTime": {
     "end_time": "2023-08-03T01:41:46.071322744Z",
     "start_time": "2023-08-03T01:41:45.644677512Z"
    },
    "collapsed": false
   },
   "outputs": [
    {
     "data": {
      "text/html": [
       "<div>\n",
       "<style scoped>\n",
       "    .dataframe tbody tr th:only-of-type {\n",
       "        vertical-align: middle;\n",
       "    }\n",
       "\n",
       "    .dataframe tbody tr th {\n",
       "        vertical-align: top;\n",
       "    }\n",
       "\n",
       "    .dataframe thead th {\n",
       "        text-align: right;\n",
       "    }\n",
       "</style>\n",
       "<table border=\"1\" class=\"dataframe\">\n",
       "  <thead>\n",
       "    <tr style=\"text-align: right;\">\n",
       "      <th></th>\n",
       "      <th>Open</th>\n",
       "      <th>High</th>\n",
       "      <th>Low</th>\n",
       "      <th>Close</th>\n",
       "      <th>Volume</th>\n",
       "      <th>Dividends</th>\n",
       "      <th>Stock Splits</th>\n",
       "    </tr>\n",
       "    <tr>\n",
       "      <th>Date</th>\n",
       "      <th></th>\n",
       "      <th></th>\n",
       "      <th></th>\n",
       "      <th></th>\n",
       "      <th></th>\n",
       "      <th></th>\n",
       "      <th></th>\n",
       "    </tr>\n",
       "  </thead>\n",
       "  <tbody>\n",
       "    <tr>\n",
       "      <th>2022-08-02 00:00:00-03:00</th>\n",
       "      <td>33.039326</td>\n",
       "      <td>33.733430</td>\n",
       "      <td>32.863484</td>\n",
       "      <td>33.465042</td>\n",
       "      <td>9827600</td>\n",
       "      <td>0.0</td>\n",
       "      <td>0.0</td>\n",
       "    </tr>\n",
       "    <tr>\n",
       "      <th>2022-08-03 00:00:00-03:00</th>\n",
       "      <td>33.529830</td>\n",
       "      <td>33.853747</td>\n",
       "      <td>33.205916</td>\n",
       "      <td>33.696415</td>\n",
       "      <td>7569400</td>\n",
       "      <td>0.0</td>\n",
       "      <td>0.0</td>\n",
       "    </tr>\n",
       "    <tr>\n",
       "      <th>2022-08-04 00:00:00-03:00</th>\n",
       "      <td>33.955548</td>\n",
       "      <td>34.353501</td>\n",
       "      <td>33.779710</td>\n",
       "      <td>34.334991</td>\n",
       "      <td>11649100</td>\n",
       "      <td>0.0</td>\n",
       "      <td>0.0</td>\n",
       "    </tr>\n",
       "    <tr>\n",
       "      <th>2022-08-05 00:00:00-03:00</th>\n",
       "      <td>34.334990</td>\n",
       "      <td>35.010588</td>\n",
       "      <td>34.196172</td>\n",
       "      <td>34.973568</td>\n",
       "      <td>10877000</td>\n",
       "      <td>0.0</td>\n",
       "      <td>0.0</td>\n",
       "    </tr>\n",
       "    <tr>\n",
       "      <th>2022-08-08 00:00:00-03:00</th>\n",
       "      <td>35.121637</td>\n",
       "      <td>36.185927</td>\n",
       "      <td>34.945795</td>\n",
       "      <td>36.074871</td>\n",
       "      <td>19478800</td>\n",
       "      <td>0.0</td>\n",
       "      <td>0.0</td>\n",
       "    </tr>\n",
       "    <tr>\n",
       "      <th>...</th>\n",
       "      <td>...</td>\n",
       "      <td>...</td>\n",
       "      <td>...</td>\n",
       "      <td>...</td>\n",
       "      <td>...</td>\n",
       "      <td>...</td>\n",
       "      <td>...</td>\n",
       "    </tr>\n",
       "    <tr>\n",
       "      <th>2023-07-27 00:00:00-03:00</th>\n",
       "      <td>47.720001</td>\n",
       "      <td>47.759998</td>\n",
       "      <td>46.650002</td>\n",
       "      <td>46.740002</td>\n",
       "      <td>11750700</td>\n",
       "      <td>0.0</td>\n",
       "      <td>0.0</td>\n",
       "    </tr>\n",
       "    <tr>\n",
       "      <th>2023-07-28 00:00:00-03:00</th>\n",
       "      <td>47.130001</td>\n",
       "      <td>47.570000</td>\n",
       "      <td>46.860001</td>\n",
       "      <td>47.279999</td>\n",
       "      <td>7276100</td>\n",
       "      <td>0.0</td>\n",
       "      <td>0.0</td>\n",
       "    </tr>\n",
       "    <tr>\n",
       "      <th>2023-07-31 00:00:00-03:00</th>\n",
       "      <td>47.599998</td>\n",
       "      <td>48.320000</td>\n",
       "      <td>47.480000</td>\n",
       "      <td>48.189999</td>\n",
       "      <td>10389900</td>\n",
       "      <td>0.0</td>\n",
       "      <td>0.0</td>\n",
       "    </tr>\n",
       "    <tr>\n",
       "      <th>2023-08-01 00:00:00-03:00</th>\n",
       "      <td>47.919998</td>\n",
       "      <td>48.029999</td>\n",
       "      <td>46.939999</td>\n",
       "      <td>47.360001</td>\n",
       "      <td>12680100</td>\n",
       "      <td>0.0</td>\n",
       "      <td>0.0</td>\n",
       "    </tr>\n",
       "    <tr>\n",
       "      <th>2023-08-02 00:00:00-03:00</th>\n",
       "      <td>0.000000</td>\n",
       "      <td>0.000000</td>\n",
       "      <td>0.000000</td>\n",
       "      <td>47.570000</td>\n",
       "      <td>0</td>\n",
       "      <td>0.0</td>\n",
       "      <td>0.0</td>\n",
       "    </tr>\n",
       "  </tbody>\n",
       "</table>\n",
       "<p>251 rows × 7 columns</p>\n",
       "</div>"
      ],
      "text/plain": [
       "                                Open       High        Low      Close  \\\n",
       "Date                                                                    \n",
       "2022-08-02 00:00:00-03:00  33.039326  33.733430  32.863484  33.465042   \n",
       "2022-08-03 00:00:00-03:00  33.529830  33.853747  33.205916  33.696415   \n",
       "2022-08-04 00:00:00-03:00  33.955548  34.353501  33.779710  34.334991   \n",
       "2022-08-05 00:00:00-03:00  34.334990  35.010588  34.196172  34.973568   \n",
       "2022-08-08 00:00:00-03:00  35.121637  36.185927  34.945795  36.074871   \n",
       "...                              ...        ...        ...        ...   \n",
       "2023-07-27 00:00:00-03:00  47.720001  47.759998  46.650002  46.740002   \n",
       "2023-07-28 00:00:00-03:00  47.130001  47.570000  46.860001  47.279999   \n",
       "2023-07-31 00:00:00-03:00  47.599998  48.320000  47.480000  48.189999   \n",
       "2023-08-01 00:00:00-03:00  47.919998  48.029999  46.939999  47.360001   \n",
       "2023-08-02 00:00:00-03:00   0.000000   0.000000   0.000000  47.570000   \n",
       "\n",
       "                             Volume  Dividends  Stock Splits  \n",
       "Date                                                          \n",
       "2022-08-02 00:00:00-03:00   9827600        0.0           0.0  \n",
       "2022-08-03 00:00:00-03:00   7569400        0.0           0.0  \n",
       "2022-08-04 00:00:00-03:00  11649100        0.0           0.0  \n",
       "2022-08-05 00:00:00-03:00  10877000        0.0           0.0  \n",
       "2022-08-08 00:00:00-03:00  19478800        0.0           0.0  \n",
       "...                             ...        ...           ...  \n",
       "2023-07-27 00:00:00-03:00  11750700        0.0           0.0  \n",
       "2023-07-28 00:00:00-03:00   7276100        0.0           0.0  \n",
       "2023-07-31 00:00:00-03:00  10389900        0.0           0.0  \n",
       "2023-08-01 00:00:00-03:00  12680100        0.0           0.0  \n",
       "2023-08-02 00:00:00-03:00         0        0.0           0.0  \n",
       "\n",
       "[251 rows x 7 columns]"
      ]
     },
     "execution_count": 4,
     "metadata": {},
     "output_type": "execute_result"
    }
   ],
   "source": [
    "bbas3.history(period=\"1y\")"
   ]
  },
  {
   "cell_type": "markdown",
   "id": "5dff5665f19de597",
   "metadata": {
    "collapsed": false
   },
   "source": [
    "### Get real time quotation"
   ]
  },
  {
   "cell_type": "code",
   "execution_count": 5,
   "id": "d1f889d7be3213a5",
   "metadata": {
    "ExecuteTime": {
     "end_time": "2023-08-03T01:41:46.564820164Z",
     "start_time": "2023-08-03T01:41:46.074046794Z"
    },
    "collapsed": false
   },
   "outputs": [
    {
     "data": {
      "text/plain": [
       "47.57"
      ]
     },
     "execution_count": 5,
     "metadata": {},
     "output_type": "execute_result"
    }
   ],
   "source": [
    "bbas3 = yf.Ticker(\"BBAS3.SA\")\n",
    "bbas3.info[\"currentPrice\"]"
   ]
  },
  {
   "cell_type": "markdown",
   "id": "2fb8e149de12f804",
   "metadata": {
    "collapsed": false
   },
   "source": [
    "### Get financials data"
   ]
  },
  {
   "cell_type": "code",
   "execution_count": 6,
   "id": "c7022ff9119ec20f",
   "metadata": {
    "ExecuteTime": {
     "end_time": "2023-08-03T01:41:46.941724822Z",
     "start_time": "2023-08-03T01:41:46.565054101Z"
    },
    "collapsed": false
   },
   "outputs": [
    {
     "data": {
      "text/html": [
       "<div>\n",
       "<style scoped>\n",
       "    .dataframe tbody tr th:only-of-type {\n",
       "        vertical-align: middle;\n",
       "    }\n",
       "\n",
       "    .dataframe tbody tr th {\n",
       "        vertical-align: top;\n",
       "    }\n",
       "\n",
       "    .dataframe thead th {\n",
       "        text-align: right;\n",
       "    }\n",
       "</style>\n",
       "<table border=\"1\" class=\"dataframe\">\n",
       "  <thead>\n",
       "    <tr style=\"text-align: right;\">\n",
       "      <th></th>\n",
       "      <th>2022-12-31</th>\n",
       "      <th>2021-12-31</th>\n",
       "      <th>2020-12-31</th>\n",
       "      <th>2019-12-31</th>\n",
       "    </tr>\n",
       "  </thead>\n",
       "  <tbody>\n",
       "    <tr>\n",
       "      <th>Tax Effect Of Unusual Items</th>\n",
       "      <td>-10182.354953</td>\n",
       "      <td>-150575245.208646</td>\n",
       "      <td>0.0</td>\n",
       "      <td>896387560.0</td>\n",
       "    </tr>\n",
       "    <tr>\n",
       "      <th>Tax Rate For Calcs</th>\n",
       "      <td>0.199654</td>\n",
       "      <td>0.156975</td>\n",
       "      <td>0.100966</td>\n",
       "      <td>0.34</td>\n",
       "    </tr>\n",
       "    <tr>\n",
       "      <th>Total Unusual Items</th>\n",
       "      <td>-51000.0</td>\n",
       "      <td>-959231000.0</td>\n",
       "      <td>0.0</td>\n",
       "      <td>2636434000.0</td>\n",
       "    </tr>\n",
       "    <tr>\n",
       "      <th>Total Unusual Items Excluding Goodwill</th>\n",
       "      <td>-51000.0</td>\n",
       "      <td>-959231000.0</td>\n",
       "      <td>0.0</td>\n",
       "      <td>2636434000.0</td>\n",
       "    </tr>\n",
       "    <tr>\n",
       "      <th>Net Income From Continuing Operation Net Minority Interest</th>\n",
       "      <td>34980015000.0</td>\n",
       "      <td>22246235000.0</td>\n",
       "      <td>14265956000.0</td>\n",
       "      <td>20499810000.0</td>\n",
       "    </tr>\n",
       "    <tr>\n",
       "      <th>Reconciled Depreciation</th>\n",
       "      <td>2833098000.0</td>\n",
       "      <td>2828694000.0</td>\n",
       "      <td>3155206000.0</td>\n",
       "      <td>3039597000.0</td>\n",
       "    </tr>\n",
       "    <tr>\n",
       "      <th>Net Interest Income</th>\n",
       "      <td>82269433000.0</td>\n",
       "      <td>61059752000.0</td>\n",
       "      <td>47067310000.0</td>\n",
       "      <td>53124090000.0</td>\n",
       "    </tr>\n",
       "    <tr>\n",
       "      <th>Interest Expense</th>\n",
       "      <td>158439298000.0</td>\n",
       "      <td>70609855000.0</td>\n",
       "      <td>71862593000.0</td>\n",
       "      <td>71652572000.0</td>\n",
       "    </tr>\n",
       "    <tr>\n",
       "      <th>Interest Income</th>\n",
       "      <td>240708731000.0</td>\n",
       "      <td>131669607000.0</td>\n",
       "      <td>118929903000.0</td>\n",
       "      <td>124776662000.0</td>\n",
       "    </tr>\n",
       "    <tr>\n",
       "      <th>Normalized Income</th>\n",
       "      <td>34980055817.64505</td>\n",
       "      <td>23054890754.791355</td>\n",
       "      <td>14265956000.0</td>\n",
       "      <td>18759763560.0</td>\n",
       "    </tr>\n",
       "    <tr>\n",
       "      <th>Net Income From Continuing And Discontinued Operation</th>\n",
       "      <td>34980015000.0</td>\n",
       "      <td>22246235000.0</td>\n",
       "      <td>14265956000.0</td>\n",
       "      <td>20499810000.0</td>\n",
       "    </tr>\n",
       "    <tr>\n",
       "      <th>Diluted Average Shares</th>\n",
       "      <td>2853771411.0</td>\n",
       "      <td>2853577258.0</td>\n",
       "      <td>2852522381.0</td>\n",
       "      <td>2799325330.0</td>\n",
       "    </tr>\n",
       "    <tr>\n",
       "      <th>Basic Average Shares</th>\n",
       "      <td>2853771411.0</td>\n",
       "      <td>2853577258.0</td>\n",
       "      <td>2852522381.0</td>\n",
       "      <td>2799325330.0</td>\n",
       "    </tr>\n",
       "    <tr>\n",
       "      <th>Diluted EPS</th>\n",
       "      <td>10.79</td>\n",
       "      <td>6.86</td>\n",
       "      <td>4.39</td>\n",
       "      <td>6.39</td>\n",
       "    </tr>\n",
       "    <tr>\n",
       "      <th>Basic EPS</th>\n",
       "      <td>10.79</td>\n",
       "      <td>6.86</td>\n",
       "      <td>4.39</td>\n",
       "      <td>6.39</td>\n",
       "    </tr>\n",
       "    <tr>\n",
       "      <th>Diluted NI Availto Com Stockholders</th>\n",
       "      <td>30796870000.0</td>\n",
       "      <td>19574419000.0</td>\n",
       "      <td>12512155000.0</td>\n",
       "      <td>17899349000.0</td>\n",
       "    </tr>\n",
       "    <tr>\n",
       "      <th>Net Income Common Stockholders</th>\n",
       "      <td>30796870000.0</td>\n",
       "      <td>19574419000.0</td>\n",
       "      <td>12512155000.0</td>\n",
       "      <td>17899349000.0</td>\n",
       "    </tr>\n",
       "    <tr>\n",
       "      <th>Otherunder Preferred Stock Dividend</th>\n",
       "      <td>214617000.0</td>\n",
       "      <td>135983000.0</td>\n",
       "      <td>185230000.0</td>\n",
       "      <td>262718000.0</td>\n",
       "    </tr>\n",
       "    <tr>\n",
       "      <th>Net Income</th>\n",
       "      <td>31011487000.0</td>\n",
       "      <td>19710402000.0</td>\n",
       "      <td>12697385000.0</td>\n",
       "      <td>18162067000.0</td>\n",
       "    </tr>\n",
       "    <tr>\n",
       "      <th>Minority Interests</th>\n",
       "      <td>-2631801000.0</td>\n",
       "      <td>-1605513000.0</td>\n",
       "      <td>1576522000.0</td>\n",
       "      <td>-2481867000.0</td>\n",
       "    </tr>\n",
       "    <tr>\n",
       "      <th>Net Income Including Noncontrolling Interests</th>\n",
       "      <td>33643288000.0</td>\n",
       "      <td>21315915000.0</td>\n",
       "      <td>11368177000.0</td>\n",
       "      <td>20643934000.0</td>\n",
       "    </tr>\n",
       "    <tr>\n",
       "      <th>Net Income Extraordinary</th>\n",
       "      <td>-3968528000.0</td>\n",
       "      <td>-2535833000.0</td>\n",
       "      <td>-1568571000.0</td>\n",
       "      <td>-2337743000.0</td>\n",
       "    </tr>\n",
       "    <tr>\n",
       "      <th>Net Income Continuous Operations</th>\n",
       "      <td>37611816000.0</td>\n",
       "      <td>23851748000.0</td>\n",
       "      <td>12936748000.0</td>\n",
       "      <td>22981677000.0</td>\n",
       "    </tr>\n",
       "    <tr>\n",
       "      <th>Tax Provision</th>\n",
       "      <td>9382630000.0</td>\n",
       "      <td>4441300000.0</td>\n",
       "      <td>1452865000.0</td>\n",
       "      <td>-6860500000.0</td>\n",
       "    </tr>\n",
       "    <tr>\n",
       "      <th>Pretax Income</th>\n",
       "      <td>46994446000.0</td>\n",
       "      <td>28293048000.0</td>\n",
       "      <td>14389613000.0</td>\n",
       "      <td>16121177000.0</td>\n",
       "    </tr>\n",
       "    <tr>\n",
       "      <th>Other Non Operating Income Expenses</th>\n",
       "      <td>719202000.0</td>\n",
       "      <td>246057000.0</td>\n",
       "      <td>154901000.0</td>\n",
       "      <td>13952000.0</td>\n",
       "    </tr>\n",
       "    <tr>\n",
       "      <th>Special Income Charges</th>\n",
       "      <td>-51000.0</td>\n",
       "      <td>-959231000.0</td>\n",
       "      <td>0.0</td>\n",
       "      <td>2636434000.0</td>\n",
       "    </tr>\n",
       "    <tr>\n",
       "      <th>Other Special Charges</th>\n",
       "      <td>NaN</td>\n",
       "      <td>NaN</td>\n",
       "      <td>NaN</td>\n",
       "      <td>-3621087000.0</td>\n",
       "    </tr>\n",
       "    <tr>\n",
       "      <th>Write Off</th>\n",
       "      <td>51000.0</td>\n",
       "      <td>959231000.0</td>\n",
       "      <td>0.0</td>\n",
       "      <td>984653000.0</td>\n",
       "    </tr>\n",
       "    <tr>\n",
       "      <th>Gain On Sale Of Security</th>\n",
       "      <td>NaN</td>\n",
       "      <td>NaN</td>\n",
       "      <td>NaN</td>\n",
       "      <td>153671000.0</td>\n",
       "    </tr>\n",
       "    <tr>\n",
       "      <th>Operating Expense</th>\n",
       "      <td>58549545000.0</td>\n",
       "      <td>53349513000.0</td>\n",
       "      <td>50190207000.0</td>\n",
       "      <td>56855650000.0</td>\n",
       "    </tr>\n",
       "    <tr>\n",
       "      <th>Other Operating Expenses</th>\n",
       "      <td>21771488000.0</td>\n",
       "      <td>17753692000.0</td>\n",
       "      <td>14830383000.0</td>\n",
       "      <td>19015662000.0</td>\n",
       "    </tr>\n",
       "    <tr>\n",
       "      <th>Depreciation And Amortization In Income Statement</th>\n",
       "      <td>2833098000.0</td>\n",
       "      <td>2828694000.0</td>\n",
       "      <td>3155206000.0</td>\n",
       "      <td>3036181000.0</td>\n",
       "    </tr>\n",
       "    <tr>\n",
       "      <th>Amortization</th>\n",
       "      <td>1361750000.0</td>\n",
       "      <td>1441449000.0</td>\n",
       "      <td>1835500000.0</td>\n",
       "      <td>1792751000.0</td>\n",
       "    </tr>\n",
       "    <tr>\n",
       "      <th>Depreciation Income Statement</th>\n",
       "      <td>1471348000.0</td>\n",
       "      <td>1387245000.0</td>\n",
       "      <td>1319706000.0</td>\n",
       "      <td>1243430000.0</td>\n",
       "    </tr>\n",
       "    <tr>\n",
       "      <th>Selling General And Administration</th>\n",
       "      <td>8392860000.0</td>\n",
       "      <td>8631388000.0</td>\n",
       "      <td>8542268000.0</td>\n",
       "      <td>8415181000.0</td>\n",
       "    </tr>\n",
       "    <tr>\n",
       "      <th>Selling And Marketing Expense</th>\n",
       "      <td>660810000.0</td>\n",
       "      <td>647526000.0</td>\n",
       "      <td>599697000.0</td>\n",
       "      <td>651562000.0</td>\n",
       "    </tr>\n",
       "    <tr>\n",
       "      <th>General And Administrative Expense</th>\n",
       "      <td>7732050000.0</td>\n",
       "      <td>7983862000.0</td>\n",
       "      <td>7942571000.0</td>\n",
       "      <td>7763619000.0</td>\n",
       "    </tr>\n",
       "    <tr>\n",
       "      <th>Insurance And Claims</th>\n",
       "      <td>294194000.0</td>\n",
       "      <td>222062000.0</td>\n",
       "      <td>189176000.0</td>\n",
       "      <td>150242000.0</td>\n",
       "    </tr>\n",
       "    <tr>\n",
       "      <th>Rent And Landing Fees</th>\n",
       "      <td>1429655000.0</td>\n",
       "      <td>1420381000.0</td>\n",
       "      <td>1355714000.0</td>\n",
       "      <td>1341667000.0</td>\n",
       "    </tr>\n",
       "    <tr>\n",
       "      <th>Total Revenue</th>\n",
       "      <td>123382876000.0</td>\n",
       "      <td>97529221000.0</td>\n",
       "      <td>87334965000.0</td>\n",
       "      <td>89046908000.0</td>\n",
       "    </tr>\n",
       "    <tr>\n",
       "      <th>Operating Revenue</th>\n",
       "      <td>123382876000.0</td>\n",
       "      <td>97529221000.0</td>\n",
       "      <td>87334965000.0</td>\n",
       "      <td>89046908000.0</td>\n",
       "    </tr>\n",
       "  </tbody>\n",
       "</table>\n",
       "</div>"
      ],
      "text/plain": [
       "                                                           2022-12-31  \\\n",
       "Tax Effect Of Unusual Items                             -10182.354953   \n",
       "Tax Rate For Calcs                                           0.199654   \n",
       "Total Unusual Items                                          -51000.0   \n",
       "Total Unusual Items Excluding Goodwill                       -51000.0   \n",
       "Net Income From Continuing Operation Net Minori...      34980015000.0   \n",
       "Reconciled Depreciation                                  2833098000.0   \n",
       "Net Interest Income                                     82269433000.0   \n",
       "Interest Expense                                       158439298000.0   \n",
       "Interest Income                                        240708731000.0   \n",
       "Normalized Income                                   34980055817.64505   \n",
       "Net Income From Continuing And Discontinued Ope...      34980015000.0   \n",
       "Diluted Average Shares                                   2853771411.0   \n",
       "Basic Average Shares                                     2853771411.0   \n",
       "Diluted EPS                                                     10.79   \n",
       "Basic EPS                                                       10.79   \n",
       "Diluted NI Availto Com Stockholders                     30796870000.0   \n",
       "Net Income Common Stockholders                          30796870000.0   \n",
       "Otherunder Preferred Stock Dividend                       214617000.0   \n",
       "Net Income                                              31011487000.0   \n",
       "Minority Interests                                      -2631801000.0   \n",
       "Net Income Including Noncontrolling Interests           33643288000.0   \n",
       "Net Income Extraordinary                                -3968528000.0   \n",
       "Net Income Continuous Operations                        37611816000.0   \n",
       "Tax Provision                                            9382630000.0   \n",
       "Pretax Income                                           46994446000.0   \n",
       "Other Non Operating Income Expenses                       719202000.0   \n",
       "Special Income Charges                                       -51000.0   \n",
       "Other Special Charges                                             NaN   \n",
       "Write Off                                                     51000.0   \n",
       "Gain On Sale Of Security                                          NaN   \n",
       "Operating Expense                                       58549545000.0   \n",
       "Other Operating Expenses                                21771488000.0   \n",
       "Depreciation And Amortization In Income Statement        2833098000.0   \n",
       "Amortization                                             1361750000.0   \n",
       "Depreciation Income Statement                            1471348000.0   \n",
       "Selling General And Administration                       8392860000.0   \n",
       "Selling And Marketing Expense                             660810000.0   \n",
       "General And Administrative Expense                       7732050000.0   \n",
       "Insurance And Claims                                      294194000.0   \n",
       "Rent And Landing Fees                                    1429655000.0   \n",
       "Total Revenue                                          123382876000.0   \n",
       "Operating Revenue                                      123382876000.0   \n",
       "\n",
       "                                                            2021-12-31  \\\n",
       "Tax Effect Of Unusual Items                          -150575245.208646   \n",
       "Tax Rate For Calcs                                            0.156975   \n",
       "Total Unusual Items                                       -959231000.0   \n",
       "Total Unusual Items Excluding Goodwill                    -959231000.0   \n",
       "Net Income From Continuing Operation Net Minori...       22246235000.0   \n",
       "Reconciled Depreciation                                   2828694000.0   \n",
       "Net Interest Income                                      61059752000.0   \n",
       "Interest Expense                                         70609855000.0   \n",
       "Interest Income                                         131669607000.0   \n",
       "Normalized Income                                   23054890754.791355   \n",
       "Net Income From Continuing And Discontinued Ope...       22246235000.0   \n",
       "Diluted Average Shares                                    2853577258.0   \n",
       "Basic Average Shares                                      2853577258.0   \n",
       "Diluted EPS                                                       6.86   \n",
       "Basic EPS                                                         6.86   \n",
       "Diluted NI Availto Com Stockholders                      19574419000.0   \n",
       "Net Income Common Stockholders                           19574419000.0   \n",
       "Otherunder Preferred Stock Dividend                        135983000.0   \n",
       "Net Income                                               19710402000.0   \n",
       "Minority Interests                                       -1605513000.0   \n",
       "Net Income Including Noncontrolling Interests            21315915000.0   \n",
       "Net Income Extraordinary                                 -2535833000.0   \n",
       "Net Income Continuous Operations                         23851748000.0   \n",
       "Tax Provision                                             4441300000.0   \n",
       "Pretax Income                                            28293048000.0   \n",
       "Other Non Operating Income Expenses                        246057000.0   \n",
       "Special Income Charges                                    -959231000.0   \n",
       "Other Special Charges                                              NaN   \n",
       "Write Off                                                  959231000.0   \n",
       "Gain On Sale Of Security                                           NaN   \n",
       "Operating Expense                                        53349513000.0   \n",
       "Other Operating Expenses                                 17753692000.0   \n",
       "Depreciation And Amortization In Income Statement         2828694000.0   \n",
       "Amortization                                              1441449000.0   \n",
       "Depreciation Income Statement                             1387245000.0   \n",
       "Selling General And Administration                        8631388000.0   \n",
       "Selling And Marketing Expense                              647526000.0   \n",
       "General And Administrative Expense                        7983862000.0   \n",
       "Insurance And Claims                                       222062000.0   \n",
       "Rent And Landing Fees                                     1420381000.0   \n",
       "Total Revenue                                            97529221000.0   \n",
       "Operating Revenue                                        97529221000.0   \n",
       "\n",
       "                                                        2020-12-31  \\\n",
       "Tax Effect Of Unusual Items                                    0.0   \n",
       "Tax Rate For Calcs                                        0.100966   \n",
       "Total Unusual Items                                            0.0   \n",
       "Total Unusual Items Excluding Goodwill                         0.0   \n",
       "Net Income From Continuing Operation Net Minori...   14265956000.0   \n",
       "Reconciled Depreciation                               3155206000.0   \n",
       "Net Interest Income                                  47067310000.0   \n",
       "Interest Expense                                     71862593000.0   \n",
       "Interest Income                                     118929903000.0   \n",
       "Normalized Income                                    14265956000.0   \n",
       "Net Income From Continuing And Discontinued Ope...   14265956000.0   \n",
       "Diluted Average Shares                                2852522381.0   \n",
       "Basic Average Shares                                  2852522381.0   \n",
       "Diluted EPS                                                   4.39   \n",
       "Basic EPS                                                     4.39   \n",
       "Diluted NI Availto Com Stockholders                  12512155000.0   \n",
       "Net Income Common Stockholders                       12512155000.0   \n",
       "Otherunder Preferred Stock Dividend                    185230000.0   \n",
       "Net Income                                           12697385000.0   \n",
       "Minority Interests                                    1576522000.0   \n",
       "Net Income Including Noncontrolling Interests        11368177000.0   \n",
       "Net Income Extraordinary                             -1568571000.0   \n",
       "Net Income Continuous Operations                     12936748000.0   \n",
       "Tax Provision                                         1452865000.0   \n",
       "Pretax Income                                        14389613000.0   \n",
       "Other Non Operating Income Expenses                    154901000.0   \n",
       "Special Income Charges                                         0.0   \n",
       "Other Special Charges                                          NaN   \n",
       "Write Off                                                      0.0   \n",
       "Gain On Sale Of Security                                       NaN   \n",
       "Operating Expense                                    50190207000.0   \n",
       "Other Operating Expenses                             14830383000.0   \n",
       "Depreciation And Amortization In Income Statement     3155206000.0   \n",
       "Amortization                                          1835500000.0   \n",
       "Depreciation Income Statement                         1319706000.0   \n",
       "Selling General And Administration                    8542268000.0   \n",
       "Selling And Marketing Expense                          599697000.0   \n",
       "General And Administrative Expense                    7942571000.0   \n",
       "Insurance And Claims                                   189176000.0   \n",
       "Rent And Landing Fees                                 1355714000.0   \n",
       "Total Revenue                                        87334965000.0   \n",
       "Operating Revenue                                    87334965000.0   \n",
       "\n",
       "                                                        2019-12-31  \n",
       "Tax Effect Of Unusual Items                            896387560.0  \n",
       "Tax Rate For Calcs                                            0.34  \n",
       "Total Unusual Items                                   2636434000.0  \n",
       "Total Unusual Items Excluding Goodwill                2636434000.0  \n",
       "Net Income From Continuing Operation Net Minori...   20499810000.0  \n",
       "Reconciled Depreciation                               3039597000.0  \n",
       "Net Interest Income                                  53124090000.0  \n",
       "Interest Expense                                     71652572000.0  \n",
       "Interest Income                                     124776662000.0  \n",
       "Normalized Income                                    18759763560.0  \n",
       "Net Income From Continuing And Discontinued Ope...   20499810000.0  \n",
       "Diluted Average Shares                                2799325330.0  \n",
       "Basic Average Shares                                  2799325330.0  \n",
       "Diluted EPS                                                   6.39  \n",
       "Basic EPS                                                     6.39  \n",
       "Diluted NI Availto Com Stockholders                  17899349000.0  \n",
       "Net Income Common Stockholders                       17899349000.0  \n",
       "Otherunder Preferred Stock Dividend                    262718000.0  \n",
       "Net Income                                           18162067000.0  \n",
       "Minority Interests                                   -2481867000.0  \n",
       "Net Income Including Noncontrolling Interests        20643934000.0  \n",
       "Net Income Extraordinary                             -2337743000.0  \n",
       "Net Income Continuous Operations                     22981677000.0  \n",
       "Tax Provision                                        -6860500000.0  \n",
       "Pretax Income                                        16121177000.0  \n",
       "Other Non Operating Income Expenses                     13952000.0  \n",
       "Special Income Charges                                2636434000.0  \n",
       "Other Special Charges                                -3621087000.0  \n",
       "Write Off                                              984653000.0  \n",
       "Gain On Sale Of Security                               153671000.0  \n",
       "Operating Expense                                    56855650000.0  \n",
       "Other Operating Expenses                             19015662000.0  \n",
       "Depreciation And Amortization In Income Statement     3036181000.0  \n",
       "Amortization                                          1792751000.0  \n",
       "Depreciation Income Statement                         1243430000.0  \n",
       "Selling General And Administration                    8415181000.0  \n",
       "Selling And Marketing Expense                          651562000.0  \n",
       "General And Administrative Expense                    7763619000.0  \n",
       "Insurance And Claims                                   150242000.0  \n",
       "Rent And Landing Fees                                 1341667000.0  \n",
       "Total Revenue                                        89046908000.0  \n",
       "Operating Revenue                                    89046908000.0  "
      ]
     },
     "execution_count": 6,
     "metadata": {},
     "output_type": "execute_result"
    }
   ],
   "source": [
    "bbas3 = yf.Ticker(\"BBAS3.SA\")\n",
    "bbas3.financials"
   ]
  },
  {
   "cell_type": "markdown",
   "id": "cc70432838ce259b",
   "metadata": {
    "collapsed": false
   },
   "source": [
    "# Brazilian REATs"
   ]
  },
  {
   "cell_type": "code",
   "execution_count": 7,
   "id": "bfdc7a8f80b37ceb",
   "metadata": {
    "ExecuteTime": {
     "end_time": "2023-08-03T01:41:46.942187887Z",
     "start_time": "2023-08-03T01:41:46.899909639Z"
    },
    "collapsed": false
   },
   "outputs": [],
   "source": [
    "mxrf11 = yf.Ticker(\"MXRF11.SA\")"
   ]
  },
  {
   "cell_type": "code",
   "execution_count": 8,
   "id": "e55871b7bbf06516",
   "metadata": {
    "ExecuteTime": {
     "end_time": "2023-08-03T01:41:47.284941892Z",
     "start_time": "2023-08-03T01:41:46.903285547Z"
    },
    "collapsed": false
   },
   "outputs": [],
   "source": [
    "history_df = mxrf11.history(period=\"6mo\", interval=\"1d\")"
   ]
  },
  {
   "cell_type": "code",
   "execution_count": 9,
   "id": "98c7d915f7c80efd",
   "metadata": {
    "ExecuteTime": {
     "end_time": "2023-08-03T01:41:47.335948080Z",
     "start_time": "2023-08-03T01:41:47.293862481Z"
    },
    "collapsed": false
   },
   "outputs": [
    {
     "data": {
      "text/html": [
       "<div>\n",
       "<style scoped>\n",
       "    .dataframe tbody tr th:only-of-type {\n",
       "        vertical-align: middle;\n",
       "    }\n",
       "\n",
       "    .dataframe tbody tr th {\n",
       "        vertical-align: top;\n",
       "    }\n",
       "\n",
       "    .dataframe thead th {\n",
       "        text-align: right;\n",
       "    }\n",
       "</style>\n",
       "<table border=\"1\" class=\"dataframe\">\n",
       "  <thead>\n",
       "    <tr style=\"text-align: right;\">\n",
       "      <th></th>\n",
       "      <th>Open</th>\n",
       "      <th>High</th>\n",
       "      <th>Low</th>\n",
       "      <th>Close</th>\n",
       "      <th>Volume</th>\n",
       "      <th>Dividends</th>\n",
       "      <th>Stock Splits</th>\n",
       "    </tr>\n",
       "    <tr>\n",
       "      <th>Date</th>\n",
       "      <th></th>\n",
       "      <th></th>\n",
       "      <th></th>\n",
       "      <th></th>\n",
       "      <th></th>\n",
       "      <th></th>\n",
       "      <th></th>\n",
       "    </tr>\n",
       "  </thead>\n",
       "  <tbody>\n",
       "    <tr>\n",
       "      <th>2023-02-02 00:00:00-03:00</th>\n",
       "      <td>9.511005</td>\n",
       "      <td>9.529895</td>\n",
       "      <td>9.340998</td>\n",
       "      <td>9.454336</td>\n",
       "      <td>1220722</td>\n",
       "      <td>0.0</td>\n",
       "      <td>0.0</td>\n",
       "    </tr>\n",
       "    <tr>\n",
       "      <th>2023-02-03 00:00:00-03:00</th>\n",
       "      <td>9.492116</td>\n",
       "      <td>9.511005</td>\n",
       "      <td>9.482671</td>\n",
       "      <td>9.511005</td>\n",
       "      <td>497765</td>\n",
       "      <td>0.0</td>\n",
       "      <td>0.0</td>\n",
       "    </tr>\n",
       "    <tr>\n",
       "      <th>2023-02-06 00:00:00-03:00</th>\n",
       "      <td>9.511005</td>\n",
       "      <td>9.529896</td>\n",
       "      <td>9.492116</td>\n",
       "      <td>9.520451</td>\n",
       "      <td>669975</td>\n",
       "      <td>0.0</td>\n",
       "      <td>0.0</td>\n",
       "    </tr>\n",
       "    <tr>\n",
       "      <th>2023-02-07 00:00:00-03:00</th>\n",
       "      <td>9.520451</td>\n",
       "      <td>9.539341</td>\n",
       "      <td>9.511005</td>\n",
       "      <td>9.511005</td>\n",
       "      <td>547180</td>\n",
       "      <td>0.0</td>\n",
       "      <td>0.0</td>\n",
       "    </tr>\n",
       "    <tr>\n",
       "      <th>2023-02-08 00:00:00-03:00</th>\n",
       "      <td>9.511006</td>\n",
       "      <td>9.548785</td>\n",
       "      <td>9.511006</td>\n",
       "      <td>9.529896</td>\n",
       "      <td>462250</td>\n",
       "      <td>0.0</td>\n",
       "      <td>0.0</td>\n",
       "    </tr>\n",
       "    <tr>\n",
       "      <th>...</th>\n",
       "      <td>...</td>\n",
       "      <td>...</td>\n",
       "      <td>...</td>\n",
       "      <td>...</td>\n",
       "      <td>...</td>\n",
       "      <td>...</td>\n",
       "      <td>...</td>\n",
       "    </tr>\n",
       "    <tr>\n",
       "      <th>2023-07-27 00:00:00-03:00</th>\n",
       "      <td>10.530000</td>\n",
       "      <td>10.600000</td>\n",
       "      <td>10.510000</td>\n",
       "      <td>10.590000</td>\n",
       "      <td>646323</td>\n",
       "      <td>0.0</td>\n",
       "      <td>0.0</td>\n",
       "    </tr>\n",
       "    <tr>\n",
       "      <th>2023-07-28 00:00:00-03:00</th>\n",
       "      <td>10.590000</td>\n",
       "      <td>10.640000</td>\n",
       "      <td>10.580000</td>\n",
       "      <td>10.610000</td>\n",
       "      <td>688091</td>\n",
       "      <td>0.0</td>\n",
       "      <td>0.0</td>\n",
       "    </tr>\n",
       "    <tr>\n",
       "      <th>2023-07-31 00:00:00-03:00</th>\n",
       "      <td>10.620000</td>\n",
       "      <td>10.720000</td>\n",
       "      <td>10.620000</td>\n",
       "      <td>10.720000</td>\n",
       "      <td>960535</td>\n",
       "      <td>0.0</td>\n",
       "      <td>0.0</td>\n",
       "    </tr>\n",
       "    <tr>\n",
       "      <th>2023-08-01 00:00:00-03:00</th>\n",
       "      <td>10.600000</td>\n",
       "      <td>10.650000</td>\n",
       "      <td>10.530000</td>\n",
       "      <td>10.630000</td>\n",
       "      <td>723070</td>\n",
       "      <td>0.0</td>\n",
       "      <td>0.0</td>\n",
       "    </tr>\n",
       "    <tr>\n",
       "      <th>2023-08-02 00:00:00-03:00</th>\n",
       "      <td>0.000000</td>\n",
       "      <td>0.000000</td>\n",
       "      <td>0.000000</td>\n",
       "      <td>10.640000</td>\n",
       "      <td>0</td>\n",
       "      <td>0.0</td>\n",
       "      <td>0.0</td>\n",
       "    </tr>\n",
       "  </tbody>\n",
       "</table>\n",
       "<p>124 rows × 7 columns</p>\n",
       "</div>"
      ],
      "text/plain": [
       "                                Open       High        Low      Close  \\\n",
       "Date                                                                    \n",
       "2023-02-02 00:00:00-03:00   9.511005   9.529895   9.340998   9.454336   \n",
       "2023-02-03 00:00:00-03:00   9.492116   9.511005   9.482671   9.511005   \n",
       "2023-02-06 00:00:00-03:00   9.511005   9.529896   9.492116   9.520451   \n",
       "2023-02-07 00:00:00-03:00   9.520451   9.539341   9.511005   9.511005   \n",
       "2023-02-08 00:00:00-03:00   9.511006   9.548785   9.511006   9.529896   \n",
       "...                              ...        ...        ...        ...   \n",
       "2023-07-27 00:00:00-03:00  10.530000  10.600000  10.510000  10.590000   \n",
       "2023-07-28 00:00:00-03:00  10.590000  10.640000  10.580000  10.610000   \n",
       "2023-07-31 00:00:00-03:00  10.620000  10.720000  10.620000  10.720000   \n",
       "2023-08-01 00:00:00-03:00  10.600000  10.650000  10.530000  10.630000   \n",
       "2023-08-02 00:00:00-03:00   0.000000   0.000000   0.000000  10.640000   \n",
       "\n",
       "                            Volume  Dividends  Stock Splits  \n",
       "Date                                                         \n",
       "2023-02-02 00:00:00-03:00  1220722        0.0           0.0  \n",
       "2023-02-03 00:00:00-03:00   497765        0.0           0.0  \n",
       "2023-02-06 00:00:00-03:00   669975        0.0           0.0  \n",
       "2023-02-07 00:00:00-03:00   547180        0.0           0.0  \n",
       "2023-02-08 00:00:00-03:00   462250        0.0           0.0  \n",
       "...                            ...        ...           ...  \n",
       "2023-07-27 00:00:00-03:00   646323        0.0           0.0  \n",
       "2023-07-28 00:00:00-03:00   688091        0.0           0.0  \n",
       "2023-07-31 00:00:00-03:00   960535        0.0           0.0  \n",
       "2023-08-01 00:00:00-03:00   723070        0.0           0.0  \n",
       "2023-08-02 00:00:00-03:00        0        0.0           0.0  \n",
       "\n",
       "[124 rows x 7 columns]"
      ]
     },
     "execution_count": 9,
     "metadata": {},
     "output_type": "execute_result"
    }
   ],
   "source": [
    "history_df"
   ]
  },
  {
   "cell_type": "code",
   "execution_count": 10,
   "id": "23486cd75b09d728",
   "metadata": {
    "ExecuteTime": {
     "end_time": "2023-08-03T01:41:47.827359751Z",
     "start_time": "2023-08-03T01:41:47.334743890Z"
    },
    "collapsed": false
   },
   "outputs": [
    {
     "data": {
      "application/vnd.plotly.v1+json": {
       "config": {
        "plotlyServerURL": "https://plot.ly"
       },
       "data": [
        {
         "hovertemplate": "Date=%{x}<br>Close=%{y}<extra></extra>",
         "legendgroup": "",
         "line": {
          "color": "#636efa",
          "dash": "solid"
         },
         "marker": {
          "symbol": "circle"
         },
         "mode": "lines",
         "name": "",
         "orientation": "v",
         "showlegend": false,
         "type": "scatter",
         "x": [
          "2023-02-02T00:00:00-03:00",
          "2023-02-03T00:00:00-03:00",
          "2023-02-06T00:00:00-03:00",
          "2023-02-07T00:00:00-03:00",
          "2023-02-08T00:00:00-03:00",
          "2023-02-09T00:00:00-03:00",
          "2023-02-10T00:00:00-03:00",
          "2023-02-13T00:00:00-03:00",
          "2023-02-14T00:00:00-03:00",
          "2023-02-15T00:00:00-03:00",
          "2023-02-16T00:00:00-03:00",
          "2023-02-17T00:00:00-03:00",
          "2023-02-22T00:00:00-03:00",
          "2023-02-23T00:00:00-03:00",
          "2023-02-24T00:00:00-03:00",
          "2023-02-27T00:00:00-03:00",
          "2023-02-28T00:00:00-03:00",
          "2023-03-01T00:00:00-03:00",
          "2023-03-02T00:00:00-03:00",
          "2023-03-03T00:00:00-03:00",
          "2023-03-06T00:00:00-03:00",
          "2023-03-07T00:00:00-03:00",
          "2023-03-08T00:00:00-03:00",
          "2023-03-09T00:00:00-03:00",
          "2023-03-10T00:00:00-03:00",
          "2023-03-13T00:00:00-03:00",
          "2023-03-14T00:00:00-03:00",
          "2023-03-15T00:00:00-03:00",
          "2023-03-16T00:00:00-03:00",
          "2023-03-17T00:00:00-03:00",
          "2023-03-20T00:00:00-03:00",
          "2023-03-21T00:00:00-03:00",
          "2023-03-22T00:00:00-03:00",
          "2023-03-23T00:00:00-03:00",
          "2023-03-24T00:00:00-03:00",
          "2023-03-27T00:00:00-03:00",
          "2023-03-28T00:00:00-03:00",
          "2023-03-29T00:00:00-03:00",
          "2023-03-30T00:00:00-03:00",
          "2023-03-31T00:00:00-03:00",
          "2023-04-03T00:00:00-03:00",
          "2023-04-04T00:00:00-03:00",
          "2023-04-05T00:00:00-03:00",
          "2023-04-06T00:00:00-03:00",
          "2023-04-10T00:00:00-03:00",
          "2023-04-11T00:00:00-03:00",
          "2023-04-12T00:00:00-03:00",
          "2023-04-13T00:00:00-03:00",
          "2023-04-14T00:00:00-03:00",
          "2023-04-17T00:00:00-03:00",
          "2023-04-18T00:00:00-03:00",
          "2023-04-19T00:00:00-03:00",
          "2023-04-20T00:00:00-03:00",
          "2023-04-24T00:00:00-03:00",
          "2023-04-25T00:00:00-03:00",
          "2023-04-26T00:00:00-03:00",
          "2023-04-27T00:00:00-03:00",
          "2023-04-28T00:00:00-03:00",
          "2023-05-02T00:00:00-03:00",
          "2023-05-03T00:00:00-03:00",
          "2023-05-04T00:00:00-03:00",
          "2023-05-05T00:00:00-03:00",
          "2023-05-08T00:00:00-03:00",
          "2023-05-09T00:00:00-03:00",
          "2023-05-10T00:00:00-03:00",
          "2023-05-11T00:00:00-03:00",
          "2023-05-12T00:00:00-03:00",
          "2023-05-15T00:00:00-03:00",
          "2023-05-16T00:00:00-03:00",
          "2023-05-17T00:00:00-03:00",
          "2023-05-18T00:00:00-03:00",
          "2023-05-19T00:00:00-03:00",
          "2023-05-22T00:00:00-03:00",
          "2023-05-23T00:00:00-03:00",
          "2023-05-24T00:00:00-03:00",
          "2023-05-25T00:00:00-03:00",
          "2023-05-26T00:00:00-03:00",
          "2023-05-29T00:00:00-03:00",
          "2023-05-30T00:00:00-03:00",
          "2023-05-31T00:00:00-03:00",
          "2023-06-01T00:00:00-03:00",
          "2023-06-02T00:00:00-03:00",
          "2023-06-05T00:00:00-03:00",
          "2023-06-06T00:00:00-03:00",
          "2023-06-07T00:00:00-03:00",
          "2023-06-09T00:00:00-03:00",
          "2023-06-12T00:00:00-03:00",
          "2023-06-13T00:00:00-03:00",
          "2023-06-14T00:00:00-03:00",
          "2023-06-15T00:00:00-03:00",
          "2023-06-16T00:00:00-03:00",
          "2023-06-19T00:00:00-03:00",
          "2023-06-20T00:00:00-03:00",
          "2023-06-21T00:00:00-03:00",
          "2023-06-22T00:00:00-03:00",
          "2023-06-23T00:00:00-03:00",
          "2023-06-26T00:00:00-03:00",
          "2023-06-27T00:00:00-03:00",
          "2023-06-28T00:00:00-03:00",
          "2023-06-29T00:00:00-03:00",
          "2023-06-30T00:00:00-03:00",
          "2023-07-03T00:00:00-03:00",
          "2023-07-04T00:00:00-03:00",
          "2023-07-05T00:00:00-03:00",
          "2023-07-06T00:00:00-03:00",
          "2023-07-07T00:00:00-03:00",
          "2023-07-10T00:00:00-03:00",
          "2023-07-11T00:00:00-03:00",
          "2023-07-12T00:00:00-03:00",
          "2023-07-13T00:00:00-03:00",
          "2023-07-14T00:00:00-03:00",
          "2023-07-17T00:00:00-03:00",
          "2023-07-18T00:00:00-03:00",
          "2023-07-19T00:00:00-03:00",
          "2023-07-20T00:00:00-03:00",
          "2023-07-21T00:00:00-03:00",
          "2023-07-24T00:00:00-03:00",
          "2023-07-25T00:00:00-03:00",
          "2023-07-26T00:00:00-03:00",
          "2023-07-27T00:00:00-03:00",
          "2023-07-28T00:00:00-03:00",
          "2023-07-31T00:00:00-03:00",
          "2023-08-01T00:00:00-03:00",
          "2023-08-02T00:00:00-03:00"
         ],
         "xaxis": "x",
         "y": [
          9.454336166381836,
          9.511005401611328,
          9.520450592041016,
          9.511005401611328,
          9.529895782470703,
          9.520450592041016,
          9.529895782470703,
          9.539340019226074,
          9.55823040008545,
          9.55823040008545,
          9.55823040008545,
          9.586565017700195,
          9.577119827270508,
          9.60545539855957,
          9.624343872070312,
          9.624343872070312,
          9.662123680114746,
          9.738578796386719,
          9.729022026062012,
          9.78636360168457,
          9.767251014709473,
          9.795921325683594,
          9.78636360168457,
          9.78636360168457,
          9.81503677368164,
          9.795921325683594,
          9.824592590332031,
          9.824592590332031,
          9.824592590332031,
          9.795921325683594,
          9.834149360656738,
          9.824592590332031,
          9.862820625305176,
          9.853263854980469,
          9.881935119628906,
          9.901047706604004,
          9.805479049682617,
          9.862820625305176,
          9.862820625305176,
          9.92016315460205,
          9.939499855041504,
          9.968506813049316,
          10.007182121276855,
          10.007182121276855,
          9.958837509155273,
          9.997512817382812,
          9.98784351348877,
          9.997512817382812,
          10.007182121276855,
          9.997512817382812,
          10.026518821716309,
          10.036188125610352,
          10.045857429504395,
          10.045857429504395,
          10.065193176269531,
          10.10386848449707,
          10.12320613861084,
          10.219894409179688,
          10.249234199523926,
          10.268794059753418,
          10.249234199523926,
          10.28835391998291,
          10.307912826538086,
          10.347031593322754,
          10.356812477111816,
          10.395931243896484,
          10.395931243896484,
          10.47416877746582,
          10.483949661254883,
          10.503508567810059,
          10.483949661254883,
          10.493728637695312,
          10.47416877746582,
          10.47416877746582,
          10.259013175964355,
          10.366591453552246,
          10.28835391998291,
          10.41549015045166,
          10.366591453552246,
          10.47416877746582,
          10.473413467407227,
          10.48330307006836,
          10.542642593383789,
          10.572311401367188,
          10.59209156036377,
          10.59209156036377,
          10.582201957702637,
          10.59209156036377,
          10.59209156036377,
          10.700881004333496,
          10.770111083984375,
          10.84922981262207,
          10.632635116577148,
          10.612982749938965,
          10.534367561340332,
          10.593328475952148,
          10.573674201965332,
          10.554020881652832,
          10.601982116699219,
          10.621761322021484,
          10.779999732971191,
          10.649999618530273,
          10.670000076293945,
          10.680000305175781,
          10.680000305175781,
          10.710000038146973,
          10.670000076293945,
          10.680000305175781,
          10.6899995803833,
          10.609999656677246,
          10.649999618530273,
          10.649999618530273,
          10.630000114440918,
          10.640000343322754,
          10.59000015258789,
          10.5600004196167,
          10.470000267028809,
          10.4399995803833,
          10.520000457763672,
          10.59000015258789,
          10.609999656677246,
          10.720000267028809,
          10.630000114440918,
          10.640000343322754
         ],
         "yaxis": "y"
        }
       ],
       "layout": {
        "legend": {
         "tracegroupgap": 0
        },
        "margin": {
         "t": 60
        },
        "template": {
         "data": {
          "bar": [
           {
            "error_x": {
             "color": "#2a3f5f"
            },
            "error_y": {
             "color": "#2a3f5f"
            },
            "marker": {
             "line": {
              "color": "#E5ECF6",
              "width": 0.5
             },
             "pattern": {
              "fillmode": "overlay",
              "size": 10,
              "solidity": 0.2
             }
            },
            "type": "bar"
           }
          ],
          "barpolar": [
           {
            "marker": {
             "line": {
              "color": "#E5ECF6",
              "width": 0.5
             },
             "pattern": {
              "fillmode": "overlay",
              "size": 10,
              "solidity": 0.2
             }
            },
            "type": "barpolar"
           }
          ],
          "carpet": [
           {
            "aaxis": {
             "endlinecolor": "#2a3f5f",
             "gridcolor": "white",
             "linecolor": "white",
             "minorgridcolor": "white",
             "startlinecolor": "#2a3f5f"
            },
            "baxis": {
             "endlinecolor": "#2a3f5f",
             "gridcolor": "white",
             "linecolor": "white",
             "minorgridcolor": "white",
             "startlinecolor": "#2a3f5f"
            },
            "type": "carpet"
           }
          ],
          "choropleth": [
           {
            "colorbar": {
             "outlinewidth": 0,
             "ticks": ""
            },
            "type": "choropleth"
           }
          ],
          "contour": [
           {
            "colorbar": {
             "outlinewidth": 0,
             "ticks": ""
            },
            "colorscale": [
             [
              0,
              "#0d0887"
             ],
             [
              0.1111111111111111,
              "#46039f"
             ],
             [
              0.2222222222222222,
              "#7201a8"
             ],
             [
              0.3333333333333333,
              "#9c179e"
             ],
             [
              0.4444444444444444,
              "#bd3786"
             ],
             [
              0.5555555555555556,
              "#d8576b"
             ],
             [
              0.6666666666666666,
              "#ed7953"
             ],
             [
              0.7777777777777778,
              "#fb9f3a"
             ],
             [
              0.8888888888888888,
              "#fdca26"
             ],
             [
              1,
              "#f0f921"
             ]
            ],
            "type": "contour"
           }
          ],
          "contourcarpet": [
           {
            "colorbar": {
             "outlinewidth": 0,
             "ticks": ""
            },
            "type": "contourcarpet"
           }
          ],
          "heatmap": [
           {
            "colorbar": {
             "outlinewidth": 0,
             "ticks": ""
            },
            "colorscale": [
             [
              0,
              "#0d0887"
             ],
             [
              0.1111111111111111,
              "#46039f"
             ],
             [
              0.2222222222222222,
              "#7201a8"
             ],
             [
              0.3333333333333333,
              "#9c179e"
             ],
             [
              0.4444444444444444,
              "#bd3786"
             ],
             [
              0.5555555555555556,
              "#d8576b"
             ],
             [
              0.6666666666666666,
              "#ed7953"
             ],
             [
              0.7777777777777778,
              "#fb9f3a"
             ],
             [
              0.8888888888888888,
              "#fdca26"
             ],
             [
              1,
              "#f0f921"
             ]
            ],
            "type": "heatmap"
           }
          ],
          "heatmapgl": [
           {
            "colorbar": {
             "outlinewidth": 0,
             "ticks": ""
            },
            "colorscale": [
             [
              0,
              "#0d0887"
             ],
             [
              0.1111111111111111,
              "#46039f"
             ],
             [
              0.2222222222222222,
              "#7201a8"
             ],
             [
              0.3333333333333333,
              "#9c179e"
             ],
             [
              0.4444444444444444,
              "#bd3786"
             ],
             [
              0.5555555555555556,
              "#d8576b"
             ],
             [
              0.6666666666666666,
              "#ed7953"
             ],
             [
              0.7777777777777778,
              "#fb9f3a"
             ],
             [
              0.8888888888888888,
              "#fdca26"
             ],
             [
              1,
              "#f0f921"
             ]
            ],
            "type": "heatmapgl"
           }
          ],
          "histogram": [
           {
            "marker": {
             "pattern": {
              "fillmode": "overlay",
              "size": 10,
              "solidity": 0.2
             }
            },
            "type": "histogram"
           }
          ],
          "histogram2d": [
           {
            "colorbar": {
             "outlinewidth": 0,
             "ticks": ""
            },
            "colorscale": [
             [
              0,
              "#0d0887"
             ],
             [
              0.1111111111111111,
              "#46039f"
             ],
             [
              0.2222222222222222,
              "#7201a8"
             ],
             [
              0.3333333333333333,
              "#9c179e"
             ],
             [
              0.4444444444444444,
              "#bd3786"
             ],
             [
              0.5555555555555556,
              "#d8576b"
             ],
             [
              0.6666666666666666,
              "#ed7953"
             ],
             [
              0.7777777777777778,
              "#fb9f3a"
             ],
             [
              0.8888888888888888,
              "#fdca26"
             ],
             [
              1,
              "#f0f921"
             ]
            ],
            "type": "histogram2d"
           }
          ],
          "histogram2dcontour": [
           {
            "colorbar": {
             "outlinewidth": 0,
             "ticks": ""
            },
            "colorscale": [
             [
              0,
              "#0d0887"
             ],
             [
              0.1111111111111111,
              "#46039f"
             ],
             [
              0.2222222222222222,
              "#7201a8"
             ],
             [
              0.3333333333333333,
              "#9c179e"
             ],
             [
              0.4444444444444444,
              "#bd3786"
             ],
             [
              0.5555555555555556,
              "#d8576b"
             ],
             [
              0.6666666666666666,
              "#ed7953"
             ],
             [
              0.7777777777777778,
              "#fb9f3a"
             ],
             [
              0.8888888888888888,
              "#fdca26"
             ],
             [
              1,
              "#f0f921"
             ]
            ],
            "type": "histogram2dcontour"
           }
          ],
          "mesh3d": [
           {
            "colorbar": {
             "outlinewidth": 0,
             "ticks": ""
            },
            "type": "mesh3d"
           }
          ],
          "parcoords": [
           {
            "line": {
             "colorbar": {
              "outlinewidth": 0,
              "ticks": ""
             }
            },
            "type": "parcoords"
           }
          ],
          "pie": [
           {
            "automargin": true,
            "type": "pie"
           }
          ],
          "scatter": [
           {
            "fillpattern": {
             "fillmode": "overlay",
             "size": 10,
             "solidity": 0.2
            },
            "type": "scatter"
           }
          ],
          "scatter3d": [
           {
            "line": {
             "colorbar": {
              "outlinewidth": 0,
              "ticks": ""
             }
            },
            "marker": {
             "colorbar": {
              "outlinewidth": 0,
              "ticks": ""
             }
            },
            "type": "scatter3d"
           }
          ],
          "scattercarpet": [
           {
            "marker": {
             "colorbar": {
              "outlinewidth": 0,
              "ticks": ""
             }
            },
            "type": "scattercarpet"
           }
          ],
          "scattergeo": [
           {
            "marker": {
             "colorbar": {
              "outlinewidth": 0,
              "ticks": ""
             }
            },
            "type": "scattergeo"
           }
          ],
          "scattergl": [
           {
            "marker": {
             "colorbar": {
              "outlinewidth": 0,
              "ticks": ""
             }
            },
            "type": "scattergl"
           }
          ],
          "scattermapbox": [
           {
            "marker": {
             "colorbar": {
              "outlinewidth": 0,
              "ticks": ""
             }
            },
            "type": "scattermapbox"
           }
          ],
          "scatterpolar": [
           {
            "marker": {
             "colorbar": {
              "outlinewidth": 0,
              "ticks": ""
             }
            },
            "type": "scatterpolar"
           }
          ],
          "scatterpolargl": [
           {
            "marker": {
             "colorbar": {
              "outlinewidth": 0,
              "ticks": ""
             }
            },
            "type": "scatterpolargl"
           }
          ],
          "scatterternary": [
           {
            "marker": {
             "colorbar": {
              "outlinewidth": 0,
              "ticks": ""
             }
            },
            "type": "scatterternary"
           }
          ],
          "surface": [
           {
            "colorbar": {
             "outlinewidth": 0,
             "ticks": ""
            },
            "colorscale": [
             [
              0,
              "#0d0887"
             ],
             [
              0.1111111111111111,
              "#46039f"
             ],
             [
              0.2222222222222222,
              "#7201a8"
             ],
             [
              0.3333333333333333,
              "#9c179e"
             ],
             [
              0.4444444444444444,
              "#bd3786"
             ],
             [
              0.5555555555555556,
              "#d8576b"
             ],
             [
              0.6666666666666666,
              "#ed7953"
             ],
             [
              0.7777777777777778,
              "#fb9f3a"
             ],
             [
              0.8888888888888888,
              "#fdca26"
             ],
             [
              1,
              "#f0f921"
             ]
            ],
            "type": "surface"
           }
          ],
          "table": [
           {
            "cells": {
             "fill": {
              "color": "#EBF0F8"
             },
             "line": {
              "color": "white"
             }
            },
            "header": {
             "fill": {
              "color": "#C8D4E3"
             },
             "line": {
              "color": "white"
             }
            },
            "type": "table"
           }
          ]
         },
         "layout": {
          "annotationdefaults": {
           "arrowcolor": "#2a3f5f",
           "arrowhead": 0,
           "arrowwidth": 1
          },
          "autotypenumbers": "strict",
          "coloraxis": {
           "colorbar": {
            "outlinewidth": 0,
            "ticks": ""
           }
          },
          "colorscale": {
           "diverging": [
            [
             0,
             "#8e0152"
            ],
            [
             0.1,
             "#c51b7d"
            ],
            [
             0.2,
             "#de77ae"
            ],
            [
             0.3,
             "#f1b6da"
            ],
            [
             0.4,
             "#fde0ef"
            ],
            [
             0.5,
             "#f7f7f7"
            ],
            [
             0.6,
             "#e6f5d0"
            ],
            [
             0.7,
             "#b8e186"
            ],
            [
             0.8,
             "#7fbc41"
            ],
            [
             0.9,
             "#4d9221"
            ],
            [
             1,
             "#276419"
            ]
           ],
           "sequential": [
            [
             0,
             "#0d0887"
            ],
            [
             0.1111111111111111,
             "#46039f"
            ],
            [
             0.2222222222222222,
             "#7201a8"
            ],
            [
             0.3333333333333333,
             "#9c179e"
            ],
            [
             0.4444444444444444,
             "#bd3786"
            ],
            [
             0.5555555555555556,
             "#d8576b"
            ],
            [
             0.6666666666666666,
             "#ed7953"
            ],
            [
             0.7777777777777778,
             "#fb9f3a"
            ],
            [
             0.8888888888888888,
             "#fdca26"
            ],
            [
             1,
             "#f0f921"
            ]
           ],
           "sequentialminus": [
            [
             0,
             "#0d0887"
            ],
            [
             0.1111111111111111,
             "#46039f"
            ],
            [
             0.2222222222222222,
             "#7201a8"
            ],
            [
             0.3333333333333333,
             "#9c179e"
            ],
            [
             0.4444444444444444,
             "#bd3786"
            ],
            [
             0.5555555555555556,
             "#d8576b"
            ],
            [
             0.6666666666666666,
             "#ed7953"
            ],
            [
             0.7777777777777778,
             "#fb9f3a"
            ],
            [
             0.8888888888888888,
             "#fdca26"
            ],
            [
             1,
             "#f0f921"
            ]
           ]
          },
          "colorway": [
           "#636efa",
           "#EF553B",
           "#00cc96",
           "#ab63fa",
           "#FFA15A",
           "#19d3f3",
           "#FF6692",
           "#B6E880",
           "#FF97FF",
           "#FECB52"
          ],
          "font": {
           "color": "#2a3f5f"
          },
          "geo": {
           "bgcolor": "white",
           "lakecolor": "white",
           "landcolor": "#E5ECF6",
           "showlakes": true,
           "showland": true,
           "subunitcolor": "white"
          },
          "hoverlabel": {
           "align": "left"
          },
          "hovermode": "closest",
          "mapbox": {
           "style": "light"
          },
          "paper_bgcolor": "white",
          "plot_bgcolor": "#E5ECF6",
          "polar": {
           "angularaxis": {
            "gridcolor": "white",
            "linecolor": "white",
            "ticks": ""
           },
           "bgcolor": "#E5ECF6",
           "radialaxis": {
            "gridcolor": "white",
            "linecolor": "white",
            "ticks": ""
           }
          },
          "scene": {
           "xaxis": {
            "backgroundcolor": "#E5ECF6",
            "gridcolor": "white",
            "gridwidth": 2,
            "linecolor": "white",
            "showbackground": true,
            "ticks": "",
            "zerolinecolor": "white"
           },
           "yaxis": {
            "backgroundcolor": "#E5ECF6",
            "gridcolor": "white",
            "gridwidth": 2,
            "linecolor": "white",
            "showbackground": true,
            "ticks": "",
            "zerolinecolor": "white"
           },
           "zaxis": {
            "backgroundcolor": "#E5ECF6",
            "gridcolor": "white",
            "gridwidth": 2,
            "linecolor": "white",
            "showbackground": true,
            "ticks": "",
            "zerolinecolor": "white"
           }
          },
          "shapedefaults": {
           "line": {
            "color": "#2a3f5f"
           }
          },
          "ternary": {
           "aaxis": {
            "gridcolor": "white",
            "linecolor": "white",
            "ticks": ""
           },
           "baxis": {
            "gridcolor": "white",
            "linecolor": "white",
            "ticks": ""
           },
           "bgcolor": "#E5ECF6",
           "caxis": {
            "gridcolor": "white",
            "linecolor": "white",
            "ticks": ""
           }
          },
          "title": {
           "x": 0.05
          },
          "xaxis": {
           "automargin": true,
           "gridcolor": "white",
           "linecolor": "white",
           "ticks": "",
           "title": {
            "standoff": 15
           },
           "zerolinecolor": "white",
           "zerolinewidth": 2
          },
          "yaxis": {
           "automargin": true,
           "gridcolor": "white",
           "linecolor": "white",
           "ticks": "",
           "title": {
            "standoff": 15
           },
           "zerolinecolor": "white",
           "zerolinewidth": 2
          }
         }
        },
        "xaxis": {
         "anchor": "y",
         "domain": [
          0,
          1
         ],
         "title": {
          "text": "Date"
         }
        },
        "yaxis": {
         "anchor": "x",
         "domain": [
          0,
          1
         ],
         "title": {
          "text": "Close"
         }
        }
       }
      }
     },
     "metadata": {},
     "output_type": "display_data"
    }
   ],
   "source": [
    "px.line(history_df, x=history_df.index, y=history_df.Close)"
   ]
  },
  {
   "cell_type": "code",
   "execution_count": 11,
   "id": "88190d00df2596ad",
   "metadata": {
    "ExecuteTime": {
     "end_time": "2023-08-03T01:41:47.955766466Z",
     "start_time": "2023-08-03T01:41:47.627087781Z"
    },
    "collapsed": false
   },
   "outputs": [
    {
     "data": {
      "application/vnd.plotly.v1+json": {
       "config": {
        "plotlyServerURL": "https://plot.ly"
       },
       "data": [
        {
         "alignmentgroup": "True",
         "hovertemplate": "x=%{x}<br>y=%{y}<extra></extra>",
         "legendgroup": "",
         "marker": {
          "color": "#636efa",
          "pattern": {
           "shape": ""
          }
         },
         "name": "",
         "offsetgroup": "",
         "orientation": "v",
         "showlegend": false,
         "textposition": "auto",
         "type": "bar",
         "x": [
          "2023-03-01T00:00:00-03:00",
          "2023-04-03T00:00:00-03:00",
          "2023-05-02T00:00:00-03:00",
          "2023-06-01T00:00:00-03:00",
          "2023-07-03T00:00:00-03:00"
         ],
         "xaxis": "x",
         "y": [
          9.738578796386719,
          9.939499855041504,
          10.249234199523926,
          10.473413467407227,
          10.649999618530273
         ],
         "yaxis": "y"
        }
       ],
       "layout": {
        "barmode": "relative",
        "legend": {
         "tracegroupgap": 0
        },
        "margin": {
         "t": 60
        },
        "template": {
         "data": {
          "bar": [
           {
            "error_x": {
             "color": "#2a3f5f"
            },
            "error_y": {
             "color": "#2a3f5f"
            },
            "marker": {
             "line": {
              "color": "#E5ECF6",
              "width": 0.5
             },
             "pattern": {
              "fillmode": "overlay",
              "size": 10,
              "solidity": 0.2
             }
            },
            "type": "bar"
           }
          ],
          "barpolar": [
           {
            "marker": {
             "line": {
              "color": "#E5ECF6",
              "width": 0.5
             },
             "pattern": {
              "fillmode": "overlay",
              "size": 10,
              "solidity": 0.2
             }
            },
            "type": "barpolar"
           }
          ],
          "carpet": [
           {
            "aaxis": {
             "endlinecolor": "#2a3f5f",
             "gridcolor": "white",
             "linecolor": "white",
             "minorgridcolor": "white",
             "startlinecolor": "#2a3f5f"
            },
            "baxis": {
             "endlinecolor": "#2a3f5f",
             "gridcolor": "white",
             "linecolor": "white",
             "minorgridcolor": "white",
             "startlinecolor": "#2a3f5f"
            },
            "type": "carpet"
           }
          ],
          "choropleth": [
           {
            "colorbar": {
             "outlinewidth": 0,
             "ticks": ""
            },
            "type": "choropleth"
           }
          ],
          "contour": [
           {
            "colorbar": {
             "outlinewidth": 0,
             "ticks": ""
            },
            "colorscale": [
             [
              0,
              "#0d0887"
             ],
             [
              0.1111111111111111,
              "#46039f"
             ],
             [
              0.2222222222222222,
              "#7201a8"
             ],
             [
              0.3333333333333333,
              "#9c179e"
             ],
             [
              0.4444444444444444,
              "#bd3786"
             ],
             [
              0.5555555555555556,
              "#d8576b"
             ],
             [
              0.6666666666666666,
              "#ed7953"
             ],
             [
              0.7777777777777778,
              "#fb9f3a"
             ],
             [
              0.8888888888888888,
              "#fdca26"
             ],
             [
              1,
              "#f0f921"
             ]
            ],
            "type": "contour"
           }
          ],
          "contourcarpet": [
           {
            "colorbar": {
             "outlinewidth": 0,
             "ticks": ""
            },
            "type": "contourcarpet"
           }
          ],
          "heatmap": [
           {
            "colorbar": {
             "outlinewidth": 0,
             "ticks": ""
            },
            "colorscale": [
             [
              0,
              "#0d0887"
             ],
             [
              0.1111111111111111,
              "#46039f"
             ],
             [
              0.2222222222222222,
              "#7201a8"
             ],
             [
              0.3333333333333333,
              "#9c179e"
             ],
             [
              0.4444444444444444,
              "#bd3786"
             ],
             [
              0.5555555555555556,
              "#d8576b"
             ],
             [
              0.6666666666666666,
              "#ed7953"
             ],
             [
              0.7777777777777778,
              "#fb9f3a"
             ],
             [
              0.8888888888888888,
              "#fdca26"
             ],
             [
              1,
              "#f0f921"
             ]
            ],
            "type": "heatmap"
           }
          ],
          "heatmapgl": [
           {
            "colorbar": {
             "outlinewidth": 0,
             "ticks": ""
            },
            "colorscale": [
             [
              0,
              "#0d0887"
             ],
             [
              0.1111111111111111,
              "#46039f"
             ],
             [
              0.2222222222222222,
              "#7201a8"
             ],
             [
              0.3333333333333333,
              "#9c179e"
             ],
             [
              0.4444444444444444,
              "#bd3786"
             ],
             [
              0.5555555555555556,
              "#d8576b"
             ],
             [
              0.6666666666666666,
              "#ed7953"
             ],
             [
              0.7777777777777778,
              "#fb9f3a"
             ],
             [
              0.8888888888888888,
              "#fdca26"
             ],
             [
              1,
              "#f0f921"
             ]
            ],
            "type": "heatmapgl"
           }
          ],
          "histogram": [
           {
            "marker": {
             "pattern": {
              "fillmode": "overlay",
              "size": 10,
              "solidity": 0.2
             }
            },
            "type": "histogram"
           }
          ],
          "histogram2d": [
           {
            "colorbar": {
             "outlinewidth": 0,
             "ticks": ""
            },
            "colorscale": [
             [
              0,
              "#0d0887"
             ],
             [
              0.1111111111111111,
              "#46039f"
             ],
             [
              0.2222222222222222,
              "#7201a8"
             ],
             [
              0.3333333333333333,
              "#9c179e"
             ],
             [
              0.4444444444444444,
              "#bd3786"
             ],
             [
              0.5555555555555556,
              "#d8576b"
             ],
             [
              0.6666666666666666,
              "#ed7953"
             ],
             [
              0.7777777777777778,
              "#fb9f3a"
             ],
             [
              0.8888888888888888,
              "#fdca26"
             ],
             [
              1,
              "#f0f921"
             ]
            ],
            "type": "histogram2d"
           }
          ],
          "histogram2dcontour": [
           {
            "colorbar": {
             "outlinewidth": 0,
             "ticks": ""
            },
            "colorscale": [
             [
              0,
              "#0d0887"
             ],
             [
              0.1111111111111111,
              "#46039f"
             ],
             [
              0.2222222222222222,
              "#7201a8"
             ],
             [
              0.3333333333333333,
              "#9c179e"
             ],
             [
              0.4444444444444444,
              "#bd3786"
             ],
             [
              0.5555555555555556,
              "#d8576b"
             ],
             [
              0.6666666666666666,
              "#ed7953"
             ],
             [
              0.7777777777777778,
              "#fb9f3a"
             ],
             [
              0.8888888888888888,
              "#fdca26"
             ],
             [
              1,
              "#f0f921"
             ]
            ],
            "type": "histogram2dcontour"
           }
          ],
          "mesh3d": [
           {
            "colorbar": {
             "outlinewidth": 0,
             "ticks": ""
            },
            "type": "mesh3d"
           }
          ],
          "parcoords": [
           {
            "line": {
             "colorbar": {
              "outlinewidth": 0,
              "ticks": ""
             }
            },
            "type": "parcoords"
           }
          ],
          "pie": [
           {
            "automargin": true,
            "type": "pie"
           }
          ],
          "scatter": [
           {
            "fillpattern": {
             "fillmode": "overlay",
             "size": 10,
             "solidity": 0.2
            },
            "type": "scatter"
           }
          ],
          "scatter3d": [
           {
            "line": {
             "colorbar": {
              "outlinewidth": 0,
              "ticks": ""
             }
            },
            "marker": {
             "colorbar": {
              "outlinewidth": 0,
              "ticks": ""
             }
            },
            "type": "scatter3d"
           }
          ],
          "scattercarpet": [
           {
            "marker": {
             "colorbar": {
              "outlinewidth": 0,
              "ticks": ""
             }
            },
            "type": "scattercarpet"
           }
          ],
          "scattergeo": [
           {
            "marker": {
             "colorbar": {
              "outlinewidth": 0,
              "ticks": ""
             }
            },
            "type": "scattergeo"
           }
          ],
          "scattergl": [
           {
            "marker": {
             "colorbar": {
              "outlinewidth": 0,
              "ticks": ""
             }
            },
            "type": "scattergl"
           }
          ],
          "scattermapbox": [
           {
            "marker": {
             "colorbar": {
              "outlinewidth": 0,
              "ticks": ""
             }
            },
            "type": "scattermapbox"
           }
          ],
          "scatterpolar": [
           {
            "marker": {
             "colorbar": {
              "outlinewidth": 0,
              "ticks": ""
             }
            },
            "type": "scatterpolar"
           }
          ],
          "scatterpolargl": [
           {
            "marker": {
             "colorbar": {
              "outlinewidth": 0,
              "ticks": ""
             }
            },
            "type": "scatterpolargl"
           }
          ],
          "scatterternary": [
           {
            "marker": {
             "colorbar": {
              "outlinewidth": 0,
              "ticks": ""
             }
            },
            "type": "scatterternary"
           }
          ],
          "surface": [
           {
            "colorbar": {
             "outlinewidth": 0,
             "ticks": ""
            },
            "colorscale": [
             [
              0,
              "#0d0887"
             ],
             [
              0.1111111111111111,
              "#46039f"
             ],
             [
              0.2222222222222222,
              "#7201a8"
             ],
             [
              0.3333333333333333,
              "#9c179e"
             ],
             [
              0.4444444444444444,
              "#bd3786"
             ],
             [
              0.5555555555555556,
              "#d8576b"
             ],
             [
              0.6666666666666666,
              "#ed7953"
             ],
             [
              0.7777777777777778,
              "#fb9f3a"
             ],
             [
              0.8888888888888888,
              "#fdca26"
             ],
             [
              1,
              "#f0f921"
             ]
            ],
            "type": "surface"
           }
          ],
          "table": [
           {
            "cells": {
             "fill": {
              "color": "#EBF0F8"
             },
             "line": {
              "color": "white"
             }
            },
            "header": {
             "fill": {
              "color": "#C8D4E3"
             },
             "line": {
              "color": "white"
             }
            },
            "type": "table"
           }
          ]
         },
         "layout": {
          "annotationdefaults": {
           "arrowcolor": "#2a3f5f",
           "arrowhead": 0,
           "arrowwidth": 1
          },
          "autotypenumbers": "strict",
          "coloraxis": {
           "colorbar": {
            "outlinewidth": 0,
            "ticks": ""
           }
          },
          "colorscale": {
           "diverging": [
            [
             0,
             "#8e0152"
            ],
            [
             0.1,
             "#c51b7d"
            ],
            [
             0.2,
             "#de77ae"
            ],
            [
             0.3,
             "#f1b6da"
            ],
            [
             0.4,
             "#fde0ef"
            ],
            [
             0.5,
             "#f7f7f7"
            ],
            [
             0.6,
             "#e6f5d0"
            ],
            [
             0.7,
             "#b8e186"
            ],
            [
             0.8,
             "#7fbc41"
            ],
            [
             0.9,
             "#4d9221"
            ],
            [
             1,
             "#276419"
            ]
           ],
           "sequential": [
            [
             0,
             "#0d0887"
            ],
            [
             0.1111111111111111,
             "#46039f"
            ],
            [
             0.2222222222222222,
             "#7201a8"
            ],
            [
             0.3333333333333333,
             "#9c179e"
            ],
            [
             0.4444444444444444,
             "#bd3786"
            ],
            [
             0.5555555555555556,
             "#d8576b"
            ],
            [
             0.6666666666666666,
             "#ed7953"
            ],
            [
             0.7777777777777778,
             "#fb9f3a"
            ],
            [
             0.8888888888888888,
             "#fdca26"
            ],
            [
             1,
             "#f0f921"
            ]
           ],
           "sequentialminus": [
            [
             0,
             "#0d0887"
            ],
            [
             0.1111111111111111,
             "#46039f"
            ],
            [
             0.2222222222222222,
             "#7201a8"
            ],
            [
             0.3333333333333333,
             "#9c179e"
            ],
            [
             0.4444444444444444,
             "#bd3786"
            ],
            [
             0.5555555555555556,
             "#d8576b"
            ],
            [
             0.6666666666666666,
             "#ed7953"
            ],
            [
             0.7777777777777778,
             "#fb9f3a"
            ],
            [
             0.8888888888888888,
             "#fdca26"
            ],
            [
             1,
             "#f0f921"
            ]
           ]
          },
          "colorway": [
           "#636efa",
           "#EF553B",
           "#00cc96",
           "#ab63fa",
           "#FFA15A",
           "#19d3f3",
           "#FF6692",
           "#B6E880",
           "#FF97FF",
           "#FECB52"
          ],
          "font": {
           "color": "#2a3f5f"
          },
          "geo": {
           "bgcolor": "white",
           "lakecolor": "white",
           "landcolor": "#E5ECF6",
           "showlakes": true,
           "showland": true,
           "subunitcolor": "white"
          },
          "hoverlabel": {
           "align": "left"
          },
          "hovermode": "closest",
          "mapbox": {
           "style": "light"
          },
          "paper_bgcolor": "white",
          "plot_bgcolor": "#E5ECF6",
          "polar": {
           "angularaxis": {
            "gridcolor": "white",
            "linecolor": "white",
            "ticks": ""
           },
           "bgcolor": "#E5ECF6",
           "radialaxis": {
            "gridcolor": "white",
            "linecolor": "white",
            "ticks": ""
           }
          },
          "scene": {
           "xaxis": {
            "backgroundcolor": "#E5ECF6",
            "gridcolor": "white",
            "gridwidth": 2,
            "linecolor": "white",
            "showbackground": true,
            "ticks": "",
            "zerolinecolor": "white"
           },
           "yaxis": {
            "backgroundcolor": "#E5ECF6",
            "gridcolor": "white",
            "gridwidth": 2,
            "linecolor": "white",
            "showbackground": true,
            "ticks": "",
            "zerolinecolor": "white"
           },
           "zaxis": {
            "backgroundcolor": "#E5ECF6",
            "gridcolor": "white",
            "gridwidth": 2,
            "linecolor": "white",
            "showbackground": true,
            "ticks": "",
            "zerolinecolor": "white"
           }
          },
          "shapedefaults": {
           "line": {
            "color": "#2a3f5f"
           }
          },
          "ternary": {
           "aaxis": {
            "gridcolor": "white",
            "linecolor": "white",
            "ticks": ""
           },
           "baxis": {
            "gridcolor": "white",
            "linecolor": "white",
            "ticks": ""
           },
           "bgcolor": "#E5ECF6",
           "caxis": {
            "gridcolor": "white",
            "linecolor": "white",
            "ticks": ""
           }
          },
          "title": {
           "x": 0.05
          },
          "xaxis": {
           "automargin": true,
           "gridcolor": "white",
           "linecolor": "white",
           "ticks": "",
           "title": {
            "standoff": 15
           },
           "zerolinecolor": "white",
           "zerolinewidth": 2
          },
          "yaxis": {
           "automargin": true,
           "gridcolor": "white",
           "linecolor": "white",
           "ticks": "",
           "title": {
            "standoff": 15
           },
           "zerolinecolor": "white",
           "zerolinewidth": 2
          }
         }
        },
        "xaxis": {
         "anchor": "y",
         "domain": [
          0,
          1
         ],
         "title": {
          "text": "x"
         }
        },
        "yaxis": {
         "anchor": "x",
         "domain": [
          0,
          1
         ],
         "title": {
          "text": "y"
         }
        }
       }
      }
     },
     "metadata": {},
     "output_type": "display_data"
    }
   ],
   "source": [
    "dividends_df = history_df[history_df.Dividends != 0]\n",
    "px.bar(history_df, x=dividends_df.index, y=dividends_df.Close)"
   ]
  },
  {
   "cell_type": "code",
   "execution_count": 12,
   "id": "ff8a37c19bdf1083",
   "metadata": {
    "ExecuteTime": {
     "end_time": "2023-08-03T01:41:48.113907201Z",
     "start_time": "2023-08-03T01:41:47.798384689Z"
    },
    "collapsed": false
   },
   "outputs": [
    {
     "data": {
      "text/html": [
       "<div>\n",
       "<style scoped>\n",
       "    .dataframe tbody tr th:only-of-type {\n",
       "        vertical-align: middle;\n",
       "    }\n",
       "\n",
       "    .dataframe tbody tr th {\n",
       "        vertical-align: top;\n",
       "    }\n",
       "\n",
       "    .dataframe thead th {\n",
       "        text-align: right;\n",
       "    }\n",
       "</style>\n",
       "<table border=\"1\" class=\"dataframe\">\n",
       "  <thead>\n",
       "    <tr style=\"text-align: right;\">\n",
       "      <th></th>\n",
       "      <th>Open</th>\n",
       "      <th>High</th>\n",
       "      <th>Low</th>\n",
       "      <th>Close</th>\n",
       "      <th>Volume</th>\n",
       "      <th>Dividends</th>\n",
       "      <th>Stock Splits</th>\n",
       "    </tr>\n",
       "    <tr>\n",
       "      <th>Date</th>\n",
       "      <th></th>\n",
       "      <th></th>\n",
       "      <th></th>\n",
       "      <th></th>\n",
       "      <th></th>\n",
       "      <th></th>\n",
       "      <th></th>\n",
       "    </tr>\n",
       "  </thead>\n",
       "  <tbody>\n",
       "    <tr>\n",
       "      <th>2023-03-01 00:00:00-03:00</th>\n",
       "      <td>9.614899</td>\n",
       "      <td>9.803797</td>\n",
       "      <td>9.558229</td>\n",
       "      <td>9.803797</td>\n",
       "      <td>15247548</td>\n",
       "      <td>0.120000</td>\n",
       "      <td>0.0</td>\n",
       "    </tr>\n",
       "    <tr>\n",
       "      <th>2023-04-01 00:00:00-03:00</th>\n",
       "      <td>9.853264</td>\n",
       "      <td>10.178202</td>\n",
       "      <td>9.805479</td>\n",
       "      <td>10.101746</td>\n",
       "      <td>11832614</td>\n",
       "      <td>0.120000</td>\n",
       "      <td>0.0</td>\n",
       "    </tr>\n",
       "    <tr>\n",
       "      <th>2023-05-01 00:00:00-03:00</th>\n",
       "      <td>10.219894</td>\n",
       "      <td>10.422938</td>\n",
       "      <td>10.026519</td>\n",
       "      <td>10.355257</td>\n",
       "      <td>18058366</td>\n",
       "      <td>0.120000</td>\n",
       "      <td>0.0</td>\n",
       "    </tr>\n",
       "    <tr>\n",
       "      <th>2023-06-01 00:00:00-03:00</th>\n",
       "      <td>10.366592</td>\n",
       "      <td>10.728445</td>\n",
       "      <td>10.278574</td>\n",
       "      <td>10.659986</td>\n",
       "      <td>25206357</td>\n",
       "      <td>0.119235</td>\n",
       "      <td>0.0</td>\n",
       "    </tr>\n",
       "    <tr>\n",
       "      <th>2023-07-01 00:00:00-03:00</th>\n",
       "      <td>10.651432</td>\n",
       "      <td>10.651432</td>\n",
       "      <td>10.315175</td>\n",
       "      <td>10.601982</td>\n",
       "      <td>21837231</td>\n",
       "      <td>0.120000</td>\n",
       "      <td>0.0</td>\n",
       "    </tr>\n",
       "    <tr>\n",
       "      <th>2023-08-01 00:00:00-03:00</th>\n",
       "      <td>10.600000</td>\n",
       "      <td>10.650000</td>\n",
       "      <td>0.000000</td>\n",
       "      <td>10.640000</td>\n",
       "      <td>723070</td>\n",
       "      <td>0.000000</td>\n",
       "      <td>0.0</td>\n",
       "    </tr>\n",
       "  </tbody>\n",
       "</table>\n",
       "</div>"
      ],
      "text/plain": [
       "                                Open       High        Low      Close  \\\n",
       "Date                                                                    \n",
       "2023-03-01 00:00:00-03:00   9.614899   9.803797   9.558229   9.803797   \n",
       "2023-04-01 00:00:00-03:00   9.853264  10.178202   9.805479  10.101746   \n",
       "2023-05-01 00:00:00-03:00  10.219894  10.422938  10.026519  10.355257   \n",
       "2023-06-01 00:00:00-03:00  10.366592  10.728445  10.278574  10.659986   \n",
       "2023-07-01 00:00:00-03:00  10.651432  10.651432  10.315175  10.601982   \n",
       "2023-08-01 00:00:00-03:00  10.600000  10.650000   0.000000  10.640000   \n",
       "\n",
       "                             Volume  Dividends  Stock Splits  \n",
       "Date                                                          \n",
       "2023-03-01 00:00:00-03:00  15247548   0.120000           0.0  \n",
       "2023-04-01 00:00:00-03:00  11832614   0.120000           0.0  \n",
       "2023-05-01 00:00:00-03:00  18058366   0.120000           0.0  \n",
       "2023-06-01 00:00:00-03:00  25206357   0.119235           0.0  \n",
       "2023-07-01 00:00:00-03:00  21837231   0.120000           0.0  \n",
       "2023-08-01 00:00:00-03:00    723070   0.000000           0.0  "
      ]
     },
     "execution_count": 12,
     "metadata": {},
     "output_type": "execute_result"
    }
   ],
   "source": [
    "history_df = mxrf11.history(period=\"6mo\", interval=\"1mo\")\n",
    "history_df"
   ]
  },
  {
   "cell_type": "code",
   "execution_count": 13,
   "id": "e2dec496d4ed6125",
   "metadata": {
    "ExecuteTime": {
     "end_time": "2023-08-03T01:45:45.520469663Z",
     "start_time": "2023-08-03T01:45:45.346799664Z"
    },
    "collapsed": false
   },
   "outputs": [
    {
     "data": {
      "application/vnd.plotly.v1+json": {
       "config": {
        "plotlyServerURL": "https://plot.ly"
       },
       "data": [
        {
         "alignmentgroup": "True",
         "hovertemplate": "x=%{x}<br>y=%{y}<extra></extra>",
         "legendgroup": "",
         "marker": {
          "color": "#636efa",
          "pattern": {
           "shape": ""
          }
         },
         "name": "",
         "offsetgroup": "",
         "orientation": "v",
         "showlegend": false,
         "textposition": "auto",
         "type": "bar",
         "x": [
          "2023-03-01T00:00:00-03:00",
          "2023-04-03T00:00:00-03:00",
          "2023-05-02T00:00:00-03:00",
          "2023-06-01T00:00:00-03:00",
          "2023-07-03T00:00:00-03:00"
         ],
         "xaxis": "x",
         "y": [
          0.12,
          0.12,
          0.12,
          0.119235,
          0.12
         ],
         "yaxis": "y"
        }
       ],
       "layout": {
        "barmode": "relative",
        "legend": {
         "tracegroupgap": 0
        },
        "margin": {
         "t": 60
        },
        "template": {
         "data": {
          "bar": [
           {
            "error_x": {
             "color": "#2a3f5f"
            },
            "error_y": {
             "color": "#2a3f5f"
            },
            "marker": {
             "line": {
              "color": "#E5ECF6",
              "width": 0.5
             },
             "pattern": {
              "fillmode": "overlay",
              "size": 10,
              "solidity": 0.2
             }
            },
            "type": "bar"
           }
          ],
          "barpolar": [
           {
            "marker": {
             "line": {
              "color": "#E5ECF6",
              "width": 0.5
             },
             "pattern": {
              "fillmode": "overlay",
              "size": 10,
              "solidity": 0.2
             }
            },
            "type": "barpolar"
           }
          ],
          "carpet": [
           {
            "aaxis": {
             "endlinecolor": "#2a3f5f",
             "gridcolor": "white",
             "linecolor": "white",
             "minorgridcolor": "white",
             "startlinecolor": "#2a3f5f"
            },
            "baxis": {
             "endlinecolor": "#2a3f5f",
             "gridcolor": "white",
             "linecolor": "white",
             "minorgridcolor": "white",
             "startlinecolor": "#2a3f5f"
            },
            "type": "carpet"
           }
          ],
          "choropleth": [
           {
            "colorbar": {
             "outlinewidth": 0,
             "ticks": ""
            },
            "type": "choropleth"
           }
          ],
          "contour": [
           {
            "colorbar": {
             "outlinewidth": 0,
             "ticks": ""
            },
            "colorscale": [
             [
              0,
              "#0d0887"
             ],
             [
              0.1111111111111111,
              "#46039f"
             ],
             [
              0.2222222222222222,
              "#7201a8"
             ],
             [
              0.3333333333333333,
              "#9c179e"
             ],
             [
              0.4444444444444444,
              "#bd3786"
             ],
             [
              0.5555555555555556,
              "#d8576b"
             ],
             [
              0.6666666666666666,
              "#ed7953"
             ],
             [
              0.7777777777777778,
              "#fb9f3a"
             ],
             [
              0.8888888888888888,
              "#fdca26"
             ],
             [
              1,
              "#f0f921"
             ]
            ],
            "type": "contour"
           }
          ],
          "contourcarpet": [
           {
            "colorbar": {
             "outlinewidth": 0,
             "ticks": ""
            },
            "type": "contourcarpet"
           }
          ],
          "heatmap": [
           {
            "colorbar": {
             "outlinewidth": 0,
             "ticks": ""
            },
            "colorscale": [
             [
              0,
              "#0d0887"
             ],
             [
              0.1111111111111111,
              "#46039f"
             ],
             [
              0.2222222222222222,
              "#7201a8"
             ],
             [
              0.3333333333333333,
              "#9c179e"
             ],
             [
              0.4444444444444444,
              "#bd3786"
             ],
             [
              0.5555555555555556,
              "#d8576b"
             ],
             [
              0.6666666666666666,
              "#ed7953"
             ],
             [
              0.7777777777777778,
              "#fb9f3a"
             ],
             [
              0.8888888888888888,
              "#fdca26"
             ],
             [
              1,
              "#f0f921"
             ]
            ],
            "type": "heatmap"
           }
          ],
          "heatmapgl": [
           {
            "colorbar": {
             "outlinewidth": 0,
             "ticks": ""
            },
            "colorscale": [
             [
              0,
              "#0d0887"
             ],
             [
              0.1111111111111111,
              "#46039f"
             ],
             [
              0.2222222222222222,
              "#7201a8"
             ],
             [
              0.3333333333333333,
              "#9c179e"
             ],
             [
              0.4444444444444444,
              "#bd3786"
             ],
             [
              0.5555555555555556,
              "#d8576b"
             ],
             [
              0.6666666666666666,
              "#ed7953"
             ],
             [
              0.7777777777777778,
              "#fb9f3a"
             ],
             [
              0.8888888888888888,
              "#fdca26"
             ],
             [
              1,
              "#f0f921"
             ]
            ],
            "type": "heatmapgl"
           }
          ],
          "histogram": [
           {
            "marker": {
             "pattern": {
              "fillmode": "overlay",
              "size": 10,
              "solidity": 0.2
             }
            },
            "type": "histogram"
           }
          ],
          "histogram2d": [
           {
            "colorbar": {
             "outlinewidth": 0,
             "ticks": ""
            },
            "colorscale": [
             [
              0,
              "#0d0887"
             ],
             [
              0.1111111111111111,
              "#46039f"
             ],
             [
              0.2222222222222222,
              "#7201a8"
             ],
             [
              0.3333333333333333,
              "#9c179e"
             ],
             [
              0.4444444444444444,
              "#bd3786"
             ],
             [
              0.5555555555555556,
              "#d8576b"
             ],
             [
              0.6666666666666666,
              "#ed7953"
             ],
             [
              0.7777777777777778,
              "#fb9f3a"
             ],
             [
              0.8888888888888888,
              "#fdca26"
             ],
             [
              1,
              "#f0f921"
             ]
            ],
            "type": "histogram2d"
           }
          ],
          "histogram2dcontour": [
           {
            "colorbar": {
             "outlinewidth": 0,
             "ticks": ""
            },
            "colorscale": [
             [
              0,
              "#0d0887"
             ],
             [
              0.1111111111111111,
              "#46039f"
             ],
             [
              0.2222222222222222,
              "#7201a8"
             ],
             [
              0.3333333333333333,
              "#9c179e"
             ],
             [
              0.4444444444444444,
              "#bd3786"
             ],
             [
              0.5555555555555556,
              "#d8576b"
             ],
             [
              0.6666666666666666,
              "#ed7953"
             ],
             [
              0.7777777777777778,
              "#fb9f3a"
             ],
             [
              0.8888888888888888,
              "#fdca26"
             ],
             [
              1,
              "#f0f921"
             ]
            ],
            "type": "histogram2dcontour"
           }
          ],
          "mesh3d": [
           {
            "colorbar": {
             "outlinewidth": 0,
             "ticks": ""
            },
            "type": "mesh3d"
           }
          ],
          "parcoords": [
           {
            "line": {
             "colorbar": {
              "outlinewidth": 0,
              "ticks": ""
             }
            },
            "type": "parcoords"
           }
          ],
          "pie": [
           {
            "automargin": true,
            "type": "pie"
           }
          ],
          "scatter": [
           {
            "fillpattern": {
             "fillmode": "overlay",
             "size": 10,
             "solidity": 0.2
            },
            "type": "scatter"
           }
          ],
          "scatter3d": [
           {
            "line": {
             "colorbar": {
              "outlinewidth": 0,
              "ticks": ""
             }
            },
            "marker": {
             "colorbar": {
              "outlinewidth": 0,
              "ticks": ""
             }
            },
            "type": "scatter3d"
           }
          ],
          "scattercarpet": [
           {
            "marker": {
             "colorbar": {
              "outlinewidth": 0,
              "ticks": ""
             }
            },
            "type": "scattercarpet"
           }
          ],
          "scattergeo": [
           {
            "marker": {
             "colorbar": {
              "outlinewidth": 0,
              "ticks": ""
             }
            },
            "type": "scattergeo"
           }
          ],
          "scattergl": [
           {
            "marker": {
             "colorbar": {
              "outlinewidth": 0,
              "ticks": ""
             }
            },
            "type": "scattergl"
           }
          ],
          "scattermapbox": [
           {
            "marker": {
             "colorbar": {
              "outlinewidth": 0,
              "ticks": ""
             }
            },
            "type": "scattermapbox"
           }
          ],
          "scatterpolar": [
           {
            "marker": {
             "colorbar": {
              "outlinewidth": 0,
              "ticks": ""
             }
            },
            "type": "scatterpolar"
           }
          ],
          "scatterpolargl": [
           {
            "marker": {
             "colorbar": {
              "outlinewidth": 0,
              "ticks": ""
             }
            },
            "type": "scatterpolargl"
           }
          ],
          "scatterternary": [
           {
            "marker": {
             "colorbar": {
              "outlinewidth": 0,
              "ticks": ""
             }
            },
            "type": "scatterternary"
           }
          ],
          "surface": [
           {
            "colorbar": {
             "outlinewidth": 0,
             "ticks": ""
            },
            "colorscale": [
             [
              0,
              "#0d0887"
             ],
             [
              0.1111111111111111,
              "#46039f"
             ],
             [
              0.2222222222222222,
              "#7201a8"
             ],
             [
              0.3333333333333333,
              "#9c179e"
             ],
             [
              0.4444444444444444,
              "#bd3786"
             ],
             [
              0.5555555555555556,
              "#d8576b"
             ],
             [
              0.6666666666666666,
              "#ed7953"
             ],
             [
              0.7777777777777778,
              "#fb9f3a"
             ],
             [
              0.8888888888888888,
              "#fdca26"
             ],
             [
              1,
              "#f0f921"
             ]
            ],
            "type": "surface"
           }
          ],
          "table": [
           {
            "cells": {
             "fill": {
              "color": "#EBF0F8"
             },
             "line": {
              "color": "white"
             }
            },
            "header": {
             "fill": {
              "color": "#C8D4E3"
             },
             "line": {
              "color": "white"
             }
            },
            "type": "table"
           }
          ]
         },
         "layout": {
          "annotationdefaults": {
           "arrowcolor": "#2a3f5f",
           "arrowhead": 0,
           "arrowwidth": 1
          },
          "autotypenumbers": "strict",
          "coloraxis": {
           "colorbar": {
            "outlinewidth": 0,
            "ticks": ""
           }
          },
          "colorscale": {
           "diverging": [
            [
             0,
             "#8e0152"
            ],
            [
             0.1,
             "#c51b7d"
            ],
            [
             0.2,
             "#de77ae"
            ],
            [
             0.3,
             "#f1b6da"
            ],
            [
             0.4,
             "#fde0ef"
            ],
            [
             0.5,
             "#f7f7f7"
            ],
            [
             0.6,
             "#e6f5d0"
            ],
            [
             0.7,
             "#b8e186"
            ],
            [
             0.8,
             "#7fbc41"
            ],
            [
             0.9,
             "#4d9221"
            ],
            [
             1,
             "#276419"
            ]
           ],
           "sequential": [
            [
             0,
             "#0d0887"
            ],
            [
             0.1111111111111111,
             "#46039f"
            ],
            [
             0.2222222222222222,
             "#7201a8"
            ],
            [
             0.3333333333333333,
             "#9c179e"
            ],
            [
             0.4444444444444444,
             "#bd3786"
            ],
            [
             0.5555555555555556,
             "#d8576b"
            ],
            [
             0.6666666666666666,
             "#ed7953"
            ],
            [
             0.7777777777777778,
             "#fb9f3a"
            ],
            [
             0.8888888888888888,
             "#fdca26"
            ],
            [
             1,
             "#f0f921"
            ]
           ],
           "sequentialminus": [
            [
             0,
             "#0d0887"
            ],
            [
             0.1111111111111111,
             "#46039f"
            ],
            [
             0.2222222222222222,
             "#7201a8"
            ],
            [
             0.3333333333333333,
             "#9c179e"
            ],
            [
             0.4444444444444444,
             "#bd3786"
            ],
            [
             0.5555555555555556,
             "#d8576b"
            ],
            [
             0.6666666666666666,
             "#ed7953"
            ],
            [
             0.7777777777777778,
             "#fb9f3a"
            ],
            [
             0.8888888888888888,
             "#fdca26"
            ],
            [
             1,
             "#f0f921"
            ]
           ]
          },
          "colorway": [
           "#636efa",
           "#EF553B",
           "#00cc96",
           "#ab63fa",
           "#FFA15A",
           "#19d3f3",
           "#FF6692",
           "#B6E880",
           "#FF97FF",
           "#FECB52"
          ],
          "font": {
           "color": "#2a3f5f"
          },
          "geo": {
           "bgcolor": "white",
           "lakecolor": "white",
           "landcolor": "#E5ECF6",
           "showlakes": true,
           "showland": true,
           "subunitcolor": "white"
          },
          "hoverlabel": {
           "align": "left"
          },
          "hovermode": "closest",
          "mapbox": {
           "style": "light"
          },
          "paper_bgcolor": "white",
          "plot_bgcolor": "#E5ECF6",
          "polar": {
           "angularaxis": {
            "gridcolor": "white",
            "linecolor": "white",
            "ticks": ""
           },
           "bgcolor": "#E5ECF6",
           "radialaxis": {
            "gridcolor": "white",
            "linecolor": "white",
            "ticks": ""
           }
          },
          "scene": {
           "xaxis": {
            "backgroundcolor": "#E5ECF6",
            "gridcolor": "white",
            "gridwidth": 2,
            "linecolor": "white",
            "showbackground": true,
            "ticks": "",
            "zerolinecolor": "white"
           },
           "yaxis": {
            "backgroundcolor": "#E5ECF6",
            "gridcolor": "white",
            "gridwidth": 2,
            "linecolor": "white",
            "showbackground": true,
            "ticks": "",
            "zerolinecolor": "white"
           },
           "zaxis": {
            "backgroundcolor": "#E5ECF6",
            "gridcolor": "white",
            "gridwidth": 2,
            "linecolor": "white",
            "showbackground": true,
            "ticks": "",
            "zerolinecolor": "white"
           }
          },
          "shapedefaults": {
           "line": {
            "color": "#2a3f5f"
           }
          },
          "ternary": {
           "aaxis": {
            "gridcolor": "white",
            "linecolor": "white",
            "ticks": ""
           },
           "baxis": {
            "gridcolor": "white",
            "linecolor": "white",
            "ticks": ""
           },
           "bgcolor": "#E5ECF6",
           "caxis": {
            "gridcolor": "white",
            "linecolor": "white",
            "ticks": ""
           }
          },
          "title": {
           "x": 0.05
          },
          "xaxis": {
           "automargin": true,
           "gridcolor": "white",
           "linecolor": "white",
           "ticks": "",
           "title": {
            "standoff": 15
           },
           "zerolinecolor": "white",
           "zerolinewidth": 2
          },
          "yaxis": {
           "automargin": true,
           "gridcolor": "white",
           "linecolor": "white",
           "ticks": "",
           "title": {
            "standoff": 15
           },
           "zerolinecolor": "white",
           "zerolinewidth": 2
          }
         }
        },
        "xaxis": {
         "anchor": "y",
         "domain": [
          0,
          1
         ],
         "title": {
          "text": "x"
         }
        },
        "yaxis": {
         "anchor": "x",
         "domain": [
          0,
          1
         ],
         "title": {
          "text": "y"
         }
        }
       }
      }
     },
     "metadata": {},
     "output_type": "display_data"
    }
   ],
   "source": [
    "fig = px.bar(history_df, x=dividends_df.index, y=dividends_df.Dividends)\n",
    "fig.show()"
   ]
  },
  {
   "cell_type": "markdown",
   "id": "2c4aed41",
   "metadata": {},
   "source": [
    "# Gráfico Candle Stick"
   ]
  },
  {
   "cell_type": "code",
   "execution_count": 50,
   "id": "16407a12",
   "metadata": {},
   "outputs": [],
   "source": [
    "aapl = yf.Ticker(\"AAPL\")\n",
    "history_df = aapl.history(period=\"1mo\", interval=\"1d\")"
   ]
  },
  {
   "cell_type": "code",
   "execution_count": 51,
   "id": "ecd2190f",
   "metadata": {},
   "outputs": [
    {
     "data": {
      "text/html": [
       "<div>\n",
       "<style scoped>\n",
       "    .dataframe tbody tr th:only-of-type {\n",
       "        vertical-align: middle;\n",
       "    }\n",
       "\n",
       "    .dataframe tbody tr th {\n",
       "        vertical-align: top;\n",
       "    }\n",
       "\n",
       "    .dataframe thead th {\n",
       "        text-align: right;\n",
       "    }\n",
       "</style>\n",
       "<table border=\"1\" class=\"dataframe\">\n",
       "  <thead>\n",
       "    <tr style=\"text-align: right;\">\n",
       "      <th></th>\n",
       "      <th>Open</th>\n",
       "      <th>High</th>\n",
       "      <th>Low</th>\n",
       "      <th>Close</th>\n",
       "      <th>Volume</th>\n",
       "      <th>Dividends</th>\n",
       "      <th>Stock Splits</th>\n",
       "    </tr>\n",
       "    <tr>\n",
       "      <th>Date</th>\n",
       "      <th></th>\n",
       "      <th></th>\n",
       "      <th></th>\n",
       "      <th></th>\n",
       "      <th></th>\n",
       "      <th></th>\n",
       "      <th></th>\n",
       "    </tr>\n",
       "  </thead>\n",
       "  <tbody>\n",
       "    <tr>\n",
       "      <th>2023-07-03 00:00:00-04:00</th>\n",
       "      <td>193.779999</td>\n",
       "      <td>193.880005</td>\n",
       "      <td>191.759995</td>\n",
       "      <td>192.460007</td>\n",
       "      <td>31458200</td>\n",
       "      <td>0.0</td>\n",
       "      <td>0.0</td>\n",
       "    </tr>\n",
       "    <tr>\n",
       "      <th>2023-07-05 00:00:00-04:00</th>\n",
       "      <td>191.570007</td>\n",
       "      <td>192.979996</td>\n",
       "      <td>190.619995</td>\n",
       "      <td>191.330002</td>\n",
       "      <td>46920300</td>\n",
       "      <td>0.0</td>\n",
       "      <td>0.0</td>\n",
       "    </tr>\n",
       "    <tr>\n",
       "      <th>2023-07-06 00:00:00-04:00</th>\n",
       "      <td>189.839996</td>\n",
       "      <td>192.020004</td>\n",
       "      <td>189.199997</td>\n",
       "      <td>191.809998</td>\n",
       "      <td>45094300</td>\n",
       "      <td>0.0</td>\n",
       "      <td>0.0</td>\n",
       "    </tr>\n",
       "    <tr>\n",
       "      <th>2023-07-07 00:00:00-04:00</th>\n",
       "      <td>191.410004</td>\n",
       "      <td>192.669998</td>\n",
       "      <td>190.240005</td>\n",
       "      <td>190.679993</td>\n",
       "      <td>46778000</td>\n",
       "      <td>0.0</td>\n",
       "      <td>0.0</td>\n",
       "    </tr>\n",
       "    <tr>\n",
       "      <th>2023-07-10 00:00:00-04:00</th>\n",
       "      <td>189.259995</td>\n",
       "      <td>189.990005</td>\n",
       "      <td>187.039993</td>\n",
       "      <td>188.610001</td>\n",
       "      <td>59922200</td>\n",
       "      <td>0.0</td>\n",
       "      <td>0.0</td>\n",
       "    </tr>\n",
       "    <tr>\n",
       "      <th>2023-07-11 00:00:00-04:00</th>\n",
       "      <td>189.160004</td>\n",
       "      <td>189.300003</td>\n",
       "      <td>186.600006</td>\n",
       "      <td>188.080002</td>\n",
       "      <td>46638100</td>\n",
       "      <td>0.0</td>\n",
       "      <td>0.0</td>\n",
       "    </tr>\n",
       "    <tr>\n",
       "      <th>2023-07-12 00:00:00-04:00</th>\n",
       "      <td>189.679993</td>\n",
       "      <td>191.699997</td>\n",
       "      <td>188.470001</td>\n",
       "      <td>189.770004</td>\n",
       "      <td>60750200</td>\n",
       "      <td>0.0</td>\n",
       "      <td>0.0</td>\n",
       "    </tr>\n",
       "    <tr>\n",
       "      <th>2023-07-13 00:00:00-04:00</th>\n",
       "      <td>190.500000</td>\n",
       "      <td>191.190002</td>\n",
       "      <td>189.779999</td>\n",
       "      <td>190.539993</td>\n",
       "      <td>41342300</td>\n",
       "      <td>0.0</td>\n",
       "      <td>0.0</td>\n",
       "    </tr>\n",
       "    <tr>\n",
       "      <th>2023-07-14 00:00:00-04:00</th>\n",
       "      <td>190.229996</td>\n",
       "      <td>191.179993</td>\n",
       "      <td>189.630005</td>\n",
       "      <td>190.690002</td>\n",
       "      <td>41573900</td>\n",
       "      <td>0.0</td>\n",
       "      <td>0.0</td>\n",
       "    </tr>\n",
       "    <tr>\n",
       "      <th>2023-07-17 00:00:00-04:00</th>\n",
       "      <td>191.899994</td>\n",
       "      <td>194.320007</td>\n",
       "      <td>191.809998</td>\n",
       "      <td>193.990005</td>\n",
       "      <td>50520200</td>\n",
       "      <td>0.0</td>\n",
       "      <td>0.0</td>\n",
       "    </tr>\n",
       "    <tr>\n",
       "      <th>2023-07-18 00:00:00-04:00</th>\n",
       "      <td>193.350006</td>\n",
       "      <td>194.330002</td>\n",
       "      <td>192.419998</td>\n",
       "      <td>193.729996</td>\n",
       "      <td>48353800</td>\n",
       "      <td>0.0</td>\n",
       "      <td>0.0</td>\n",
       "    </tr>\n",
       "    <tr>\n",
       "      <th>2023-07-19 00:00:00-04:00</th>\n",
       "      <td>193.100006</td>\n",
       "      <td>198.229996</td>\n",
       "      <td>192.649994</td>\n",
       "      <td>195.100006</td>\n",
       "      <td>80507300</td>\n",
       "      <td>0.0</td>\n",
       "      <td>0.0</td>\n",
       "    </tr>\n",
       "    <tr>\n",
       "      <th>2023-07-20 00:00:00-04:00</th>\n",
       "      <td>195.089996</td>\n",
       "      <td>196.470001</td>\n",
       "      <td>192.500000</td>\n",
       "      <td>193.130005</td>\n",
       "      <td>59581200</td>\n",
       "      <td>0.0</td>\n",
       "      <td>0.0</td>\n",
       "    </tr>\n",
       "    <tr>\n",
       "      <th>2023-07-21 00:00:00-04:00</th>\n",
       "      <td>194.100006</td>\n",
       "      <td>194.970001</td>\n",
       "      <td>191.229996</td>\n",
       "      <td>191.940002</td>\n",
       "      <td>71917800</td>\n",
       "      <td>0.0</td>\n",
       "      <td>0.0</td>\n",
       "    </tr>\n",
       "    <tr>\n",
       "      <th>2023-07-24 00:00:00-04:00</th>\n",
       "      <td>193.410004</td>\n",
       "      <td>194.910004</td>\n",
       "      <td>192.250000</td>\n",
       "      <td>192.750000</td>\n",
       "      <td>45377800</td>\n",
       "      <td>0.0</td>\n",
       "      <td>0.0</td>\n",
       "    </tr>\n",
       "    <tr>\n",
       "      <th>2023-07-25 00:00:00-04:00</th>\n",
       "      <td>193.330002</td>\n",
       "      <td>194.440002</td>\n",
       "      <td>192.919998</td>\n",
       "      <td>193.619995</td>\n",
       "      <td>37283200</td>\n",
       "      <td>0.0</td>\n",
       "      <td>0.0</td>\n",
       "    </tr>\n",
       "    <tr>\n",
       "      <th>2023-07-26 00:00:00-04:00</th>\n",
       "      <td>193.669998</td>\n",
       "      <td>195.639999</td>\n",
       "      <td>193.320007</td>\n",
       "      <td>194.500000</td>\n",
       "      <td>47471900</td>\n",
       "      <td>0.0</td>\n",
       "      <td>0.0</td>\n",
       "    </tr>\n",
       "    <tr>\n",
       "      <th>2023-07-27 00:00:00-04:00</th>\n",
       "      <td>196.020004</td>\n",
       "      <td>197.199997</td>\n",
       "      <td>192.550003</td>\n",
       "      <td>193.220001</td>\n",
       "      <td>47460200</td>\n",
       "      <td>0.0</td>\n",
       "      <td>0.0</td>\n",
       "    </tr>\n",
       "    <tr>\n",
       "      <th>2023-07-28 00:00:00-04:00</th>\n",
       "      <td>194.669998</td>\n",
       "      <td>196.630005</td>\n",
       "      <td>194.139999</td>\n",
       "      <td>195.830002</td>\n",
       "      <td>48291400</td>\n",
       "      <td>0.0</td>\n",
       "      <td>0.0</td>\n",
       "    </tr>\n",
       "    <tr>\n",
       "      <th>2023-07-31 00:00:00-04:00</th>\n",
       "      <td>196.059998</td>\n",
       "      <td>196.490005</td>\n",
       "      <td>195.259995</td>\n",
       "      <td>196.449997</td>\n",
       "      <td>38824100</td>\n",
       "      <td>0.0</td>\n",
       "      <td>0.0</td>\n",
       "    </tr>\n",
       "    <tr>\n",
       "      <th>2023-08-01 00:00:00-04:00</th>\n",
       "      <td>196.240005</td>\n",
       "      <td>196.729996</td>\n",
       "      <td>195.279999</td>\n",
       "      <td>195.610001</td>\n",
       "      <td>35175100</td>\n",
       "      <td>0.0</td>\n",
       "      <td>0.0</td>\n",
       "    </tr>\n",
       "    <tr>\n",
       "      <th>2023-08-02 00:00:00-04:00</th>\n",
       "      <td>195.039993</td>\n",
       "      <td>195.179993</td>\n",
       "      <td>191.850006</td>\n",
       "      <td>192.580002</td>\n",
       "      <td>50241600</td>\n",
       "      <td>0.0</td>\n",
       "      <td>0.0</td>\n",
       "    </tr>\n",
       "  </tbody>\n",
       "</table>\n",
       "</div>"
      ],
      "text/plain": [
       "                                 Open        High         Low       Close  \\\n",
       "Date                                                                        \n",
       "2023-07-03 00:00:00-04:00  193.779999  193.880005  191.759995  192.460007   \n",
       "2023-07-05 00:00:00-04:00  191.570007  192.979996  190.619995  191.330002   \n",
       "2023-07-06 00:00:00-04:00  189.839996  192.020004  189.199997  191.809998   \n",
       "2023-07-07 00:00:00-04:00  191.410004  192.669998  190.240005  190.679993   \n",
       "2023-07-10 00:00:00-04:00  189.259995  189.990005  187.039993  188.610001   \n",
       "2023-07-11 00:00:00-04:00  189.160004  189.300003  186.600006  188.080002   \n",
       "2023-07-12 00:00:00-04:00  189.679993  191.699997  188.470001  189.770004   \n",
       "2023-07-13 00:00:00-04:00  190.500000  191.190002  189.779999  190.539993   \n",
       "2023-07-14 00:00:00-04:00  190.229996  191.179993  189.630005  190.690002   \n",
       "2023-07-17 00:00:00-04:00  191.899994  194.320007  191.809998  193.990005   \n",
       "2023-07-18 00:00:00-04:00  193.350006  194.330002  192.419998  193.729996   \n",
       "2023-07-19 00:00:00-04:00  193.100006  198.229996  192.649994  195.100006   \n",
       "2023-07-20 00:00:00-04:00  195.089996  196.470001  192.500000  193.130005   \n",
       "2023-07-21 00:00:00-04:00  194.100006  194.970001  191.229996  191.940002   \n",
       "2023-07-24 00:00:00-04:00  193.410004  194.910004  192.250000  192.750000   \n",
       "2023-07-25 00:00:00-04:00  193.330002  194.440002  192.919998  193.619995   \n",
       "2023-07-26 00:00:00-04:00  193.669998  195.639999  193.320007  194.500000   \n",
       "2023-07-27 00:00:00-04:00  196.020004  197.199997  192.550003  193.220001   \n",
       "2023-07-28 00:00:00-04:00  194.669998  196.630005  194.139999  195.830002   \n",
       "2023-07-31 00:00:00-04:00  196.059998  196.490005  195.259995  196.449997   \n",
       "2023-08-01 00:00:00-04:00  196.240005  196.729996  195.279999  195.610001   \n",
       "2023-08-02 00:00:00-04:00  195.039993  195.179993  191.850006  192.580002   \n",
       "\n",
       "                             Volume  Dividends  Stock Splits  \n",
       "Date                                                          \n",
       "2023-07-03 00:00:00-04:00  31458200        0.0           0.0  \n",
       "2023-07-05 00:00:00-04:00  46920300        0.0           0.0  \n",
       "2023-07-06 00:00:00-04:00  45094300        0.0           0.0  \n",
       "2023-07-07 00:00:00-04:00  46778000        0.0           0.0  \n",
       "2023-07-10 00:00:00-04:00  59922200        0.0           0.0  \n",
       "2023-07-11 00:00:00-04:00  46638100        0.0           0.0  \n",
       "2023-07-12 00:00:00-04:00  60750200        0.0           0.0  \n",
       "2023-07-13 00:00:00-04:00  41342300        0.0           0.0  \n",
       "2023-07-14 00:00:00-04:00  41573900        0.0           0.0  \n",
       "2023-07-17 00:00:00-04:00  50520200        0.0           0.0  \n",
       "2023-07-18 00:00:00-04:00  48353800        0.0           0.0  \n",
       "2023-07-19 00:00:00-04:00  80507300        0.0           0.0  \n",
       "2023-07-20 00:00:00-04:00  59581200        0.0           0.0  \n",
       "2023-07-21 00:00:00-04:00  71917800        0.0           0.0  \n",
       "2023-07-24 00:00:00-04:00  45377800        0.0           0.0  \n",
       "2023-07-25 00:00:00-04:00  37283200        0.0           0.0  \n",
       "2023-07-26 00:00:00-04:00  47471900        0.0           0.0  \n",
       "2023-07-27 00:00:00-04:00  47460200        0.0           0.0  \n",
       "2023-07-28 00:00:00-04:00  48291400        0.0           0.0  \n",
       "2023-07-31 00:00:00-04:00  38824100        0.0           0.0  \n",
       "2023-08-01 00:00:00-04:00  35175100        0.0           0.0  \n",
       "2023-08-02 00:00:00-04:00  50241600        0.0           0.0  "
      ]
     },
     "execution_count": 51,
     "metadata": {},
     "output_type": "execute_result"
    }
   ],
   "source": [
    "history_df"
   ]
  },
  {
   "cell_type": "code",
   "execution_count": 54,
   "id": "cf9e9ece",
   "metadata": {},
   "outputs": [
    {
     "data": {
      "application/vnd.plotly.v1+json": {
       "config": {
        "plotlyServerURL": "https://plot.ly"
       },
       "data": [
        {
         "close": [
          192.4600067138672,
          191.3300018310547,
          191.80999755859375,
          190.67999267578125,
          188.61000061035156,
          188.0800018310547,
          189.77000427246094,
          190.5399932861328,
          190.69000244140625,
          193.99000549316406,
          193.72999572753906,
          195.10000610351562,
          193.1300048828125,
          191.94000244140625,
          192.75,
          193.6199951171875,
          194.5,
          193.22000122070312,
          195.8300018310547,
          196.4499969482422,
          195.61000061035156,
          192.5800018310547
         ],
         "high": [
          193.8800048828125,
          192.97999572753906,
          192.02000427246094,
          192.6699981689453,
          189.99000549316406,
          189.3000030517578,
          191.6999969482422,
          191.19000244140625,
          191.17999267578125,
          194.32000732421875,
          194.3300018310547,
          198.22999572753906,
          196.47000122070312,
          194.97000122070312,
          194.91000366210938,
          194.44000244140625,
          195.63999938964844,
          197.1999969482422,
          196.6300048828125,
          196.49000549316406,
          196.72999572753906,
          195.17999267578125
         ],
         "low": [
          191.75999450683594,
          190.6199951171875,
          189.1999969482422,
          190.24000549316406,
          187.0399932861328,
          186.60000610351562,
          188.47000122070312,
          189.77999877929688,
          189.6300048828125,
          191.80999755859375,
          192.4199981689453,
          192.64999389648438,
          192.5,
          191.22999572753906,
          192.25,
          192.9199981689453,
          193.32000732421875,
          192.5500030517578,
          194.13999938964844,
          195.25999450683594,
          195.27999877929688,
          191.85000610351562
         ],
         "open": [
          193.77999877929688,
          191.57000732421875,
          189.83999633789062,
          191.41000366210938,
          189.25999450683594,
          189.16000366210938,
          189.67999267578125,
          190.5,
          190.22999572753906,
          191.89999389648438,
          193.35000610351562,
          193.10000610351562,
          195.08999633789062,
          194.10000610351562,
          193.41000366210938,
          193.3300018310547,
          193.6699981689453,
          196.02000427246094,
          194.6699981689453,
          196.05999755859375,
          196.24000549316406,
          195.0399932861328
         ],
         "type": "candlestick",
         "x": [
          "2023-07-03T00:00:00-04:00",
          "2023-07-05T00:00:00-04:00",
          "2023-07-06T00:00:00-04:00",
          "2023-07-07T00:00:00-04:00",
          "2023-07-10T00:00:00-04:00",
          "2023-07-11T00:00:00-04:00",
          "2023-07-12T00:00:00-04:00",
          "2023-07-13T00:00:00-04:00",
          "2023-07-14T00:00:00-04:00",
          "2023-07-17T00:00:00-04:00",
          "2023-07-18T00:00:00-04:00",
          "2023-07-19T00:00:00-04:00",
          "2023-07-20T00:00:00-04:00",
          "2023-07-21T00:00:00-04:00",
          "2023-07-24T00:00:00-04:00",
          "2023-07-25T00:00:00-04:00",
          "2023-07-26T00:00:00-04:00",
          "2023-07-27T00:00:00-04:00",
          "2023-07-28T00:00:00-04:00",
          "2023-07-31T00:00:00-04:00",
          "2023-08-01T00:00:00-04:00",
          "2023-08-02T00:00:00-04:00"
         ]
        }
       ],
       "layout": {
        "template": {
         "data": {
          "bar": [
           {
            "error_x": {
             "color": "#2a3f5f"
            },
            "error_y": {
             "color": "#2a3f5f"
            },
            "marker": {
             "line": {
              "color": "#E5ECF6",
              "width": 0.5
             },
             "pattern": {
              "fillmode": "overlay",
              "size": 10,
              "solidity": 0.2
             }
            },
            "type": "bar"
           }
          ],
          "barpolar": [
           {
            "marker": {
             "line": {
              "color": "#E5ECF6",
              "width": 0.5
             },
             "pattern": {
              "fillmode": "overlay",
              "size": 10,
              "solidity": 0.2
             }
            },
            "type": "barpolar"
           }
          ],
          "carpet": [
           {
            "aaxis": {
             "endlinecolor": "#2a3f5f",
             "gridcolor": "white",
             "linecolor": "white",
             "minorgridcolor": "white",
             "startlinecolor": "#2a3f5f"
            },
            "baxis": {
             "endlinecolor": "#2a3f5f",
             "gridcolor": "white",
             "linecolor": "white",
             "minorgridcolor": "white",
             "startlinecolor": "#2a3f5f"
            },
            "type": "carpet"
           }
          ],
          "choropleth": [
           {
            "colorbar": {
             "outlinewidth": 0,
             "ticks": ""
            },
            "type": "choropleth"
           }
          ],
          "contour": [
           {
            "colorbar": {
             "outlinewidth": 0,
             "ticks": ""
            },
            "colorscale": [
             [
              0,
              "#0d0887"
             ],
             [
              0.1111111111111111,
              "#46039f"
             ],
             [
              0.2222222222222222,
              "#7201a8"
             ],
             [
              0.3333333333333333,
              "#9c179e"
             ],
             [
              0.4444444444444444,
              "#bd3786"
             ],
             [
              0.5555555555555556,
              "#d8576b"
             ],
             [
              0.6666666666666666,
              "#ed7953"
             ],
             [
              0.7777777777777778,
              "#fb9f3a"
             ],
             [
              0.8888888888888888,
              "#fdca26"
             ],
             [
              1,
              "#f0f921"
             ]
            ],
            "type": "contour"
           }
          ],
          "contourcarpet": [
           {
            "colorbar": {
             "outlinewidth": 0,
             "ticks": ""
            },
            "type": "contourcarpet"
           }
          ],
          "heatmap": [
           {
            "colorbar": {
             "outlinewidth": 0,
             "ticks": ""
            },
            "colorscale": [
             [
              0,
              "#0d0887"
             ],
             [
              0.1111111111111111,
              "#46039f"
             ],
             [
              0.2222222222222222,
              "#7201a8"
             ],
             [
              0.3333333333333333,
              "#9c179e"
             ],
             [
              0.4444444444444444,
              "#bd3786"
             ],
             [
              0.5555555555555556,
              "#d8576b"
             ],
             [
              0.6666666666666666,
              "#ed7953"
             ],
             [
              0.7777777777777778,
              "#fb9f3a"
             ],
             [
              0.8888888888888888,
              "#fdca26"
             ],
             [
              1,
              "#f0f921"
             ]
            ],
            "type": "heatmap"
           }
          ],
          "heatmapgl": [
           {
            "colorbar": {
             "outlinewidth": 0,
             "ticks": ""
            },
            "colorscale": [
             [
              0,
              "#0d0887"
             ],
             [
              0.1111111111111111,
              "#46039f"
             ],
             [
              0.2222222222222222,
              "#7201a8"
             ],
             [
              0.3333333333333333,
              "#9c179e"
             ],
             [
              0.4444444444444444,
              "#bd3786"
             ],
             [
              0.5555555555555556,
              "#d8576b"
             ],
             [
              0.6666666666666666,
              "#ed7953"
             ],
             [
              0.7777777777777778,
              "#fb9f3a"
             ],
             [
              0.8888888888888888,
              "#fdca26"
             ],
             [
              1,
              "#f0f921"
             ]
            ],
            "type": "heatmapgl"
           }
          ],
          "histogram": [
           {
            "marker": {
             "pattern": {
              "fillmode": "overlay",
              "size": 10,
              "solidity": 0.2
             }
            },
            "type": "histogram"
           }
          ],
          "histogram2d": [
           {
            "colorbar": {
             "outlinewidth": 0,
             "ticks": ""
            },
            "colorscale": [
             [
              0,
              "#0d0887"
             ],
             [
              0.1111111111111111,
              "#46039f"
             ],
             [
              0.2222222222222222,
              "#7201a8"
             ],
             [
              0.3333333333333333,
              "#9c179e"
             ],
             [
              0.4444444444444444,
              "#bd3786"
             ],
             [
              0.5555555555555556,
              "#d8576b"
             ],
             [
              0.6666666666666666,
              "#ed7953"
             ],
             [
              0.7777777777777778,
              "#fb9f3a"
             ],
             [
              0.8888888888888888,
              "#fdca26"
             ],
             [
              1,
              "#f0f921"
             ]
            ],
            "type": "histogram2d"
           }
          ],
          "histogram2dcontour": [
           {
            "colorbar": {
             "outlinewidth": 0,
             "ticks": ""
            },
            "colorscale": [
             [
              0,
              "#0d0887"
             ],
             [
              0.1111111111111111,
              "#46039f"
             ],
             [
              0.2222222222222222,
              "#7201a8"
             ],
             [
              0.3333333333333333,
              "#9c179e"
             ],
             [
              0.4444444444444444,
              "#bd3786"
             ],
             [
              0.5555555555555556,
              "#d8576b"
             ],
             [
              0.6666666666666666,
              "#ed7953"
             ],
             [
              0.7777777777777778,
              "#fb9f3a"
             ],
             [
              0.8888888888888888,
              "#fdca26"
             ],
             [
              1,
              "#f0f921"
             ]
            ],
            "type": "histogram2dcontour"
           }
          ],
          "mesh3d": [
           {
            "colorbar": {
             "outlinewidth": 0,
             "ticks": ""
            },
            "type": "mesh3d"
           }
          ],
          "parcoords": [
           {
            "line": {
             "colorbar": {
              "outlinewidth": 0,
              "ticks": ""
             }
            },
            "type": "parcoords"
           }
          ],
          "pie": [
           {
            "automargin": true,
            "type": "pie"
           }
          ],
          "scatter": [
           {
            "fillpattern": {
             "fillmode": "overlay",
             "size": 10,
             "solidity": 0.2
            },
            "type": "scatter"
           }
          ],
          "scatter3d": [
           {
            "line": {
             "colorbar": {
              "outlinewidth": 0,
              "ticks": ""
             }
            },
            "marker": {
             "colorbar": {
              "outlinewidth": 0,
              "ticks": ""
             }
            },
            "type": "scatter3d"
           }
          ],
          "scattercarpet": [
           {
            "marker": {
             "colorbar": {
              "outlinewidth": 0,
              "ticks": ""
             }
            },
            "type": "scattercarpet"
           }
          ],
          "scattergeo": [
           {
            "marker": {
             "colorbar": {
              "outlinewidth": 0,
              "ticks": ""
             }
            },
            "type": "scattergeo"
           }
          ],
          "scattergl": [
           {
            "marker": {
             "colorbar": {
              "outlinewidth": 0,
              "ticks": ""
             }
            },
            "type": "scattergl"
           }
          ],
          "scattermapbox": [
           {
            "marker": {
             "colorbar": {
              "outlinewidth": 0,
              "ticks": ""
             }
            },
            "type": "scattermapbox"
           }
          ],
          "scatterpolar": [
           {
            "marker": {
             "colorbar": {
              "outlinewidth": 0,
              "ticks": ""
             }
            },
            "type": "scatterpolar"
           }
          ],
          "scatterpolargl": [
           {
            "marker": {
             "colorbar": {
              "outlinewidth": 0,
              "ticks": ""
             }
            },
            "type": "scatterpolargl"
           }
          ],
          "scatterternary": [
           {
            "marker": {
             "colorbar": {
              "outlinewidth": 0,
              "ticks": ""
             }
            },
            "type": "scatterternary"
           }
          ],
          "surface": [
           {
            "colorbar": {
             "outlinewidth": 0,
             "ticks": ""
            },
            "colorscale": [
             [
              0,
              "#0d0887"
             ],
             [
              0.1111111111111111,
              "#46039f"
             ],
             [
              0.2222222222222222,
              "#7201a8"
             ],
             [
              0.3333333333333333,
              "#9c179e"
             ],
             [
              0.4444444444444444,
              "#bd3786"
             ],
             [
              0.5555555555555556,
              "#d8576b"
             ],
             [
              0.6666666666666666,
              "#ed7953"
             ],
             [
              0.7777777777777778,
              "#fb9f3a"
             ],
             [
              0.8888888888888888,
              "#fdca26"
             ],
             [
              1,
              "#f0f921"
             ]
            ],
            "type": "surface"
           }
          ],
          "table": [
           {
            "cells": {
             "fill": {
              "color": "#EBF0F8"
             },
             "line": {
              "color": "white"
             }
            },
            "header": {
             "fill": {
              "color": "#C8D4E3"
             },
             "line": {
              "color": "white"
             }
            },
            "type": "table"
           }
          ]
         },
         "layout": {
          "annotationdefaults": {
           "arrowcolor": "#2a3f5f",
           "arrowhead": 0,
           "arrowwidth": 1
          },
          "autotypenumbers": "strict",
          "coloraxis": {
           "colorbar": {
            "outlinewidth": 0,
            "ticks": ""
           }
          },
          "colorscale": {
           "diverging": [
            [
             0,
             "#8e0152"
            ],
            [
             0.1,
             "#c51b7d"
            ],
            [
             0.2,
             "#de77ae"
            ],
            [
             0.3,
             "#f1b6da"
            ],
            [
             0.4,
             "#fde0ef"
            ],
            [
             0.5,
             "#f7f7f7"
            ],
            [
             0.6,
             "#e6f5d0"
            ],
            [
             0.7,
             "#b8e186"
            ],
            [
             0.8,
             "#7fbc41"
            ],
            [
             0.9,
             "#4d9221"
            ],
            [
             1,
             "#276419"
            ]
           ],
           "sequential": [
            [
             0,
             "#0d0887"
            ],
            [
             0.1111111111111111,
             "#46039f"
            ],
            [
             0.2222222222222222,
             "#7201a8"
            ],
            [
             0.3333333333333333,
             "#9c179e"
            ],
            [
             0.4444444444444444,
             "#bd3786"
            ],
            [
             0.5555555555555556,
             "#d8576b"
            ],
            [
             0.6666666666666666,
             "#ed7953"
            ],
            [
             0.7777777777777778,
             "#fb9f3a"
            ],
            [
             0.8888888888888888,
             "#fdca26"
            ],
            [
             1,
             "#f0f921"
            ]
           ],
           "sequentialminus": [
            [
             0,
             "#0d0887"
            ],
            [
             0.1111111111111111,
             "#46039f"
            ],
            [
             0.2222222222222222,
             "#7201a8"
            ],
            [
             0.3333333333333333,
             "#9c179e"
            ],
            [
             0.4444444444444444,
             "#bd3786"
            ],
            [
             0.5555555555555556,
             "#d8576b"
            ],
            [
             0.6666666666666666,
             "#ed7953"
            ],
            [
             0.7777777777777778,
             "#fb9f3a"
            ],
            [
             0.8888888888888888,
             "#fdca26"
            ],
            [
             1,
             "#f0f921"
            ]
           ]
          },
          "colorway": [
           "#636efa",
           "#EF553B",
           "#00cc96",
           "#ab63fa",
           "#FFA15A",
           "#19d3f3",
           "#FF6692",
           "#B6E880",
           "#FF97FF",
           "#FECB52"
          ],
          "font": {
           "color": "#2a3f5f"
          },
          "geo": {
           "bgcolor": "white",
           "lakecolor": "white",
           "landcolor": "#E5ECF6",
           "showlakes": true,
           "showland": true,
           "subunitcolor": "white"
          },
          "hoverlabel": {
           "align": "left"
          },
          "hovermode": "closest",
          "mapbox": {
           "style": "light"
          },
          "paper_bgcolor": "white",
          "plot_bgcolor": "#E5ECF6",
          "polar": {
           "angularaxis": {
            "gridcolor": "white",
            "linecolor": "white",
            "ticks": ""
           },
           "bgcolor": "#E5ECF6",
           "radialaxis": {
            "gridcolor": "white",
            "linecolor": "white",
            "ticks": ""
           }
          },
          "scene": {
           "xaxis": {
            "backgroundcolor": "#E5ECF6",
            "gridcolor": "white",
            "gridwidth": 2,
            "linecolor": "white",
            "showbackground": true,
            "ticks": "",
            "zerolinecolor": "white"
           },
           "yaxis": {
            "backgroundcolor": "#E5ECF6",
            "gridcolor": "white",
            "gridwidth": 2,
            "linecolor": "white",
            "showbackground": true,
            "ticks": "",
            "zerolinecolor": "white"
           },
           "zaxis": {
            "backgroundcolor": "#E5ECF6",
            "gridcolor": "white",
            "gridwidth": 2,
            "linecolor": "white",
            "showbackground": true,
            "ticks": "",
            "zerolinecolor": "white"
           }
          },
          "shapedefaults": {
           "line": {
            "color": "#2a3f5f"
           }
          },
          "ternary": {
           "aaxis": {
            "gridcolor": "white",
            "linecolor": "white",
            "ticks": ""
           },
           "baxis": {
            "gridcolor": "white",
            "linecolor": "white",
            "ticks": ""
           },
           "bgcolor": "#E5ECF6",
           "caxis": {
            "gridcolor": "white",
            "linecolor": "white",
            "ticks": ""
           }
          },
          "title": {
           "x": 0.05
          },
          "xaxis": {
           "automargin": true,
           "gridcolor": "white",
           "linecolor": "white",
           "ticks": "",
           "title": {
            "standoff": 15
           },
           "zerolinecolor": "white",
           "zerolinewidth": 2
          },
          "yaxis": {
           "automargin": true,
           "gridcolor": "white",
           "linecolor": "white",
           "ticks": "",
           "title": {
            "standoff": 15
           },
           "zerolinecolor": "white",
           "zerolinewidth": 2
          }
         }
        }
       }
      }
     },
     "metadata": {},
     "output_type": "display_data"
    }
   ],
   "source": [
    "fig = go.Figure(data=[\n",
    "    go.Candlestick(\n",
    "        x=history_df.index,\n",
    "        open=history_df[\"Open\"],\n",
    "        high=history_df[\"High\"],\n",
    "        low=history_df[\"Low\"],\n",
    "        close=history_df[\"Close\"],\n",
    "    )\n",
    "])\n",
    "fig"
   ]
  },
  {
   "cell_type": "code",
   "execution_count": null,
   "id": "dc147a6e",
   "metadata": {},
   "outputs": [],
   "source": []
  }
 ],
 "metadata": {
  "kernelspec": {
   "display_name": "Python 3",
   "language": "python",
   "name": "python3"
  },
  "language_info": {
   "codemirror_mode": {
    "name": "ipython",
    "version": 3
   },
   "file_extension": ".py",
   "mimetype": "text/x-python",
   "name": "python",
   "nbconvert_exporter": "python",
   "pygments_lexer": "ipython3",
   "version": "3.11.4"
  }
 },
 "nbformat": 4,
 "nbformat_minor": 5
}
